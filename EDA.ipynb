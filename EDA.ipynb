{
 "cells": [
  {
   "cell_type": "code",
   "execution_count": 39,
   "id": "7bac48af",
   "metadata": {},
   "outputs": [],
   "source": [
    "library(readxl)\n",
    "library(tidyverse)"
   ]
  },
  {
   "cell_type": "code",
   "execution_count": 40,
   "id": "1bcadd5f",
   "metadata": {},
   "outputs": [],
   "source": [
    "data <- read_excel(\"train.xlsx\")"
   ]
  },
  {
   "cell_type": "code",
   "execution_count": 41,
   "id": "5c90e40a",
   "metadata": {},
   "outputs": [
    {
     "data": {
      "text/html": [
       "<table class=\"dataframe\">\n",
       "<caption>A tibble: 6 × 45</caption>\n",
       "<thead>\n",
       "\t<tr><th scope=col>Patient Id</th><th scope=col>Patient Age</th><th scope=col>Genes in mother's side</th><th scope=col>Inherited from father</th><th scope=col>Maternal gene</th><th scope=col>Paternal gene</th><th scope=col>Blood cell count (mcL)</th><th scope=col>Patient First Name</th><th scope=col>Family Name</th><th scope=col>Father's name</th><th scope=col>⋯</th><th scope=col>Birth defects</th><th scope=col>White Blood cell count (thousand per microliter)</th><th scope=col>Blood test result</th><th scope=col>Symptom 1</th><th scope=col>Symptom 2</th><th scope=col>Symptom 3</th><th scope=col>Symptom 4</th><th scope=col>Symptom 5</th><th scope=col>Genetic Disorder</th><th scope=col>Disorder Subclass</th></tr>\n",
       "\t<tr><th scope=col>&lt;chr&gt;</th><th scope=col>&lt;dbl&gt;</th><th scope=col>&lt;chr&gt;</th><th scope=col>&lt;chr&gt;</th><th scope=col>&lt;chr&gt;</th><th scope=col>&lt;chr&gt;</th><th scope=col>&lt;dbl&gt;</th><th scope=col>&lt;chr&gt;</th><th scope=col>&lt;chr&gt;</th><th scope=col>&lt;chr&gt;</th><th scope=col>⋯</th><th scope=col>&lt;chr&gt;</th><th scope=col>&lt;dbl&gt;</th><th scope=col>&lt;chr&gt;</th><th scope=col>&lt;dbl&gt;</th><th scope=col>&lt;dbl&gt;</th><th scope=col>&lt;dbl&gt;</th><th scope=col>&lt;dbl&gt;</th><th scope=col>&lt;dbl&gt;</th><th scope=col>&lt;chr&gt;</th><th scope=col>&lt;chr&gt;</th></tr>\n",
       "</thead>\n",
       "<tbody>\n",
       "\t<tr><td>PID0x6418</td><td> 2</td><td>Yes</td><td>No </td><td>Yes</td><td>No </td><td>4.760603</td><td>Richard </td><td>NA       </td><td>Larre   </td><td>⋯</td><td>NA      </td><td> 9.857562</td><td>NA          </td><td>1</td><td> 1</td><td>1</td><td>1</td><td> 1</td><td>Mitochondrial genetic inheritance disorders </td><td>Leber's hereditary optic neuropathy</td></tr>\n",
       "\t<tr><td>PID0x25d5</td><td> 4</td><td>Yes</td><td>Yes</td><td>No </td><td>No </td><td>4.910669</td><td>Mike    </td><td>NA       </td><td>Brycen  </td><td>⋯</td><td>Multiple</td><td> 5.522560</td><td>normal      </td><td>1</td><td>NA</td><td>1</td><td>1</td><td> 0</td><td>NA                                          </td><td>Cystic fibrosis                    </td></tr>\n",
       "\t<tr><td>PID0x4a82</td><td> 6</td><td>Yes</td><td>No </td><td>No </td><td>No </td><td>4.893297</td><td>Kimberly</td><td>NA       </td><td>Nashon  </td><td>⋯</td><td>Singular</td><td>       NA</td><td>normal      </td><td>0</td><td> 1</td><td>1</td><td>1</td><td> 1</td><td>Multifactorial genetic inheritance disorders</td><td>Diabetes                           </td></tr>\n",
       "\t<tr><td>PID0x4ac8</td><td>12</td><td>Yes</td><td>No </td><td>Yes</td><td>No </td><td>4.705280</td><td>Jeffery </td><td>Hoelscher</td><td>Aayaan  </td><td>⋯</td><td>Singular</td><td> 7.919321</td><td>inconclusive</td><td>0</td><td> 0</td><td>1</td><td>0</td><td> 0</td><td>Mitochondrial genetic inheritance disorders </td><td>Leigh syndrome                     </td></tr>\n",
       "\t<tr><td>PID0x1bf7</td><td>11</td><td>Yes</td><td>No </td><td>NA </td><td>Yes</td><td>4.720703</td><td>Johanna </td><td>Stutzman </td><td>Suave   </td><td>⋯</td><td>Multiple</td><td> 4.098210</td><td>NA          </td><td>0</td><td> 0</td><td>0</td><td>0</td><td>NA</td><td>Multifactorial genetic inheritance disorders</td><td>Cancer                             </td></tr>\n",
       "\t<tr><td>PID0x44fe</td><td>14</td><td>Yes</td><td>No </td><td>Yes</td><td>No </td><td>5.103188</td><td>Richard </td><td>NA       </td><td>Coleston</td><td>⋯</td><td>Multiple</td><td>10.272230</td><td>normal      </td><td>1</td><td> 0</td><td>0</td><td>1</td><td> 0</td><td>Single-gene inheritance diseases            </td><td>Cystic fibrosis                    </td></tr>\n",
       "</tbody>\n",
       "</table>\n"
      ],
      "text/latex": [
       "A tibble: 6 × 45\n",
       "\\begin{tabular}{lllllllllllllllllllll}\n",
       " Patient Id & Patient Age & Genes in mother's side & Inherited from father & Maternal gene & Paternal gene & Blood cell count (mcL) & Patient First Name & Family Name & Father's name & ⋯ & Birth defects & White Blood cell count (thousand per microliter) & Blood test result & Symptom 1 & Symptom 2 & Symptom 3 & Symptom 4 & Symptom 5 & Genetic Disorder & Disorder Subclass\\\\\n",
       " <chr> & <dbl> & <chr> & <chr> & <chr> & <chr> & <dbl> & <chr> & <chr> & <chr> & ⋯ & <chr> & <dbl> & <chr> & <dbl> & <dbl> & <dbl> & <dbl> & <dbl> & <chr> & <chr>\\\\\n",
       "\\hline\n",
       "\t PID0x6418 &  2 & Yes & No  & Yes & No  & 4.760603 & Richard  & NA        & Larre    & ⋯ & NA       &  9.857562 & NA           & 1 &  1 & 1 & 1 &  1 & Mitochondrial genetic inheritance disorders  & Leber's hereditary optic neuropathy\\\\\n",
       "\t PID0x25d5 &  4 & Yes & Yes & No  & No  & 4.910669 & Mike     & NA        & Brycen   & ⋯ & Multiple &  5.522560 & normal       & 1 & NA & 1 & 1 &  0 & NA                                           & Cystic fibrosis                    \\\\\n",
       "\t PID0x4a82 &  6 & Yes & No  & No  & No  & 4.893297 & Kimberly & NA        & Nashon   & ⋯ & Singular &        NA & normal       & 0 &  1 & 1 & 1 &  1 & Multifactorial genetic inheritance disorders & Diabetes                           \\\\\n",
       "\t PID0x4ac8 & 12 & Yes & No  & Yes & No  & 4.705280 & Jeffery  & Hoelscher & Aayaan   & ⋯ & Singular &  7.919321 & inconclusive & 0 &  0 & 1 & 0 &  0 & Mitochondrial genetic inheritance disorders  & Leigh syndrome                     \\\\\n",
       "\t PID0x1bf7 & 11 & Yes & No  & NA  & Yes & 4.720703 & Johanna  & Stutzman  & Suave    & ⋯ & Multiple &  4.098210 & NA           & 0 &  0 & 0 & 0 & NA & Multifactorial genetic inheritance disorders & Cancer                             \\\\\n",
       "\t PID0x44fe & 14 & Yes & No  & Yes & No  & 5.103188 & Richard  & NA        & Coleston & ⋯ & Multiple & 10.272230 & normal       & 1 &  0 & 0 & 1 &  0 & Single-gene inheritance diseases             & Cystic fibrosis                    \\\\\n",
       "\\end{tabular}\n"
      ],
      "text/markdown": [
       "\n",
       "A tibble: 6 × 45\n",
       "\n",
       "| Patient Id &lt;chr&gt; | Patient Age &lt;dbl&gt; | Genes in mother's side &lt;chr&gt; | Inherited from father &lt;chr&gt; | Maternal gene &lt;chr&gt; | Paternal gene &lt;chr&gt; | Blood cell count (mcL) &lt;dbl&gt; | Patient First Name &lt;chr&gt; | Family Name &lt;chr&gt; | Father's name &lt;chr&gt; | ⋯ ⋯ | Birth defects &lt;chr&gt; | White Blood cell count (thousand per microliter) &lt;dbl&gt; | Blood test result &lt;chr&gt; | Symptom 1 &lt;dbl&gt; | Symptom 2 &lt;dbl&gt; | Symptom 3 &lt;dbl&gt; | Symptom 4 &lt;dbl&gt; | Symptom 5 &lt;dbl&gt; | Genetic Disorder &lt;chr&gt; | Disorder Subclass &lt;chr&gt; |\n",
       "|---|---|---|---|---|---|---|---|---|---|---|---|---|---|---|---|---|---|---|---|---|\n",
       "| PID0x6418 |  2 | Yes | No  | Yes | No  | 4.760603 | Richard  | NA        | Larre    | ⋯ | NA       |  9.857562 | NA           | 1 |  1 | 1 | 1 |  1 | Mitochondrial genetic inheritance disorders  | Leber's hereditary optic neuropathy |\n",
       "| PID0x25d5 |  4 | Yes | Yes | No  | No  | 4.910669 | Mike     | NA        | Brycen   | ⋯ | Multiple |  5.522560 | normal       | 1 | NA | 1 | 1 |  0 | NA                                           | Cystic fibrosis                     |\n",
       "| PID0x4a82 |  6 | Yes | No  | No  | No  | 4.893297 | Kimberly | NA        | Nashon   | ⋯ | Singular |        NA | normal       | 0 |  1 | 1 | 1 |  1 | Multifactorial genetic inheritance disorders | Diabetes                            |\n",
       "| PID0x4ac8 | 12 | Yes | No  | Yes | No  | 4.705280 | Jeffery  | Hoelscher | Aayaan   | ⋯ | Singular |  7.919321 | inconclusive | 0 |  0 | 1 | 0 |  0 | Mitochondrial genetic inheritance disorders  | Leigh syndrome                      |\n",
       "| PID0x1bf7 | 11 | Yes | No  | NA  | Yes | 4.720703 | Johanna  | Stutzman  | Suave    | ⋯ | Multiple |  4.098210 | NA           | 0 |  0 | 0 | 0 | NA | Multifactorial genetic inheritance disorders | Cancer                              |\n",
       "| PID0x44fe | 14 | Yes | No  | Yes | No  | 5.103188 | Richard  | NA        | Coleston | ⋯ | Multiple | 10.272230 | normal       | 1 |  0 | 0 | 1 |  0 | Single-gene inheritance diseases             | Cystic fibrosis                     |\n",
       "\n"
      ],
      "text/plain": [
       "  Patient Id Patient Age Genes in mother's side Inherited from father\n",
       "1 PID0x6418   2          Yes                    No                   \n",
       "2 PID0x25d5   4          Yes                    Yes                  \n",
       "3 PID0x4a82   6          Yes                    No                   \n",
       "4 PID0x4ac8  12          Yes                    No                   \n",
       "5 PID0x1bf7  11          Yes                    No                   \n",
       "6 PID0x44fe  14          Yes                    No                   \n",
       "  Maternal gene Paternal gene Blood cell count (mcL) Patient First Name\n",
       "1 Yes           No            4.760603               Richard           \n",
       "2 No            No            4.910669               Mike              \n",
       "3 No            No            4.893297               Kimberly          \n",
       "4 Yes           No            4.705280               Jeffery           \n",
       "5 NA            Yes           4.720703               Johanna           \n",
       "6 Yes           No            5.103188               Richard           \n",
       "  Family Name Father's name ⋯ Birth defects\n",
       "1 NA          Larre         ⋯ NA           \n",
       "2 NA          Brycen        ⋯ Multiple     \n",
       "3 NA          Nashon        ⋯ Singular     \n",
       "4 Hoelscher   Aayaan        ⋯ Singular     \n",
       "5 Stutzman    Suave         ⋯ Multiple     \n",
       "6 NA          Coleston      ⋯ Multiple     \n",
       "  White Blood cell count (thousand per microliter) Blood test result Symptom 1\n",
       "1  9.857562                                        NA                1        \n",
       "2  5.522560                                        normal            1        \n",
       "3        NA                                        normal            0        \n",
       "4  7.919321                                        inconclusive      0        \n",
       "5  4.098210                                        NA                0        \n",
       "6 10.272230                                        normal            1        \n",
       "  Symptom 2 Symptom 3 Symptom 4 Symptom 5\n",
       "1  1        1         1          1       \n",
       "2 NA        1         1          0       \n",
       "3  1        1         1          1       \n",
       "4  0        1         0          0       \n",
       "5  0        0         0         NA       \n",
       "6  0        0         1          0       \n",
       "  Genetic Disorder                            \n",
       "1 Mitochondrial genetic inheritance disorders \n",
       "2 NA                                          \n",
       "3 Multifactorial genetic inheritance disorders\n",
       "4 Mitochondrial genetic inheritance disorders \n",
       "5 Multifactorial genetic inheritance disorders\n",
       "6 Single-gene inheritance diseases            \n",
       "  Disorder Subclass                  \n",
       "1 Leber's hereditary optic neuropathy\n",
       "2 Cystic fibrosis                    \n",
       "3 Diabetes                           \n",
       "4 Leigh syndrome                     \n",
       "5 Cancer                             \n",
       "6 Cystic fibrosis                    "
      ]
     },
     "metadata": {},
     "output_type": "display_data"
    }
   ],
   "source": [
    "head(data)"
   ]
  },
  {
   "cell_type": "code",
   "execution_count": 42,
   "id": "9e051f9b",
   "metadata": {},
   "outputs": [
    {
     "data": {
      "text/html": [
       "<table class=\"dataframe\">\n",
       "<caption>A tibble: 6 × 45</caption>\n",
       "<thead>\n",
       "\t<tr><th scope=col>Patient Id</th><th scope=col>Patient Age</th><th scope=col>Genes in mother's side</th><th scope=col>Inherited from father</th><th scope=col>Maternal gene</th><th scope=col>Paternal gene</th><th scope=col>Blood cell count (mcL)</th><th scope=col>Patient First Name</th><th scope=col>Family Name</th><th scope=col>Father's name</th><th scope=col>⋯</th><th scope=col>Birth defects</th><th scope=col>White Blood cell count (thousand per microliter)</th><th scope=col>Blood test result</th><th scope=col>Symptom 1</th><th scope=col>Symptom 2</th><th scope=col>Symptom 3</th><th scope=col>Symptom 4</th><th scope=col>Symptom 5</th><th scope=col>Genetic Disorder</th><th scope=col>Disorder Subclass</th></tr>\n",
       "\t<tr><th scope=col>&lt;chr&gt;</th><th scope=col>&lt;dbl&gt;</th><th scope=col>&lt;dbl&gt;</th><th scope=col>&lt;dbl&gt;</th><th scope=col>&lt;dbl&gt;</th><th scope=col>&lt;dbl&gt;</th><th scope=col>&lt;dbl&gt;</th><th scope=col>&lt;chr&gt;</th><th scope=col>&lt;chr&gt;</th><th scope=col>&lt;chr&gt;</th><th scope=col>⋯</th><th scope=col>&lt;chr&gt;</th><th scope=col>&lt;dbl&gt;</th><th scope=col>&lt;chr&gt;</th><th scope=col>&lt;dbl&gt;</th><th scope=col>&lt;dbl&gt;</th><th scope=col>&lt;dbl&gt;</th><th scope=col>&lt;dbl&gt;</th><th scope=col>&lt;dbl&gt;</th><th scope=col>&lt;chr&gt;</th><th scope=col>&lt;chr&gt;</th></tr>\n",
       "</thead>\n",
       "<tbody>\n",
       "\t<tr><td>PID0x6418</td><td> 2</td><td>1</td><td>0</td><td> 1</td><td>0</td><td>4.760603</td><td>Richard </td><td>NA       </td><td>Larre   </td><td>⋯</td><td>NA      </td><td> 9.857562</td><td>NA          </td><td>1</td><td> 1</td><td>1</td><td>1</td><td> 1</td><td>Mitochondrial genetic inheritance disorders </td><td>Leber's hereditary optic neuropathy</td></tr>\n",
       "\t<tr><td>PID0x25d5</td><td> 4</td><td>1</td><td>1</td><td> 0</td><td>0</td><td>4.910669</td><td>Mike    </td><td>NA       </td><td>Brycen  </td><td>⋯</td><td>Multiple</td><td> 5.522560</td><td>normal      </td><td>1</td><td>NA</td><td>1</td><td>1</td><td> 0</td><td>NA                                          </td><td>Cystic fibrosis                    </td></tr>\n",
       "\t<tr><td>PID0x4a82</td><td> 6</td><td>1</td><td>0</td><td> 0</td><td>0</td><td>4.893297</td><td>Kimberly</td><td>NA       </td><td>Nashon  </td><td>⋯</td><td>Singular</td><td>       NA</td><td>normal      </td><td>0</td><td> 1</td><td>1</td><td>1</td><td> 1</td><td>Multifactorial genetic inheritance disorders</td><td>Diabetes                           </td></tr>\n",
       "\t<tr><td>PID0x4ac8</td><td>12</td><td>1</td><td>0</td><td> 1</td><td>0</td><td>4.705280</td><td>Jeffery </td><td>Hoelscher</td><td>Aayaan  </td><td>⋯</td><td>Singular</td><td> 7.919321</td><td>inconclusive</td><td>0</td><td> 0</td><td>1</td><td>0</td><td> 0</td><td>Mitochondrial genetic inheritance disorders </td><td>Leigh syndrome                     </td></tr>\n",
       "\t<tr><td>PID0x1bf7</td><td>11</td><td>1</td><td>0</td><td>NA</td><td>1</td><td>4.720703</td><td>Johanna </td><td>Stutzman </td><td>Suave   </td><td>⋯</td><td>Multiple</td><td> 4.098210</td><td>NA          </td><td>0</td><td> 0</td><td>0</td><td>0</td><td>NA</td><td>Multifactorial genetic inheritance disorders</td><td>Cancer                             </td></tr>\n",
       "\t<tr><td>PID0x44fe</td><td>14</td><td>1</td><td>0</td><td> 1</td><td>0</td><td>5.103188</td><td>Richard </td><td>NA       </td><td>Coleston</td><td>⋯</td><td>Multiple</td><td>10.272230</td><td>normal      </td><td>1</td><td> 0</td><td>0</td><td>1</td><td> 0</td><td>Single-gene inheritance diseases            </td><td>Cystic fibrosis                    </td></tr>\n",
       "</tbody>\n",
       "</table>\n"
      ],
      "text/latex": [
       "A tibble: 6 × 45\n",
       "\\begin{tabular}{lllllllllllllllllllll}\n",
       " Patient Id & Patient Age & Genes in mother's side & Inherited from father & Maternal gene & Paternal gene & Blood cell count (mcL) & Patient First Name & Family Name & Father's name & ⋯ & Birth defects & White Blood cell count (thousand per microliter) & Blood test result & Symptom 1 & Symptom 2 & Symptom 3 & Symptom 4 & Symptom 5 & Genetic Disorder & Disorder Subclass\\\\\n",
       " <chr> & <dbl> & <dbl> & <dbl> & <dbl> & <dbl> & <dbl> & <chr> & <chr> & <chr> & ⋯ & <chr> & <dbl> & <chr> & <dbl> & <dbl> & <dbl> & <dbl> & <dbl> & <chr> & <chr>\\\\\n",
       "\\hline\n",
       "\t PID0x6418 &  2 & 1 & 0 &  1 & 0 & 4.760603 & Richard  & NA        & Larre    & ⋯ & NA       &  9.857562 & NA           & 1 &  1 & 1 & 1 &  1 & Mitochondrial genetic inheritance disorders  & Leber's hereditary optic neuropathy\\\\\n",
       "\t PID0x25d5 &  4 & 1 & 1 &  0 & 0 & 4.910669 & Mike     & NA        & Brycen   & ⋯ & Multiple &  5.522560 & normal       & 1 & NA & 1 & 1 &  0 & NA                                           & Cystic fibrosis                    \\\\\n",
       "\t PID0x4a82 &  6 & 1 & 0 &  0 & 0 & 4.893297 & Kimberly & NA        & Nashon   & ⋯ & Singular &        NA & normal       & 0 &  1 & 1 & 1 &  1 & Multifactorial genetic inheritance disorders & Diabetes                           \\\\\n",
       "\t PID0x4ac8 & 12 & 1 & 0 &  1 & 0 & 4.705280 & Jeffery  & Hoelscher & Aayaan   & ⋯ & Singular &  7.919321 & inconclusive & 0 &  0 & 1 & 0 &  0 & Mitochondrial genetic inheritance disorders  & Leigh syndrome                     \\\\\n",
       "\t PID0x1bf7 & 11 & 1 & 0 & NA & 1 & 4.720703 & Johanna  & Stutzman  & Suave    & ⋯ & Multiple &  4.098210 & NA           & 0 &  0 & 0 & 0 & NA & Multifactorial genetic inheritance disorders & Cancer                             \\\\\n",
       "\t PID0x44fe & 14 & 1 & 0 &  1 & 0 & 5.103188 & Richard  & NA        & Coleston & ⋯ & Multiple & 10.272230 & normal       & 1 &  0 & 0 & 1 &  0 & Single-gene inheritance diseases             & Cystic fibrosis                    \\\\\n",
       "\\end{tabular}\n"
      ],
      "text/markdown": [
       "\n",
       "A tibble: 6 × 45\n",
       "\n",
       "| Patient Id &lt;chr&gt; | Patient Age &lt;dbl&gt; | Genes in mother's side &lt;dbl&gt; | Inherited from father &lt;dbl&gt; | Maternal gene &lt;dbl&gt; | Paternal gene &lt;dbl&gt; | Blood cell count (mcL) &lt;dbl&gt; | Patient First Name &lt;chr&gt; | Family Name &lt;chr&gt; | Father's name &lt;chr&gt; | ⋯ ⋯ | Birth defects &lt;chr&gt; | White Blood cell count (thousand per microliter) &lt;dbl&gt; | Blood test result &lt;chr&gt; | Symptom 1 &lt;dbl&gt; | Symptom 2 &lt;dbl&gt; | Symptom 3 &lt;dbl&gt; | Symptom 4 &lt;dbl&gt; | Symptom 5 &lt;dbl&gt; | Genetic Disorder &lt;chr&gt; | Disorder Subclass &lt;chr&gt; |\n",
       "|---|---|---|---|---|---|---|---|---|---|---|---|---|---|---|---|---|---|---|---|---|\n",
       "| PID0x6418 |  2 | 1 | 0 |  1 | 0 | 4.760603 | Richard  | NA        | Larre    | ⋯ | NA       |  9.857562 | NA           | 1 |  1 | 1 | 1 |  1 | Mitochondrial genetic inheritance disorders  | Leber's hereditary optic neuropathy |\n",
       "| PID0x25d5 |  4 | 1 | 1 |  0 | 0 | 4.910669 | Mike     | NA        | Brycen   | ⋯ | Multiple |  5.522560 | normal       | 1 | NA | 1 | 1 |  0 | NA                                           | Cystic fibrosis                     |\n",
       "| PID0x4a82 |  6 | 1 | 0 |  0 | 0 | 4.893297 | Kimberly | NA        | Nashon   | ⋯ | Singular |        NA | normal       | 0 |  1 | 1 | 1 |  1 | Multifactorial genetic inheritance disorders | Diabetes                            |\n",
       "| PID0x4ac8 | 12 | 1 | 0 |  1 | 0 | 4.705280 | Jeffery  | Hoelscher | Aayaan   | ⋯ | Singular |  7.919321 | inconclusive | 0 |  0 | 1 | 0 |  0 | Mitochondrial genetic inheritance disorders  | Leigh syndrome                      |\n",
       "| PID0x1bf7 | 11 | 1 | 0 | NA | 1 | 4.720703 | Johanna  | Stutzman  | Suave    | ⋯ | Multiple |  4.098210 | NA           | 0 |  0 | 0 | 0 | NA | Multifactorial genetic inheritance disorders | Cancer                              |\n",
       "| PID0x44fe | 14 | 1 | 0 |  1 | 0 | 5.103188 | Richard  | NA        | Coleston | ⋯ | Multiple | 10.272230 | normal       | 1 |  0 | 0 | 1 |  0 | Single-gene inheritance diseases             | Cystic fibrosis                     |\n",
       "\n"
      ],
      "text/plain": [
       "  Patient Id Patient Age Genes in mother's side Inherited from father\n",
       "1 PID0x6418   2          1                      0                    \n",
       "2 PID0x25d5   4          1                      1                    \n",
       "3 PID0x4a82   6          1                      0                    \n",
       "4 PID0x4ac8  12          1                      0                    \n",
       "5 PID0x1bf7  11          1                      0                    \n",
       "6 PID0x44fe  14          1                      0                    \n",
       "  Maternal gene Paternal gene Blood cell count (mcL) Patient First Name\n",
       "1  1            0             4.760603               Richard           \n",
       "2  0            0             4.910669               Mike              \n",
       "3  0            0             4.893297               Kimberly          \n",
       "4  1            0             4.705280               Jeffery           \n",
       "5 NA            1             4.720703               Johanna           \n",
       "6  1            0             5.103188               Richard           \n",
       "  Family Name Father's name ⋯ Birth defects\n",
       "1 NA          Larre         ⋯ NA           \n",
       "2 NA          Brycen        ⋯ Multiple     \n",
       "3 NA          Nashon        ⋯ Singular     \n",
       "4 Hoelscher   Aayaan        ⋯ Singular     \n",
       "5 Stutzman    Suave         ⋯ Multiple     \n",
       "6 NA          Coleston      ⋯ Multiple     \n",
       "  White Blood cell count (thousand per microliter) Blood test result Symptom 1\n",
       "1  9.857562                                        NA                1        \n",
       "2  5.522560                                        normal            1        \n",
       "3        NA                                        normal            0        \n",
       "4  7.919321                                        inconclusive      0        \n",
       "5  4.098210                                        NA                0        \n",
       "6 10.272230                                        normal            1        \n",
       "  Symptom 2 Symptom 3 Symptom 4 Symptom 5\n",
       "1  1        1         1          1       \n",
       "2 NA        1         1          0       \n",
       "3  1        1         1          1       \n",
       "4  0        1         0          0       \n",
       "5  0        0         0         NA       \n",
       "6  0        0         1          0       \n",
       "  Genetic Disorder                            \n",
       "1 Mitochondrial genetic inheritance disorders \n",
       "2 NA                                          \n",
       "3 Multifactorial genetic inheritance disorders\n",
       "4 Mitochondrial genetic inheritance disorders \n",
       "5 Multifactorial genetic inheritance disorders\n",
       "6 Single-gene inheritance diseases            \n",
       "  Disorder Subclass                  \n",
       "1 Leber's hereditary optic neuropathy\n",
       "2 Cystic fibrosis                    \n",
       "3 Diabetes                           \n",
       "4 Leigh syndrome                     \n",
       "5 Cancer                             \n",
       "6 Cystic fibrosis                    "
      ]
     },
     "metadata": {},
     "output_type": "display_data"
    }
   ],
   "source": [
    "data$\"Genes in mother's side\"<-ifelse(data$\"Genes in mother's side\"==\"Yes\",1,0)\n",
    "data$\"Inherited from father\"<-ifelse(data$\"Inherited from father\"==\"Yes\",1,0)\n",
    "data$\"Maternal gene\"<-ifelse(data$\"Maternal gene\"==\"Yes\",1,0)\n",
    "data$\"Paternal gene\"<-ifelse(data$\"Paternal gene\"==\"Yes\",1,0)\n",
    "head(data)"
   ]
  },
  {
   "cell_type": "code",
   "execution_count": 43,
   "id": "b0b6f520",
   "metadata": {
    "scrolled": false
   },
   "outputs": [
    {
     "data": {
      "text/plain": [
       "  Patient Id         Patient Age     Genes in mother's side\n",
       " Length:22083       Min.   : 0.000   Min.   :0.0000        \n",
       " Class :character   1st Qu.: 3.000   1st Qu.:0.0000        \n",
       " Mode  :character   Median : 7.000   Median :1.0000        \n",
       "                    Mean   : 6.974   Mean   :0.5952        \n",
       "                    3rd Qu.:11.000   3rd Qu.:1.0000        \n",
       "                    Max.   :14.000   Max.   :1.0000        \n",
       "                    NA's   :1427                           \n",
       " Inherited from father Maternal gene    Paternal gene    Blood cell count (mcL)\n",
       " Min.   :0.0000        Min.   :0.0000   Min.   :0.0000   Min.   :4.093         \n",
       " 1st Qu.:0.0000        1st Qu.:0.0000   1st Qu.:0.0000   1st Qu.:4.763         \n",
       " Median :0.0000        Median :1.0000   Median :0.0000   Median :4.899         \n",
       " Mean   :0.3969        Mean   :0.5524   Mean   :0.4336   Mean   :4.899         \n",
       " 3rd Qu.:1.0000        3rd Qu.:1.0000   3rd Qu.:1.0000   3rd Qu.:5.034         \n",
       " Max.   :1.0000        Max.   :1.0000   Max.   :1.0000   Max.   :5.610         \n",
       " NA's   :306           NA's   :2810                                            \n",
       " Patient First Name Family Name        Father's name       Mother's age  \n",
       " Length:22083       Length:22083       Length:22083       Min.   :18.00  \n",
       " Class :character   Class :character   Class :character   1st Qu.:26.00  \n",
       " Mode  :character   Mode  :character   Mode  :character   Median :35.00  \n",
       "                                                          Mean   :34.53  \n",
       "                                                          3rd Qu.:43.00  \n",
       "                                                          Max.   :51.00  \n",
       "                                                          NA's   :6036   \n",
       "  Father's age   Institute Name     Location of Institute    Status         \n",
       " Min.   :20.00   Length:22083       Length:22083          Length:22083      \n",
       " 1st Qu.:31.00   Class :character   Class :character      Class :character  \n",
       " Median :42.00   Mode  :character   Mode  :character      Mode  :character  \n",
       " Mean   :41.97                                                              \n",
       " 3rd Qu.:53.00                                                              \n",
       " Max.   :64.00                                                              \n",
       " NA's   :5986                                                               \n",
       " Respiratory Rate (breaths/min) Heart Rate (rates/min     Test 1    \n",
       " Length:22083                   Length:22083          Min.   :0     \n",
       " Class :character               Class :character      1st Qu.:0     \n",
       " Mode  :character               Mode  :character      Median :0     \n",
       "                                                      Mean   :0     \n",
       "                                                      3rd Qu.:0     \n",
       "                                                      Max.   :0     \n",
       "                                                      NA's   :2127  \n",
       "     Test 2         Test 3         Test 4         Test 5     Parental consent  \n",
       " Min.   :0      Min.   :0      Min.   :1      Min.   :0      Length:22083      \n",
       " 1st Qu.:0      1st Qu.:0      1st Qu.:1      1st Qu.:0      Class :character  \n",
       " Median :0      Median :0      Median :1      Median :0      Mode  :character  \n",
       " Mean   :0      Mean   :0      Mean   :1      Mean   :0                        \n",
       " 3rd Qu.:0      3rd Qu.:0      3rd Qu.:1      3rd Qu.:0                        \n",
       " Max.   :0      Max.   :0      Max.   :1      Max.   :0                        \n",
       " NA's   :2152   NA's   :2147   NA's   :2140   NA's   :2170                     \n",
       "  Follow-up            Gender          Birth asphyxia    \n",
       " Length:22083       Length:22083       Length:22083      \n",
       " Class :character   Class :character   Class :character  \n",
       " Mode  :character   Mode  :character   Mode  :character  \n",
       "                                                         \n",
       "                                                         \n",
       "                                                         \n",
       "                                                         \n",
       " Autopsy shows birth defect (if applicable) Place of birth    \n",
       " Length:22083                               Length:22083      \n",
       " Class :character                           Class :character  \n",
       " Mode  :character                           Mode  :character  \n",
       "                                                              \n",
       "                                                              \n",
       "                                                              \n",
       "                                                              \n",
       " Folic acid details (peri-conceptional) H/O serious maternal illness\n",
       " Length:22083                           Length:22083                \n",
       " Class :character                       Class :character            \n",
       " Mode  :character                       Mode  :character            \n",
       "                                                                    \n",
       "                                                                    \n",
       "                                                                    \n",
       "                                                                    \n",
       " H/O radiation exposure (x-ray) H/O substance abuse Assisted conception IVF/ART\n",
       " Length:22083                   Length:22083        Length:22083               \n",
       " Class :character               Class :character    Class :character           \n",
       " Mode  :character               Mode  :character    Mode  :character           \n",
       "                                                                               \n",
       "                                                                               \n",
       "                                                                               \n",
       "                                                                               \n",
       " History of anomalies in previous pregnancies No. of previous abortion\n",
       " Length:22083                                 Min.   :0.000           \n",
       " Class :character                             1st Qu.:1.000           \n",
       " Mode  :character                             Median :2.000           \n",
       "                                              Mean   :2.003           \n",
       "                                              3rd Qu.:3.000           \n",
       "                                              Max.   :4.000           \n",
       "                                              NA's   :2162            \n",
       " Birth defects      White Blood cell count (thousand per microliter)\n",
       " Length:22083       Min.   : 3.000                                  \n",
       " Class :character   1st Qu.: 5.425                                  \n",
       " Mode  :character   Median : 7.477                                  \n",
       "                    Mean   : 7.486                                  \n",
       "                    3rd Qu.: 9.526                                  \n",
       "                    Max.   :12.000                                  \n",
       "                    NA's   :2148                                    \n",
       " Blood test result    Symptom 1        Symptom 2        Symptom 3     \n",
       " Length:22083       Min.   :0.0000   Min.   :0.0000   Min.   :0.0000  \n",
       " Class :character   1st Qu.:0.0000   1st Qu.:0.0000   1st Qu.:0.0000  \n",
       " Mode  :character   Median :1.0000   Median :1.0000   Median :1.0000  \n",
       "                    Mean   :0.5925   Mean   :0.5519   Mean   :0.5362  \n",
       "                    3rd Qu.:1.0000   3rd Qu.:1.0000   3rd Qu.:1.0000  \n",
       "                    Max.   :1.0000   Max.   :1.0000   Max.   :1.0000  \n",
       "                    NA's   :2155     NA's   :2222     NA's   :2101    \n",
       "   Symptom 4        Symptom 5      Genetic Disorder   Disorder Subclass \n",
       " Min.   :0.0000   Min.   :0.0000   Length:22083       Length:22083      \n",
       " 1st Qu.:0.0000   1st Qu.:0.0000   Class :character   Class :character  \n",
       " Median :0.0000   Median :0.0000   Mode  :character   Mode  :character  \n",
       " Mean   :0.4977   Mean   :0.4619                                        \n",
       " 3rd Qu.:1.0000   3rd Qu.:1.0000                                        \n",
       " Max.   :1.0000   Max.   :1.0000                                        \n",
       " NA's   :2113     NA's   :2153                                          "
      ]
     },
     "metadata": {},
     "output_type": "display_data"
    }
   ],
   "source": [
    "summary(data)"
   ]
  },
  {
   "cell_type": "code",
   "execution_count": 44,
   "id": "efe72657",
   "metadata": {},
   "outputs": [],
   "source": [
    "drop <- c(\"Patient Id\",\"Genes in mother's side\",\"Patient First Name\",\"Family Name\",\"Father's name\",\"Institute Name\",\"Location of Institute\")\n",
    "data = data[,!(names(data) %in% drop)]"
   ]
  },
  {
   "cell_type": "code",
   "execution_count": 45,
   "id": "92d3b93f",
   "metadata": {},
   "outputs": [
    {
     "data": {
      "text/html": [
       "<table class=\"dataframe\">\n",
       "<caption>A tibble: 6 × 38</caption>\n",
       "<thead>\n",
       "\t<tr><th scope=col>Patient Age</th><th scope=col>Inherited from father</th><th scope=col>Maternal gene</th><th scope=col>Paternal gene</th><th scope=col>Blood cell count (mcL)</th><th scope=col>Mother's age</th><th scope=col>Father's age</th><th scope=col>Status</th><th scope=col>Respiratory Rate (breaths/min)</th><th scope=col>Heart Rate (rates/min</th><th scope=col>⋯</th><th scope=col>Birth defects</th><th scope=col>White Blood cell count (thousand per microliter)</th><th scope=col>Blood test result</th><th scope=col>Symptom 1</th><th scope=col>Symptom 2</th><th scope=col>Symptom 3</th><th scope=col>Symptom 4</th><th scope=col>Symptom 5</th><th scope=col>Genetic Disorder</th><th scope=col>Disorder Subclass</th></tr>\n",
       "\t<tr><th scope=col>&lt;dbl&gt;</th><th scope=col>&lt;dbl&gt;</th><th scope=col>&lt;dbl&gt;</th><th scope=col>&lt;dbl&gt;</th><th scope=col>&lt;dbl&gt;</th><th scope=col>&lt;dbl&gt;</th><th scope=col>&lt;dbl&gt;</th><th scope=col>&lt;chr&gt;</th><th scope=col>&lt;chr&gt;</th><th scope=col>&lt;chr&gt;</th><th scope=col>⋯</th><th scope=col>&lt;chr&gt;</th><th scope=col>&lt;dbl&gt;</th><th scope=col>&lt;chr&gt;</th><th scope=col>&lt;dbl&gt;</th><th scope=col>&lt;dbl&gt;</th><th scope=col>&lt;dbl&gt;</th><th scope=col>&lt;dbl&gt;</th><th scope=col>&lt;dbl&gt;</th><th scope=col>&lt;chr&gt;</th><th scope=col>&lt;chr&gt;</th></tr>\n",
       "</thead>\n",
       "<tbody>\n",
       "\t<tr><td> 2</td><td>0</td><td> 1</td><td>0</td><td>4.760603</td><td>NA</td><td>NA</td><td>Alive   </td><td>Normal (30-60)</td><td>Normal     </td><td>⋯</td><td>NA      </td><td> 9.857562</td><td>NA          </td><td>1</td><td> 1</td><td>1</td><td>1</td><td> 1</td><td>Mitochondrial genetic inheritance disorders </td><td>Leber's hereditary optic neuropathy</td></tr>\n",
       "\t<tr><td> 4</td><td>1</td><td> 0</td><td>0</td><td>4.910669</td><td>NA</td><td>23</td><td>Deceased</td><td>Tachypnea     </td><td>Normal     </td><td>⋯</td><td>Multiple</td><td> 5.522560</td><td>normal      </td><td>1</td><td>NA</td><td>1</td><td>1</td><td> 0</td><td>NA                                          </td><td>Cystic fibrosis                    </td></tr>\n",
       "\t<tr><td> 6</td><td>0</td><td> 0</td><td>0</td><td>4.893297</td><td>41</td><td>22</td><td>Alive   </td><td>Normal (30-60)</td><td>Tachycardia</td><td>⋯</td><td>Singular</td><td>       NA</td><td>normal      </td><td>0</td><td> 1</td><td>1</td><td>1</td><td> 1</td><td>Multifactorial genetic inheritance disorders</td><td>Diabetes                           </td></tr>\n",
       "\t<tr><td>12</td><td>0</td><td> 1</td><td>0</td><td>4.705280</td><td>21</td><td>NA</td><td>Deceased</td><td>Tachypnea     </td><td>Normal     </td><td>⋯</td><td>Singular</td><td> 7.919321</td><td>inconclusive</td><td>0</td><td> 0</td><td>1</td><td>0</td><td> 0</td><td>Mitochondrial genetic inheritance disorders </td><td>Leigh syndrome                     </td></tr>\n",
       "\t<tr><td>11</td><td>0</td><td>NA</td><td>1</td><td>4.720703</td><td>32</td><td>NA</td><td>Alive   </td><td>Tachypnea     </td><td>Tachycardia</td><td>⋯</td><td>Multiple</td><td> 4.098210</td><td>NA          </td><td>0</td><td> 0</td><td>0</td><td>0</td><td>NA</td><td>Multifactorial genetic inheritance disorders</td><td>Cancer                             </td></tr>\n",
       "\t<tr><td>14</td><td>0</td><td> 1</td><td>0</td><td>5.103188</td><td>NA</td><td>NA</td><td>Deceased</td><td>NA            </td><td>Normal     </td><td>⋯</td><td>Multiple</td><td>10.272230</td><td>normal      </td><td>1</td><td> 0</td><td>0</td><td>1</td><td> 0</td><td>Single-gene inheritance diseases            </td><td>Cystic fibrosis                    </td></tr>\n",
       "</tbody>\n",
       "</table>\n"
      ],
      "text/latex": [
       "A tibble: 6 × 38\n",
       "\\begin{tabular}{lllllllllllllllllllll}\n",
       " Patient Age & Inherited from father & Maternal gene & Paternal gene & Blood cell count (mcL) & Mother's age & Father's age & Status & Respiratory Rate (breaths/min) & Heart Rate (rates/min & ⋯ & Birth defects & White Blood cell count (thousand per microliter) & Blood test result & Symptom 1 & Symptom 2 & Symptom 3 & Symptom 4 & Symptom 5 & Genetic Disorder & Disorder Subclass\\\\\n",
       " <dbl> & <dbl> & <dbl> & <dbl> & <dbl> & <dbl> & <dbl> & <chr> & <chr> & <chr> & ⋯ & <chr> & <dbl> & <chr> & <dbl> & <dbl> & <dbl> & <dbl> & <dbl> & <chr> & <chr>\\\\\n",
       "\\hline\n",
       "\t  2 & 0 &  1 & 0 & 4.760603 & NA & NA & Alive    & Normal (30-60) & Normal      & ⋯ & NA       &  9.857562 & NA           & 1 &  1 & 1 & 1 &  1 & Mitochondrial genetic inheritance disorders  & Leber's hereditary optic neuropathy\\\\\n",
       "\t  4 & 1 &  0 & 0 & 4.910669 & NA & 23 & Deceased & Tachypnea      & Normal      & ⋯ & Multiple &  5.522560 & normal       & 1 & NA & 1 & 1 &  0 & NA                                           & Cystic fibrosis                    \\\\\n",
       "\t  6 & 0 &  0 & 0 & 4.893297 & 41 & 22 & Alive    & Normal (30-60) & Tachycardia & ⋯ & Singular &        NA & normal       & 0 &  1 & 1 & 1 &  1 & Multifactorial genetic inheritance disorders & Diabetes                           \\\\\n",
       "\t 12 & 0 &  1 & 0 & 4.705280 & 21 & NA & Deceased & Tachypnea      & Normal      & ⋯ & Singular &  7.919321 & inconclusive & 0 &  0 & 1 & 0 &  0 & Mitochondrial genetic inheritance disorders  & Leigh syndrome                     \\\\\n",
       "\t 11 & 0 & NA & 1 & 4.720703 & 32 & NA & Alive    & Tachypnea      & Tachycardia & ⋯ & Multiple &  4.098210 & NA           & 0 &  0 & 0 & 0 & NA & Multifactorial genetic inheritance disorders & Cancer                             \\\\\n",
       "\t 14 & 0 &  1 & 0 & 5.103188 & NA & NA & Deceased & NA             & Normal      & ⋯ & Multiple & 10.272230 & normal       & 1 &  0 & 0 & 1 &  0 & Single-gene inheritance diseases             & Cystic fibrosis                    \\\\\n",
       "\\end{tabular}\n"
      ],
      "text/markdown": [
       "\n",
       "A tibble: 6 × 38\n",
       "\n",
       "| Patient Age &lt;dbl&gt; | Inherited from father &lt;dbl&gt; | Maternal gene &lt;dbl&gt; | Paternal gene &lt;dbl&gt; | Blood cell count (mcL) &lt;dbl&gt; | Mother's age &lt;dbl&gt; | Father's age &lt;dbl&gt; | Status &lt;chr&gt; | Respiratory Rate (breaths/min) &lt;chr&gt; | Heart Rate (rates/min &lt;chr&gt; | ⋯ ⋯ | Birth defects &lt;chr&gt; | White Blood cell count (thousand per microliter) &lt;dbl&gt; | Blood test result &lt;chr&gt; | Symptom 1 &lt;dbl&gt; | Symptom 2 &lt;dbl&gt; | Symptom 3 &lt;dbl&gt; | Symptom 4 &lt;dbl&gt; | Symptom 5 &lt;dbl&gt; | Genetic Disorder &lt;chr&gt; | Disorder Subclass &lt;chr&gt; |\n",
       "|---|---|---|---|---|---|---|---|---|---|---|---|---|---|---|---|---|---|---|---|---|\n",
       "|  2 | 0 |  1 | 0 | 4.760603 | NA | NA | Alive    | Normal (30-60) | Normal      | ⋯ | NA       |  9.857562 | NA           | 1 |  1 | 1 | 1 |  1 | Mitochondrial genetic inheritance disorders  | Leber's hereditary optic neuropathy |\n",
       "|  4 | 1 |  0 | 0 | 4.910669 | NA | 23 | Deceased | Tachypnea      | Normal      | ⋯ | Multiple |  5.522560 | normal       | 1 | NA | 1 | 1 |  0 | NA                                           | Cystic fibrosis                     |\n",
       "|  6 | 0 |  0 | 0 | 4.893297 | 41 | 22 | Alive    | Normal (30-60) | Tachycardia | ⋯ | Singular |        NA | normal       | 0 |  1 | 1 | 1 |  1 | Multifactorial genetic inheritance disorders | Diabetes                            |\n",
       "| 12 | 0 |  1 | 0 | 4.705280 | 21 | NA | Deceased | Tachypnea      | Normal      | ⋯ | Singular |  7.919321 | inconclusive | 0 |  0 | 1 | 0 |  0 | Mitochondrial genetic inheritance disorders  | Leigh syndrome                      |\n",
       "| 11 | 0 | NA | 1 | 4.720703 | 32 | NA | Alive    | Tachypnea      | Tachycardia | ⋯ | Multiple |  4.098210 | NA           | 0 |  0 | 0 | 0 | NA | Multifactorial genetic inheritance disorders | Cancer                              |\n",
       "| 14 | 0 |  1 | 0 | 5.103188 | NA | NA | Deceased | NA             | Normal      | ⋯ | Multiple | 10.272230 | normal       | 1 |  0 | 0 | 1 |  0 | Single-gene inheritance diseases             | Cystic fibrosis                     |\n",
       "\n"
      ],
      "text/plain": [
       "  Patient Age Inherited from father Maternal gene Paternal gene\n",
       "1  2          0                      1            0            \n",
       "2  4          1                      0            0            \n",
       "3  6          0                      0            0            \n",
       "4 12          0                      1            0            \n",
       "5 11          0                     NA            1            \n",
       "6 14          0                      1            0            \n",
       "  Blood cell count (mcL) Mother's age Father's age Status  \n",
       "1 4.760603               NA           NA           Alive   \n",
       "2 4.910669               NA           23           Deceased\n",
       "3 4.893297               41           22           Alive   \n",
       "4 4.705280               21           NA           Deceased\n",
       "5 4.720703               32           NA           Alive   \n",
       "6 5.103188               NA           NA           Deceased\n",
       "  Respiratory Rate (breaths/min) Heart Rate (rates/min ⋯ Birth defects\n",
       "1 Normal (30-60)                 Normal                ⋯ NA           \n",
       "2 Tachypnea                      Normal                ⋯ Multiple     \n",
       "3 Normal (30-60)                 Tachycardia           ⋯ Singular     \n",
       "4 Tachypnea                      Normal                ⋯ Singular     \n",
       "5 Tachypnea                      Tachycardia           ⋯ Multiple     \n",
       "6 NA                             Normal                ⋯ Multiple     \n",
       "  White Blood cell count (thousand per microliter) Blood test result Symptom 1\n",
       "1  9.857562                                        NA                1        \n",
       "2  5.522560                                        normal            1        \n",
       "3        NA                                        normal            0        \n",
       "4  7.919321                                        inconclusive      0        \n",
       "5  4.098210                                        NA                0        \n",
       "6 10.272230                                        normal            1        \n",
       "  Symptom 2 Symptom 3 Symptom 4 Symptom 5\n",
       "1  1        1         1          1       \n",
       "2 NA        1         1          0       \n",
       "3  1        1         1          1       \n",
       "4  0        1         0          0       \n",
       "5  0        0         0         NA       \n",
       "6  0        0         1          0       \n",
       "  Genetic Disorder                            \n",
       "1 Mitochondrial genetic inheritance disorders \n",
       "2 NA                                          \n",
       "3 Multifactorial genetic inheritance disorders\n",
       "4 Mitochondrial genetic inheritance disorders \n",
       "5 Multifactorial genetic inheritance disorders\n",
       "6 Single-gene inheritance diseases            \n",
       "  Disorder Subclass                  \n",
       "1 Leber's hereditary optic neuropathy\n",
       "2 Cystic fibrosis                    \n",
       "3 Diabetes                           \n",
       "4 Leigh syndrome                     \n",
       "5 Cancer                             \n",
       "6 Cystic fibrosis                    "
      ]
     },
     "metadata": {},
     "output_type": "display_data"
    }
   ],
   "source": [
    "head(data)"
   ]
  },
  {
   "cell_type": "code",
   "execution_count": 46,
   "id": "2ce010d7",
   "metadata": {},
   "outputs": [],
   "source": [
    "drop <- c(\"Test 1\",\"Test 2\",\"Test 3\",\"Test 4\",\"Test 5\",\"Parental consent\",\"Place of birth\")\n",
    "data = data[,!(names(data) %in% drop)]"
   ]
  },
  {
   "cell_type": "code",
   "execution_count": 47,
   "id": "8fc1b67e",
   "metadata": {},
   "outputs": [
    {
     "data": {
      "text/html": [
       "<table class=\"dataframe\">\n",
       "<caption>A tibble: 6 × 31</caption>\n",
       "<thead>\n",
       "\t<tr><th scope=col>Patient Age</th><th scope=col>Inherited from father</th><th scope=col>Maternal gene</th><th scope=col>Paternal gene</th><th scope=col>Blood cell count (mcL)</th><th scope=col>Mother's age</th><th scope=col>Father's age</th><th scope=col>Status</th><th scope=col>Respiratory Rate (breaths/min)</th><th scope=col>Heart Rate (rates/min</th><th scope=col>⋯</th><th scope=col>Birth defects</th><th scope=col>White Blood cell count (thousand per microliter)</th><th scope=col>Blood test result</th><th scope=col>Symptom 1</th><th scope=col>Symptom 2</th><th scope=col>Symptom 3</th><th scope=col>Symptom 4</th><th scope=col>Symptom 5</th><th scope=col>Genetic Disorder</th><th scope=col>Disorder Subclass</th></tr>\n",
       "\t<tr><th scope=col>&lt;dbl&gt;</th><th scope=col>&lt;dbl&gt;</th><th scope=col>&lt;dbl&gt;</th><th scope=col>&lt;dbl&gt;</th><th scope=col>&lt;dbl&gt;</th><th scope=col>&lt;dbl&gt;</th><th scope=col>&lt;dbl&gt;</th><th scope=col>&lt;chr&gt;</th><th scope=col>&lt;chr&gt;</th><th scope=col>&lt;chr&gt;</th><th scope=col>⋯</th><th scope=col>&lt;chr&gt;</th><th scope=col>&lt;dbl&gt;</th><th scope=col>&lt;chr&gt;</th><th scope=col>&lt;dbl&gt;</th><th scope=col>&lt;dbl&gt;</th><th scope=col>&lt;dbl&gt;</th><th scope=col>&lt;dbl&gt;</th><th scope=col>&lt;dbl&gt;</th><th scope=col>&lt;chr&gt;</th><th scope=col>&lt;chr&gt;</th></tr>\n",
       "</thead>\n",
       "<tbody>\n",
       "\t<tr><td> 2</td><td>0</td><td> 1</td><td>0</td><td>4.760603</td><td>NA</td><td>NA</td><td>Alive   </td><td>Normal (30-60)</td><td>Normal     </td><td>⋯</td><td>NA      </td><td> 9.857562</td><td>NA          </td><td>1</td><td> 1</td><td>1</td><td>1</td><td> 1</td><td>Mitochondrial genetic inheritance disorders </td><td>Leber's hereditary optic neuropathy</td></tr>\n",
       "\t<tr><td> 4</td><td>1</td><td> 0</td><td>0</td><td>4.910669</td><td>NA</td><td>23</td><td>Deceased</td><td>Tachypnea     </td><td>Normal     </td><td>⋯</td><td>Multiple</td><td> 5.522560</td><td>normal      </td><td>1</td><td>NA</td><td>1</td><td>1</td><td> 0</td><td>NA                                          </td><td>Cystic fibrosis                    </td></tr>\n",
       "\t<tr><td> 6</td><td>0</td><td> 0</td><td>0</td><td>4.893297</td><td>41</td><td>22</td><td>Alive   </td><td>Normal (30-60)</td><td>Tachycardia</td><td>⋯</td><td>Singular</td><td>       NA</td><td>normal      </td><td>0</td><td> 1</td><td>1</td><td>1</td><td> 1</td><td>Multifactorial genetic inheritance disorders</td><td>Diabetes                           </td></tr>\n",
       "\t<tr><td>12</td><td>0</td><td> 1</td><td>0</td><td>4.705280</td><td>21</td><td>NA</td><td>Deceased</td><td>Tachypnea     </td><td>Normal     </td><td>⋯</td><td>Singular</td><td> 7.919321</td><td>inconclusive</td><td>0</td><td> 0</td><td>1</td><td>0</td><td> 0</td><td>Mitochondrial genetic inheritance disorders </td><td>Leigh syndrome                     </td></tr>\n",
       "\t<tr><td>11</td><td>0</td><td>NA</td><td>1</td><td>4.720703</td><td>32</td><td>NA</td><td>Alive   </td><td>Tachypnea     </td><td>Tachycardia</td><td>⋯</td><td>Multiple</td><td> 4.098210</td><td>NA          </td><td>0</td><td> 0</td><td>0</td><td>0</td><td>NA</td><td>Multifactorial genetic inheritance disorders</td><td>Cancer                             </td></tr>\n",
       "\t<tr><td>14</td><td>0</td><td> 1</td><td>0</td><td>5.103188</td><td>NA</td><td>NA</td><td>Deceased</td><td>NA            </td><td>Normal     </td><td>⋯</td><td>Multiple</td><td>10.272230</td><td>normal      </td><td>1</td><td> 0</td><td>0</td><td>1</td><td> 0</td><td>Single-gene inheritance diseases            </td><td>Cystic fibrosis                    </td></tr>\n",
       "</tbody>\n",
       "</table>\n"
      ],
      "text/latex": [
       "A tibble: 6 × 31\n",
       "\\begin{tabular}{lllllllllllllllllllll}\n",
       " Patient Age & Inherited from father & Maternal gene & Paternal gene & Blood cell count (mcL) & Mother's age & Father's age & Status & Respiratory Rate (breaths/min) & Heart Rate (rates/min & ⋯ & Birth defects & White Blood cell count (thousand per microliter) & Blood test result & Symptom 1 & Symptom 2 & Symptom 3 & Symptom 4 & Symptom 5 & Genetic Disorder & Disorder Subclass\\\\\n",
       " <dbl> & <dbl> & <dbl> & <dbl> & <dbl> & <dbl> & <dbl> & <chr> & <chr> & <chr> & ⋯ & <chr> & <dbl> & <chr> & <dbl> & <dbl> & <dbl> & <dbl> & <dbl> & <chr> & <chr>\\\\\n",
       "\\hline\n",
       "\t  2 & 0 &  1 & 0 & 4.760603 & NA & NA & Alive    & Normal (30-60) & Normal      & ⋯ & NA       &  9.857562 & NA           & 1 &  1 & 1 & 1 &  1 & Mitochondrial genetic inheritance disorders  & Leber's hereditary optic neuropathy\\\\\n",
       "\t  4 & 1 &  0 & 0 & 4.910669 & NA & 23 & Deceased & Tachypnea      & Normal      & ⋯ & Multiple &  5.522560 & normal       & 1 & NA & 1 & 1 &  0 & NA                                           & Cystic fibrosis                    \\\\\n",
       "\t  6 & 0 &  0 & 0 & 4.893297 & 41 & 22 & Alive    & Normal (30-60) & Tachycardia & ⋯ & Singular &        NA & normal       & 0 &  1 & 1 & 1 &  1 & Multifactorial genetic inheritance disorders & Diabetes                           \\\\\n",
       "\t 12 & 0 &  1 & 0 & 4.705280 & 21 & NA & Deceased & Tachypnea      & Normal      & ⋯ & Singular &  7.919321 & inconclusive & 0 &  0 & 1 & 0 &  0 & Mitochondrial genetic inheritance disorders  & Leigh syndrome                     \\\\\n",
       "\t 11 & 0 & NA & 1 & 4.720703 & 32 & NA & Alive    & Tachypnea      & Tachycardia & ⋯ & Multiple &  4.098210 & NA           & 0 &  0 & 0 & 0 & NA & Multifactorial genetic inheritance disorders & Cancer                             \\\\\n",
       "\t 14 & 0 &  1 & 0 & 5.103188 & NA & NA & Deceased & NA             & Normal      & ⋯ & Multiple & 10.272230 & normal       & 1 &  0 & 0 & 1 &  0 & Single-gene inheritance diseases             & Cystic fibrosis                    \\\\\n",
       "\\end{tabular}\n"
      ],
      "text/markdown": [
       "\n",
       "A tibble: 6 × 31\n",
       "\n",
       "| Patient Age &lt;dbl&gt; | Inherited from father &lt;dbl&gt; | Maternal gene &lt;dbl&gt; | Paternal gene &lt;dbl&gt; | Blood cell count (mcL) &lt;dbl&gt; | Mother's age &lt;dbl&gt; | Father's age &lt;dbl&gt; | Status &lt;chr&gt; | Respiratory Rate (breaths/min) &lt;chr&gt; | Heart Rate (rates/min &lt;chr&gt; | ⋯ ⋯ | Birth defects &lt;chr&gt; | White Blood cell count (thousand per microliter) &lt;dbl&gt; | Blood test result &lt;chr&gt; | Symptom 1 &lt;dbl&gt; | Symptom 2 &lt;dbl&gt; | Symptom 3 &lt;dbl&gt; | Symptom 4 &lt;dbl&gt; | Symptom 5 &lt;dbl&gt; | Genetic Disorder &lt;chr&gt; | Disorder Subclass &lt;chr&gt; |\n",
       "|---|---|---|---|---|---|---|---|---|---|---|---|---|---|---|---|---|---|---|---|---|\n",
       "|  2 | 0 |  1 | 0 | 4.760603 | NA | NA | Alive    | Normal (30-60) | Normal      | ⋯ | NA       |  9.857562 | NA           | 1 |  1 | 1 | 1 |  1 | Mitochondrial genetic inheritance disorders  | Leber's hereditary optic neuropathy |\n",
       "|  4 | 1 |  0 | 0 | 4.910669 | NA | 23 | Deceased | Tachypnea      | Normal      | ⋯ | Multiple |  5.522560 | normal       | 1 | NA | 1 | 1 |  0 | NA                                           | Cystic fibrosis                     |\n",
       "|  6 | 0 |  0 | 0 | 4.893297 | 41 | 22 | Alive    | Normal (30-60) | Tachycardia | ⋯ | Singular |        NA | normal       | 0 |  1 | 1 | 1 |  1 | Multifactorial genetic inheritance disorders | Diabetes                            |\n",
       "| 12 | 0 |  1 | 0 | 4.705280 | 21 | NA | Deceased | Tachypnea      | Normal      | ⋯ | Singular |  7.919321 | inconclusive | 0 |  0 | 1 | 0 |  0 | Mitochondrial genetic inheritance disorders  | Leigh syndrome                      |\n",
       "| 11 | 0 | NA | 1 | 4.720703 | 32 | NA | Alive    | Tachypnea      | Tachycardia | ⋯ | Multiple |  4.098210 | NA           | 0 |  0 | 0 | 0 | NA | Multifactorial genetic inheritance disorders | Cancer                              |\n",
       "| 14 | 0 |  1 | 0 | 5.103188 | NA | NA | Deceased | NA             | Normal      | ⋯ | Multiple | 10.272230 | normal       | 1 |  0 | 0 | 1 |  0 | Single-gene inheritance diseases             | Cystic fibrosis                     |\n",
       "\n"
      ],
      "text/plain": [
       "  Patient Age Inherited from father Maternal gene Paternal gene\n",
       "1  2          0                      1            0            \n",
       "2  4          1                      0            0            \n",
       "3  6          0                      0            0            \n",
       "4 12          0                      1            0            \n",
       "5 11          0                     NA            1            \n",
       "6 14          0                      1            0            \n",
       "  Blood cell count (mcL) Mother's age Father's age Status  \n",
       "1 4.760603               NA           NA           Alive   \n",
       "2 4.910669               NA           23           Deceased\n",
       "3 4.893297               41           22           Alive   \n",
       "4 4.705280               21           NA           Deceased\n",
       "5 4.720703               32           NA           Alive   \n",
       "6 5.103188               NA           NA           Deceased\n",
       "  Respiratory Rate (breaths/min) Heart Rate (rates/min ⋯ Birth defects\n",
       "1 Normal (30-60)                 Normal                ⋯ NA           \n",
       "2 Tachypnea                      Normal                ⋯ Multiple     \n",
       "3 Normal (30-60)                 Tachycardia           ⋯ Singular     \n",
       "4 Tachypnea                      Normal                ⋯ Singular     \n",
       "5 Tachypnea                      Tachycardia           ⋯ Multiple     \n",
       "6 NA                             Normal                ⋯ Multiple     \n",
       "  White Blood cell count (thousand per microliter) Blood test result Symptom 1\n",
       "1  9.857562                                        NA                1        \n",
       "2  5.522560                                        normal            1        \n",
       "3        NA                                        normal            0        \n",
       "4  7.919321                                        inconclusive      0        \n",
       "5  4.098210                                        NA                0        \n",
       "6 10.272230                                        normal            1        \n",
       "  Symptom 2 Symptom 3 Symptom 4 Symptom 5\n",
       "1  1        1         1          1       \n",
       "2 NA        1         1          0       \n",
       "3  1        1         1          1       \n",
       "4  0        1         0          0       \n",
       "5  0        0         0         NA       \n",
       "6  0        0         1          0       \n",
       "  Genetic Disorder                            \n",
       "1 Mitochondrial genetic inheritance disorders \n",
       "2 NA                                          \n",
       "3 Multifactorial genetic inheritance disorders\n",
       "4 Mitochondrial genetic inheritance disorders \n",
       "5 Multifactorial genetic inheritance disorders\n",
       "6 Single-gene inheritance diseases            \n",
       "  Disorder Subclass                  \n",
       "1 Leber's hereditary optic neuropathy\n",
       "2 Cystic fibrosis                    \n",
       "3 Diabetes                           \n",
       "4 Leigh syndrome                     \n",
       "5 Cancer                             \n",
       "6 Cystic fibrosis                    "
      ]
     },
     "metadata": {},
     "output_type": "display_data"
    },
    {
     "data": {
      "text/html": [
       "<table class=\"dataframe\">\n",
       "<caption>A tibble: 6 × 31</caption>\n",
       "<thead>\n",
       "\t<tr><th scope=col>Patient Age</th><th scope=col>Inherited from father</th><th scope=col>Maternal gene</th><th scope=col>Paternal gene</th><th scope=col>Blood cell count (mcL)</th><th scope=col>Mother's age</th><th scope=col>Father's age</th><th scope=col>Status</th><th scope=col>Respiratory Rate (breaths/min)</th><th scope=col>Heart Rate (rates/min</th><th scope=col>⋯</th><th scope=col>Birth defects</th><th scope=col>White Blood cell count (thousand per microliter)</th><th scope=col>Blood test result</th><th scope=col>Symptom 1</th><th scope=col>Symptom 2</th><th scope=col>Symptom 3</th><th scope=col>Symptom 4</th><th scope=col>Symptom 5</th><th scope=col>Genetic Disorder</th><th scope=col>Disorder Subclass</th></tr>\n",
       "\t<tr><th scope=col>&lt;dbl&gt;</th><th scope=col>&lt;dbl&gt;</th><th scope=col>&lt;dbl&gt;</th><th scope=col>&lt;dbl&gt;</th><th scope=col>&lt;dbl&gt;</th><th scope=col>&lt;dbl&gt;</th><th scope=col>&lt;dbl&gt;</th><th scope=col>&lt;chr&gt;</th><th scope=col>&lt;chr&gt;</th><th scope=col>&lt;chr&gt;</th><th scope=col>⋯</th><th scope=col>&lt;chr&gt;</th><th scope=col>&lt;dbl&gt;</th><th scope=col>&lt;chr&gt;</th><th scope=col>&lt;dbl&gt;</th><th scope=col>&lt;dbl&gt;</th><th scope=col>&lt;dbl&gt;</th><th scope=col>&lt;dbl&gt;</th><th scope=col>&lt;dbl&gt;</th><th scope=col>&lt;chr&gt;</th><th scope=col>&lt;chr&gt;</th></tr>\n",
       "</thead>\n",
       "<tbody>\n",
       "\t<tr><td> 9</td><td>1</td><td>1</td><td>1</td><td>5.012599</td><td>47</td><td>NA</td><td>Deceased</td><td>NA            </td><td>Normal     </td><td>⋯</td><td>NA      </td><td>12.000000</td><td>slightly abnormal</td><td>NA</td><td>1</td><td>0</td><td>0</td><td> 0</td><td>Mitochondrial genetic inheritance disorders </td><td>Leigh syndrome        </td></tr>\n",
       "\t<tr><td> 4</td><td>1</td><td>1</td><td>0</td><td>5.258298</td><td>35</td><td>64</td><td>Deceased</td><td>Normal (30-60)</td><td>Tachycardia</td><td>⋯</td><td>Multiple</td><td> 6.584811</td><td>inconclusive     </td><td> 0</td><td>0</td><td>1</td><td>0</td><td> 0</td><td>Mitochondrial genetic inheritance disorders </td><td>Leigh syndrome        </td></tr>\n",
       "\t<tr><td> 8</td><td>1</td><td>0</td><td>1</td><td>4.974220</td><td>NA</td><td>56</td><td>Alive   </td><td>Normal (30-60)</td><td>Normal     </td><td>⋯</td><td>Multiple</td><td> 7.041556</td><td>inconclusive     </td><td> 1</td><td>1</td><td>1</td><td>1</td><td> 0</td><td>Multifactorial genetic inheritance disorders</td><td>Diabetes              </td></tr>\n",
       "\t<tr><td> 8</td><td>0</td><td>1</td><td>0</td><td>5.186470</td><td>35</td><td>51</td><td>Deceased</td><td>Tachypnea     </td><td>Normal     </td><td>⋯</td><td>Singular</td><td> 7.715464</td><td>normal           </td><td> 0</td><td>0</td><td>0</td><td>1</td><td>NA</td><td>Mitochondrial genetic inheritance disorders </td><td>Mitochondrial myopathy</td></tr>\n",
       "\t<tr><td> 7</td><td>0</td><td>1</td><td>1</td><td>4.858543</td><td>19</td><td>NA</td><td>Alive   </td><td>Tachypnea     </td><td>Tachycardia</td><td>⋯</td><td>Multiple</td><td> 8.437670</td><td>abnormal         </td><td> 1</td><td>1</td><td>1</td><td>0</td><td> 0</td><td>NA                                          </td><td>Leigh syndrome        </td></tr>\n",
       "\t<tr><td>11</td><td>0</td><td>0</td><td>0</td><td>4.738067</td><td>32</td><td>62</td><td>Deceased</td><td>Normal (30-60)</td><td>Normal     </td><td>⋯</td><td>Singular</td><td>11.188371</td><td>normal           </td><td> 1</td><td>0</td><td>1</td><td>1</td><td> 1</td><td>Multifactorial genetic inheritance disorders</td><td>Diabetes              </td></tr>\n",
       "</tbody>\n",
       "</table>\n"
      ],
      "text/latex": [
       "A tibble: 6 × 31\n",
       "\\begin{tabular}{lllllllllllllllllllll}\n",
       " Patient Age & Inherited from father & Maternal gene & Paternal gene & Blood cell count (mcL) & Mother's age & Father's age & Status & Respiratory Rate (breaths/min) & Heart Rate (rates/min & ⋯ & Birth defects & White Blood cell count (thousand per microliter) & Blood test result & Symptom 1 & Symptom 2 & Symptom 3 & Symptom 4 & Symptom 5 & Genetic Disorder & Disorder Subclass\\\\\n",
       " <dbl> & <dbl> & <dbl> & <dbl> & <dbl> & <dbl> & <dbl> & <chr> & <chr> & <chr> & ⋯ & <chr> & <dbl> & <chr> & <dbl> & <dbl> & <dbl> & <dbl> & <dbl> & <chr> & <chr>\\\\\n",
       "\\hline\n",
       "\t  9 & 1 & 1 & 1 & 5.012599 & 47 & NA & Deceased & NA             & Normal      & ⋯ & NA       & 12.000000 & slightly abnormal & NA & 1 & 0 & 0 &  0 & Mitochondrial genetic inheritance disorders  & Leigh syndrome        \\\\\n",
       "\t  4 & 1 & 1 & 0 & 5.258298 & 35 & 64 & Deceased & Normal (30-60) & Tachycardia & ⋯ & Multiple &  6.584811 & inconclusive      &  0 & 0 & 1 & 0 &  0 & Mitochondrial genetic inheritance disorders  & Leigh syndrome        \\\\\n",
       "\t  8 & 1 & 0 & 1 & 4.974220 & NA & 56 & Alive    & Normal (30-60) & Normal      & ⋯ & Multiple &  7.041556 & inconclusive      &  1 & 1 & 1 & 1 &  0 & Multifactorial genetic inheritance disorders & Diabetes              \\\\\n",
       "\t  8 & 0 & 1 & 0 & 5.186470 & 35 & 51 & Deceased & Tachypnea      & Normal      & ⋯ & Singular &  7.715464 & normal            &  0 & 0 & 0 & 1 & NA & Mitochondrial genetic inheritance disorders  & Mitochondrial myopathy\\\\\n",
       "\t  7 & 0 & 1 & 1 & 4.858543 & 19 & NA & Alive    & Tachypnea      & Tachycardia & ⋯ & Multiple &  8.437670 & abnormal          &  1 & 1 & 1 & 0 &  0 & NA                                           & Leigh syndrome        \\\\\n",
       "\t 11 & 0 & 0 & 0 & 4.738067 & 32 & 62 & Deceased & Normal (30-60) & Normal      & ⋯ & Singular & 11.188371 & normal            &  1 & 0 & 1 & 1 &  1 & Multifactorial genetic inheritance disorders & Diabetes              \\\\\n",
       "\\end{tabular}\n"
      ],
      "text/markdown": [
       "\n",
       "A tibble: 6 × 31\n",
       "\n",
       "| Patient Age &lt;dbl&gt; | Inherited from father &lt;dbl&gt; | Maternal gene &lt;dbl&gt; | Paternal gene &lt;dbl&gt; | Blood cell count (mcL) &lt;dbl&gt; | Mother's age &lt;dbl&gt; | Father's age &lt;dbl&gt; | Status &lt;chr&gt; | Respiratory Rate (breaths/min) &lt;chr&gt; | Heart Rate (rates/min &lt;chr&gt; | ⋯ ⋯ | Birth defects &lt;chr&gt; | White Blood cell count (thousand per microliter) &lt;dbl&gt; | Blood test result &lt;chr&gt; | Symptom 1 &lt;dbl&gt; | Symptom 2 &lt;dbl&gt; | Symptom 3 &lt;dbl&gt; | Symptom 4 &lt;dbl&gt; | Symptom 5 &lt;dbl&gt; | Genetic Disorder &lt;chr&gt; | Disorder Subclass &lt;chr&gt; |\n",
       "|---|---|---|---|---|---|---|---|---|---|---|---|---|---|---|---|---|---|---|---|---|\n",
       "|  9 | 1 | 1 | 1 | 5.012599 | 47 | NA | Deceased | NA             | Normal      | ⋯ | NA       | 12.000000 | slightly abnormal | NA | 1 | 0 | 0 |  0 | Mitochondrial genetic inheritance disorders  | Leigh syndrome         |\n",
       "|  4 | 1 | 1 | 0 | 5.258298 | 35 | 64 | Deceased | Normal (30-60) | Tachycardia | ⋯ | Multiple |  6.584811 | inconclusive      |  0 | 0 | 1 | 0 |  0 | Mitochondrial genetic inheritance disorders  | Leigh syndrome         |\n",
       "|  8 | 1 | 0 | 1 | 4.974220 | NA | 56 | Alive    | Normal (30-60) | Normal      | ⋯ | Multiple |  7.041556 | inconclusive      |  1 | 1 | 1 | 1 |  0 | Multifactorial genetic inheritance disorders | Diabetes               |\n",
       "|  8 | 0 | 1 | 0 | 5.186470 | 35 | 51 | Deceased | Tachypnea      | Normal      | ⋯ | Singular |  7.715464 | normal            |  0 | 0 | 0 | 1 | NA | Mitochondrial genetic inheritance disorders  | Mitochondrial myopathy |\n",
       "|  7 | 0 | 1 | 1 | 4.858543 | 19 | NA | Alive    | Tachypnea      | Tachycardia | ⋯ | Multiple |  8.437670 | abnormal          |  1 | 1 | 1 | 0 |  0 | NA                                           | Leigh syndrome         |\n",
       "| 11 | 0 | 0 | 0 | 4.738067 | 32 | 62 | Deceased | Normal (30-60) | Normal      | ⋯ | Singular | 11.188371 | normal            |  1 | 0 | 1 | 1 |  1 | Multifactorial genetic inheritance disorders | Diabetes               |\n",
       "\n"
      ],
      "text/plain": [
       "  Patient Age Inherited from father Maternal gene Paternal gene\n",
       "1  9          1                     1             1            \n",
       "2  4          1                     1             0            \n",
       "3  8          1                     0             1            \n",
       "4  8          0                     1             0            \n",
       "5  7          0                     1             1            \n",
       "6 11          0                     0             0            \n",
       "  Blood cell count (mcL) Mother's age Father's age Status  \n",
       "1 5.012599               47           NA           Deceased\n",
       "2 5.258298               35           64           Deceased\n",
       "3 4.974220               NA           56           Alive   \n",
       "4 5.186470               35           51           Deceased\n",
       "5 4.858543               19           NA           Alive   \n",
       "6 4.738067               32           62           Deceased\n",
       "  Respiratory Rate (breaths/min) Heart Rate (rates/min ⋯ Birth defects\n",
       "1 NA                             Normal                ⋯ NA           \n",
       "2 Normal (30-60)                 Tachycardia           ⋯ Multiple     \n",
       "3 Normal (30-60)                 Normal                ⋯ Multiple     \n",
       "4 Tachypnea                      Normal                ⋯ Singular     \n",
       "5 Tachypnea                      Tachycardia           ⋯ Multiple     \n",
       "6 Normal (30-60)                 Normal                ⋯ Singular     \n",
       "  White Blood cell count (thousand per microliter) Blood test result Symptom 1\n",
       "1 12.000000                                        slightly abnormal NA       \n",
       "2  6.584811                                        inconclusive       0       \n",
       "3  7.041556                                        inconclusive       1       \n",
       "4  7.715464                                        normal             0       \n",
       "5  8.437670                                        abnormal           1       \n",
       "6 11.188371                                        normal             1       \n",
       "  Symptom 2 Symptom 3 Symptom 4 Symptom 5\n",
       "1 1         0         0          0       \n",
       "2 0         1         0          0       \n",
       "3 1         1         1          0       \n",
       "4 0         0         1         NA       \n",
       "5 1         1         0          0       \n",
       "6 0         1         1          1       \n",
       "  Genetic Disorder                             Disorder Subclass     \n",
       "1 Mitochondrial genetic inheritance disorders  Leigh syndrome        \n",
       "2 Mitochondrial genetic inheritance disorders  Leigh syndrome        \n",
       "3 Multifactorial genetic inheritance disorders Diabetes              \n",
       "4 Mitochondrial genetic inheritance disorders  Mitochondrial myopathy\n",
       "5 NA                                           Leigh syndrome        \n",
       "6 Multifactorial genetic inheritance disorders Diabetes              "
      ]
     },
     "metadata": {},
     "output_type": "display_data"
    }
   ],
   "source": [
    "head(data)\n",
    "tail(data)"
   ]
  },
  {
   "cell_type": "code",
   "execution_count": 48,
   "id": "77aa35e0",
   "metadata": {},
   "outputs": [
    {
     "data": {
      "text/html": [
       "<style>\n",
       ".list-inline {list-style: none; margin:0; padding: 0}\n",
       ".list-inline>li {display: inline-block}\n",
       ".list-inline>li:not(:last-child)::after {content: \"\\00b7\"; padding: 0 .5ex}\n",
       "</style>\n",
       "<ol class=list-inline><li>22083</li><li>31</li></ol>\n"
      ],
      "text/latex": [
       "\\begin{enumerate*}\n",
       "\\item 22083\n",
       "\\item 31\n",
       "\\end{enumerate*}\n"
      ],
      "text/markdown": [
       "1. 22083\n",
       "2. 31\n",
       "\n",
       "\n"
      ],
      "text/plain": [
       "[1] 22083    31"
      ]
     },
     "metadata": {},
     "output_type": "display_data"
    }
   ],
   "source": [
    "dim(data)"
   ]
  },
  {
   "cell_type": "code",
   "execution_count": 49,
   "id": "b09957b8",
   "metadata": {},
   "outputs": [
    {
     "data": {
      "text/html": [
       "0"
      ],
      "text/latex": [
       "0"
      ],
      "text/markdown": [
       "0"
      ],
      "text/plain": [
       "[1] 0"
      ]
     },
     "metadata": {},
     "output_type": "display_data"
    }
   ],
   "source": [
    "sum(duplicated(data))"
   ]
  },
  {
   "cell_type": "code",
   "execution_count": 50,
   "id": "5afee428",
   "metadata": {
    "scrolled": false
   },
   "outputs": [
    {
     "data": {
      "text/html": [
       "<style>\n",
       ".list-inline {list-style: none; margin:0; padding: 0}\n",
       ".list-inline>li {display: inline-block}\n",
       ".list-inline>li:not(:last-child)::after {content: \"\\00b7\"; padding: 0 .5ex}\n",
       "</style>\n",
       "<ol class=list-inline><li>22083</li><li>31</li></ol>\n"
      ],
      "text/latex": [
       "\\begin{enumerate*}\n",
       "\\item 22083\n",
       "\\item 31\n",
       "\\end{enumerate*}\n"
      ],
      "text/markdown": [
       "1. 22083\n",
       "2. 31\n",
       "\n",
       "\n"
      ],
      "text/plain": [
       "[1] 22083    31"
      ]
     },
     "metadata": {},
     "output_type": "display_data"
    }
   ],
   "source": [
    "data <- subset(data, !is.na(\"Genetic Disorder\") & !is.na(\"Disorder Subclass\"))\n",
    "dim(data)"
   ]
  },
  {
   "cell_type": "code",
   "execution_count": null,
   "id": "93416f0d",
   "metadata": {},
   "outputs": [],
   "source": []
  },
  {
   "cell_type": "code",
   "execution_count": 51,
   "id": "ae9e6e16",
   "metadata": {},
   "outputs": [
    {
     "data": {
      "image/png": "[encoded data removed]",
      "text/plain": [
       "plot without title"
      ]
     },
     "metadata": {
      "image/png": {
       "height": 420,
       "width": 420
      }
     },
     "output_type": "display_data"
    }
   ],
   "source": [
    "ggplot(data, aes(x = \"Genetic Disorder\")) +\n",
    "  geom_bar()"
   ]
  },
  {
   "cell_type": "code",
   "execution_count": null,
   "id": "9e48c5c3",
   "metadata": {},
   "outputs": [],
   "source": []
  }
 ],
 "metadata": {
  "kernelspec": {
   "display_name": "R",
   "language": "R",
   "name": "ir"
  },
  "language_info": {
   "codemirror_mode": "r",
   "file_extension": ".r",
   "mimetype": "text/x-r-source",
   "name": "R",
   "pygments_lexer": "r",
   "version": "4.2.2"
  }
 },
 "nbformat": 4,
 "nbformat_minor": 5
}
