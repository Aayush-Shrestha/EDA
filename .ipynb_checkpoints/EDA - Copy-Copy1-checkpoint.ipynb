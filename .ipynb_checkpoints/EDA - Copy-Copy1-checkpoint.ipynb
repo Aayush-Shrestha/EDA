{
 "cells": [
  {
   "cell_type": "code",
   "execution_count": 1,
   "id": "7bac48af",
   "metadata": {},
   "outputs": [
    {
     "name": "stderr",
     "output_type": "stream",
     "text": [
      "── \u001b[1mAttaching core tidyverse packages\u001b[22m ──────────────────────────────────────────────────────────────── tidyverse 2.0.0 ──\n",
      "\u001b[32m✔\u001b[39m \u001b[34mdplyr    \u001b[39m 1.1.0     \u001b[32m✔\u001b[39m \u001b[34mreadr    \u001b[39m 2.1.4\n",
      "\u001b[32m✔\u001b[39m \u001b[34mforcats  \u001b[39m 1.0.0     \u001b[32m✔\u001b[39m \u001b[34mstringr  \u001b[39m 1.5.0\n",
      "\u001b[32m✔\u001b[39m \u001b[34mggplot2  \u001b[39m 3.4.1     \u001b[32m✔\u001b[39m \u001b[34mtibble   \u001b[39m 3.1.8\n",
      "\u001b[32m✔\u001b[39m \u001b[34mlubridate\u001b[39m 1.9.2     \u001b[32m✔\u001b[39m \u001b[34mtidyr    \u001b[39m 1.3.0\n",
      "\u001b[32m✔\u001b[39m \u001b[34mpurrr    \u001b[39m 1.0.1     \n",
      "── \u001b[1mConflicts\u001b[22m ────────────────────────────────────────────────────────────────────────────────── tidyverse_conflicts() ──\n",
      "\u001b[31m✖\u001b[39m \u001b[34mdplyr\u001b[39m::\u001b[32mfilter()\u001b[39m masks \u001b[34mstats\u001b[39m::filter()\n",
      "\u001b[31m✖\u001b[39m \u001b[34mdplyr\u001b[39m::\u001b[32mlag()\u001b[39m    masks \u001b[34mstats\u001b[39m::lag()\n",
      "\u001b[36mℹ\u001b[39m Use the conflicted package (\u001b[3m\u001b[34m<http://conflicted.r-lib.org/>\u001b[39m\u001b[23m) to force all conflicts to become errors\n"
     ]
    }
   ],
   "source": [
    "library(readxl)\n",
    "library(tidyverse)"
   ]
  },
  {
   "cell_type": "code",
   "execution_count": 2,
   "id": "1bcadd5f",
   "metadata": {},
   "outputs": [
    {
     "data": {
      "text/html": [
       "<table class=\"dataframe\">\n",
       "<caption>A tibble: 6 × 45</caption>\n",
       "<thead>\n",
       "\t<tr><th scope=col>Patient Id</th><th scope=col>Patient Age</th><th scope=col>Genes in mother's side</th><th scope=col>Inherited from father</th><th scope=col>Maternal gene</th><th scope=col>Paternal gene</th><th scope=col>Blood cell count (mcL)</th><th scope=col>Patient First Name</th><th scope=col>Family Name</th><th scope=col>Father's name</th><th scope=col>⋯</th><th scope=col>Birth defects</th><th scope=col>White Blood cell count (thousand per microliter)</th><th scope=col>Blood test result</th><th scope=col>Symptom 1</th><th scope=col>Symptom 2</th><th scope=col>Symptom 3</th><th scope=col>Symptom 4</th><th scope=col>Symptom 5</th><th scope=col>Genetic Disorder</th><th scope=col>Disorder Subclass</th></tr>\n",
       "\t<tr><th scope=col>&lt;chr&gt;</th><th scope=col>&lt;dbl&gt;</th><th scope=col>&lt;chr&gt;</th><th scope=col>&lt;chr&gt;</th><th scope=col>&lt;chr&gt;</th><th scope=col>&lt;chr&gt;</th><th scope=col>&lt;dbl&gt;</th><th scope=col>&lt;chr&gt;</th><th scope=col>&lt;chr&gt;</th><th scope=col>&lt;chr&gt;</th><th scope=col>⋯</th><th scope=col>&lt;chr&gt;</th><th scope=col>&lt;dbl&gt;</th><th scope=col>&lt;chr&gt;</th><th scope=col>&lt;dbl&gt;</th><th scope=col>&lt;dbl&gt;</th><th scope=col>&lt;dbl&gt;</th><th scope=col>&lt;dbl&gt;</th><th scope=col>&lt;dbl&gt;</th><th scope=col>&lt;chr&gt;</th><th scope=col>&lt;chr&gt;</th></tr>\n",
       "</thead>\n",
       "<tbody>\n",
       "\t<tr><td>PID0x6418</td><td> 2</td><td>Yes</td><td>No </td><td>Yes</td><td>No </td><td>4.760603</td><td>Richard </td><td>NA       </td><td>Larre   </td><td>⋯</td><td>NA      </td><td> 9.857562</td><td>NA          </td><td>1</td><td> 1</td><td>1</td><td>1</td><td> 1</td><td>Mitochondrial genetic inheritance disorders </td><td>Leber's hereditary optic neuropathy</td></tr>\n",
       "\t<tr><td>PID0x25d5</td><td> 4</td><td>Yes</td><td>Yes</td><td>No </td><td>No </td><td>4.910669</td><td>Mike    </td><td>NA       </td><td>Brycen  </td><td>⋯</td><td>Multiple</td><td> 5.522560</td><td>normal      </td><td>1</td><td>NA</td><td>1</td><td>1</td><td> 0</td><td>NA                                          </td><td>Cystic fibrosis                    </td></tr>\n",
       "\t<tr><td>PID0x4a82</td><td> 6</td><td>Yes</td><td>No </td><td>No </td><td>No </td><td>4.893297</td><td>Kimberly</td><td>NA       </td><td>Nashon  </td><td>⋯</td><td>Singular</td><td>       NA</td><td>normal      </td><td>0</td><td> 1</td><td>1</td><td>1</td><td> 1</td><td>Multifactorial genetic inheritance disorders</td><td>Diabetes                           </td></tr>\n",
       "\t<tr><td>PID0x4ac8</td><td>12</td><td>Yes</td><td>No </td><td>Yes</td><td>No </td><td>4.705280</td><td>Jeffery </td><td>Hoelscher</td><td>Aayaan  </td><td>⋯</td><td>Singular</td><td> 7.919321</td><td>inconclusive</td><td>0</td><td> 0</td><td>1</td><td>0</td><td> 0</td><td>Mitochondrial genetic inheritance disorders </td><td>Leigh syndrome                     </td></tr>\n",
       "\t<tr><td>PID0x1bf7</td><td>11</td><td>Yes</td><td>No </td><td>NA </td><td>Yes</td><td>4.720703</td><td>Johanna </td><td>Stutzman </td><td>Suave   </td><td>⋯</td><td>Multiple</td><td> 4.098210</td><td>NA          </td><td>0</td><td> 0</td><td>0</td><td>0</td><td>NA</td><td>Multifactorial genetic inheritance disorders</td><td>Cancer                             </td></tr>\n",
       "\t<tr><td>PID0x44fe</td><td>14</td><td>Yes</td><td>No </td><td>Yes</td><td>No </td><td>5.103188</td><td>Richard </td><td>NA       </td><td>Coleston</td><td>⋯</td><td>Multiple</td><td>10.272230</td><td>normal      </td><td>1</td><td> 0</td><td>0</td><td>1</td><td> 0</td><td>Single-gene inheritance diseases            </td><td>Cystic fibrosis                    </td></tr>\n",
       "</tbody>\n",
       "</table>\n"
      ],
      "text/latex": [
       "A tibble: 6 × 45\n",
       "\\begin{tabular}{lllllllllllllllllllll}\n",
       " Patient Id & Patient Age & Genes in mother's side & Inherited from father & Maternal gene & Paternal gene & Blood cell count (mcL) & Patient First Name & Family Name & Father's name & ⋯ & Birth defects & White Blood cell count (thousand per microliter) & Blood test result & Symptom 1 & Symptom 2 & Symptom 3 & Symptom 4 & Symptom 5 & Genetic Disorder & Disorder Subclass\\\\\n",
       " <chr> & <dbl> & <chr> & <chr> & <chr> & <chr> & <dbl> & <chr> & <chr> & <chr> & ⋯ & <chr> & <dbl> & <chr> & <dbl> & <dbl> & <dbl> & <dbl> & <dbl> & <chr> & <chr>\\\\\n",
       "\\hline\n",
       "\t PID0x6418 &  2 & Yes & No  & Yes & No  & 4.760603 & Richard  & NA        & Larre    & ⋯ & NA       &  9.857562 & NA           & 1 &  1 & 1 & 1 &  1 & Mitochondrial genetic inheritance disorders  & Leber's hereditary optic neuropathy\\\\\n",
       "\t PID0x25d5 &  4 & Yes & Yes & No  & No  & 4.910669 & Mike     & NA        & Brycen   & ⋯ & Multiple &  5.522560 & normal       & 1 & NA & 1 & 1 &  0 & NA                                           & Cystic fibrosis                    \\\\\n",
       "\t PID0x4a82 &  6 & Yes & No  & No  & No  & 4.893297 & Kimberly & NA        & Nashon   & ⋯ & Singular &        NA & normal       & 0 &  1 & 1 & 1 &  1 & Multifactorial genetic inheritance disorders & Diabetes                           \\\\\n",
       "\t PID0x4ac8 & 12 & Yes & No  & Yes & No  & 4.705280 & Jeffery  & Hoelscher & Aayaan   & ⋯ & Singular &  7.919321 & inconclusive & 0 &  0 & 1 & 0 &  0 & Mitochondrial genetic inheritance disorders  & Leigh syndrome                     \\\\\n",
       "\t PID0x1bf7 & 11 & Yes & No  & NA  & Yes & 4.720703 & Johanna  & Stutzman  & Suave    & ⋯ & Multiple &  4.098210 & NA           & 0 &  0 & 0 & 0 & NA & Multifactorial genetic inheritance disorders & Cancer                             \\\\\n",
       "\t PID0x44fe & 14 & Yes & No  & Yes & No  & 5.103188 & Richard  & NA        & Coleston & ⋯ & Multiple & 10.272230 & normal       & 1 &  0 & 0 & 1 &  0 & Single-gene inheritance diseases             & Cystic fibrosis                    \\\\\n",
       "\\end{tabular}\n"
      ],
      "text/markdown": [
       "\n",
       "A tibble: 6 × 45\n",
       "\n",
       "| Patient Id &lt;chr&gt; | Patient Age &lt;dbl&gt; | Genes in mother's side &lt;chr&gt; | Inherited from father &lt;chr&gt; | Maternal gene &lt;chr&gt; | Paternal gene &lt;chr&gt; | Blood cell count (mcL) &lt;dbl&gt; | Patient First Name &lt;chr&gt; | Family Name &lt;chr&gt; | Father's name &lt;chr&gt; | ⋯ ⋯ | Birth defects &lt;chr&gt; | White Blood cell count (thousand per microliter) &lt;dbl&gt; | Blood test result &lt;chr&gt; | Symptom 1 &lt;dbl&gt; | Symptom 2 &lt;dbl&gt; | Symptom 3 &lt;dbl&gt; | Symptom 4 &lt;dbl&gt; | Symptom 5 &lt;dbl&gt; | Genetic Disorder &lt;chr&gt; | Disorder Subclass &lt;chr&gt; |\n",
       "|---|---|---|---|---|---|---|---|---|---|---|---|---|---|---|---|---|---|---|---|---|\n",
       "| PID0x6418 |  2 | Yes | No  | Yes | No  | 4.760603 | Richard  | NA        | Larre    | ⋯ | NA       |  9.857562 | NA           | 1 |  1 | 1 | 1 |  1 | Mitochondrial genetic inheritance disorders  | Leber's hereditary optic neuropathy |\n",
       "| PID0x25d5 |  4 | Yes | Yes | No  | No  | 4.910669 | Mike     | NA        | Brycen   | ⋯ | Multiple |  5.522560 | normal       | 1 | NA | 1 | 1 |  0 | NA                                           | Cystic fibrosis                     |\n",
       "| PID0x4a82 |  6 | Yes | No  | No  | No  | 4.893297 | Kimberly | NA        | Nashon   | ⋯ | Singular |        NA | normal       | 0 |  1 | 1 | 1 |  1 | Multifactorial genetic inheritance disorders | Diabetes                            |\n",
       "| PID0x4ac8 | 12 | Yes | No  | Yes | No  | 4.705280 | Jeffery  | Hoelscher | Aayaan   | ⋯ | Singular |  7.919321 | inconclusive | 0 |  0 | 1 | 0 |  0 | Mitochondrial genetic inheritance disorders  | Leigh syndrome                      |\n",
       "| PID0x1bf7 | 11 | Yes | No  | NA  | Yes | 4.720703 | Johanna  | Stutzman  | Suave    | ⋯ | Multiple |  4.098210 | NA           | 0 |  0 | 0 | 0 | NA | Multifactorial genetic inheritance disorders | Cancer                              |\n",
       "| PID0x44fe | 14 | Yes | No  | Yes | No  | 5.103188 | Richard  | NA        | Coleston | ⋯ | Multiple | 10.272230 | normal       | 1 |  0 | 0 | 1 |  0 | Single-gene inheritance diseases             | Cystic fibrosis                     |\n",
       "\n"
      ],
      "text/plain": [
       "  Patient Id Patient Age Genes in mother's side Inherited from father\n",
       "1 PID0x6418   2          Yes                    No                   \n",
       "2 PID0x25d5   4          Yes                    Yes                  \n",
       "3 PID0x4a82   6          Yes                    No                   \n",
       "4 PID0x4ac8  12          Yes                    No                   \n",
       "5 PID0x1bf7  11          Yes                    No                   \n",
       "6 PID0x44fe  14          Yes                    No                   \n",
       "  Maternal gene Paternal gene Blood cell count (mcL) Patient First Name\n",
       "1 Yes           No            4.760603               Richard           \n",
       "2 No            No            4.910669               Mike              \n",
       "3 No            No            4.893297               Kimberly          \n",
       "4 Yes           No            4.705280               Jeffery           \n",
       "5 NA            Yes           4.720703               Johanna           \n",
       "6 Yes           No            5.103188               Richard           \n",
       "  Family Name Father's name ⋯ Birth defects\n",
       "1 NA          Larre         ⋯ NA           \n",
       "2 NA          Brycen        ⋯ Multiple     \n",
       "3 NA          Nashon        ⋯ Singular     \n",
       "4 Hoelscher   Aayaan        ⋯ Singular     \n",
       "5 Stutzman    Suave         ⋯ Multiple     \n",
       "6 NA          Coleston      ⋯ Multiple     \n",
       "  White Blood cell count (thousand per microliter) Blood test result Symptom 1\n",
       "1  9.857562                                        NA                1        \n",
       "2  5.522560                                        normal            1        \n",
       "3        NA                                        normal            0        \n",
       "4  7.919321                                        inconclusive      0        \n",
       "5  4.098210                                        NA                0        \n",
       "6 10.272230                                        normal            1        \n",
       "  Symptom 2 Symptom 3 Symptom 4 Symptom 5\n",
       "1  1        1         1          1       \n",
       "2 NA        1         1          0       \n",
       "3  1        1         1          1       \n",
       "4  0        1         0          0       \n",
       "5  0        0         0         NA       \n",
       "6  0        0         1          0       \n",
       "  Genetic Disorder                            \n",
       "1 Mitochondrial genetic inheritance disorders \n",
       "2 NA                                          \n",
       "3 Multifactorial genetic inheritance disorders\n",
       "4 Mitochondrial genetic inheritance disorders \n",
       "5 Multifactorial genetic inheritance disorders\n",
       "6 Single-gene inheritance diseases            \n",
       "  Disorder Subclass                  \n",
       "1 Leber's hereditary optic neuropathy\n",
       "2 Cystic fibrosis                    \n",
       "3 Diabetes                           \n",
       "4 Leigh syndrome                     \n",
       "5 Cancer                             \n",
       "6 Cystic fibrosis                    "
      ]
     },
     "metadata": {},
     "output_type": "display_data"
    }
   ],
   "source": [
    "df <- read_excel(\"train.xlsx\")\n",
    "head(df)"
   ]
  },
  {
   "cell_type": "code",
   "execution_count": 3,
   "id": "5c90e40a",
   "metadata": {},
   "outputs": [
    {
     "data": {
      "text/html": [
       "<table class=\"dataframe\">\n",
       "<caption>A tibble: 6 × 45</caption>\n",
       "<thead>\n",
       "\t<tr><th scope=col>Patient Id</th><th scope=col>Patient Age</th><th scope=col>Genes in mother's side</th><th scope=col>Inherited from father</th><th scope=col>Maternal gene</th><th scope=col>Paternal gene</th><th scope=col>Blood cell count (mcL)</th><th scope=col>Patient First Name</th><th scope=col>Family Name</th><th scope=col>Father's name</th><th scope=col>⋯</th><th scope=col>Birth defects</th><th scope=col>White Blood cell count (thousand per microliter)</th><th scope=col>Blood test result</th><th scope=col>Symptom 1</th><th scope=col>Symptom 2</th><th scope=col>Symptom 3</th><th scope=col>Symptom 4</th><th scope=col>Symptom 5</th><th scope=col>Genetic Disorder</th><th scope=col>Disorder Subclass</th></tr>\n",
       "\t<tr><th scope=col>&lt;chr&gt;</th><th scope=col>&lt;dbl&gt;</th><th scope=col>&lt;chr&gt;</th><th scope=col>&lt;chr&gt;</th><th scope=col>&lt;chr&gt;</th><th scope=col>&lt;chr&gt;</th><th scope=col>&lt;dbl&gt;</th><th scope=col>&lt;chr&gt;</th><th scope=col>&lt;chr&gt;</th><th scope=col>&lt;chr&gt;</th><th scope=col>⋯</th><th scope=col>&lt;chr&gt;</th><th scope=col>&lt;dbl&gt;</th><th scope=col>&lt;chr&gt;</th><th scope=col>&lt;dbl&gt;</th><th scope=col>&lt;dbl&gt;</th><th scope=col>&lt;dbl&gt;</th><th scope=col>&lt;dbl&gt;</th><th scope=col>&lt;dbl&gt;</th><th scope=col>&lt;chr&gt;</th><th scope=col>&lt;chr&gt;</th></tr>\n",
       "</thead>\n",
       "<tbody>\n",
       "\t<tr><td>PID0x8ce3</td><td>11</td><td>No </td><td>No </td><td>Yes</td><td>No </td><td>5.209058</td><td>Willie</td><td>Camacho </td><td>Tr       </td><td>⋯</td><td>Multiple</td><td>6.669552</td><td>slightly abnormal</td><td>1</td><td>1</td><td>1</td><td>0</td><td>1</td><td>Mitochondrial genetic inheritance disorders </td><td>Leigh syndrome        </td></tr>\n",
       "\t<tr><td>PID0x8660</td><td> 4</td><td>No </td><td>Yes</td><td>Yes</td><td>Yes</td><td>4.752272</td><td>John  </td><td>Sandoval</td><td>Gregori  </td><td>⋯</td><td>Multiple</td><td>6.397702</td><td>abnormal         </td><td>0</td><td>0</td><td>1</td><td>1</td><td>1</td><td>Multifactorial genetic inheritance disorders</td><td>Diabetes              </td></tr>\n",
       "\t<tr><td>PID0x74ab</td><td> 1</td><td>Yes</td><td>Yes</td><td>No </td><td>No </td><td>4.612265</td><td>Eric  </td><td>Harness </td><td>Mano     </td><td>⋯</td><td>Singular</td><td>7.995115</td><td>slightly abnormal</td><td>1</td><td>1</td><td>0</td><td>1</td><td>0</td><td>Mitochondrial genetic inheritance disorders </td><td>Leigh syndrome        </td></tr>\n",
       "\t<tr><td>PID0x7678</td><td> 6</td><td>Yes</td><td>No </td><td>Yes</td><td>No </td><td>4.620420</td><td>Ruth  </td><td>Homza   </td><td>Cesareo  </td><td>⋯</td><td>Multiple</td><td>3.000000</td><td>slightly abnormal</td><td>1</td><td>0</td><td>1</td><td>0</td><td>1</td><td>Mitochondrial genetic inheritance disorders </td><td>Leigh syndrome        </td></tr>\n",
       "\t<tr><td>PID0x952d</td><td>10</td><td>Yes</td><td>Yes</td><td>Yes</td><td>No </td><td>4.751452</td><td>James </td><td>Whipple </td><td>Dvon     </td><td>⋯</td><td>Singular</td><td>9.382407</td><td>abnormal         </td><td>1</td><td>1</td><td>0</td><td>0</td><td>0</td><td>Mitochondrial genetic inheritance disorders </td><td>Mitochondrial myopathy</td></tr>\n",
       "\t<tr><td>PID0x6d89</td><td> 6</td><td>No </td><td>Yes</td><td>Yes</td><td>Yes</td><td>4.876896</td><td>Miguel</td><td>Canada  </td><td>Zykevious</td><td>⋯</td><td>Singular</td><td>7.370477</td><td>normal           </td><td>1</td><td>0</td><td>0</td><td>0</td><td>0</td><td>Single-gene inheritance diseases            </td><td>Hemochromatosis       </td></tr>\n",
       "</tbody>\n",
       "</table>\n"
      ],
      "text/latex": [
       "A tibble: 6 × 45\n",
       "\\begin{tabular}{lllllllllllllllllllll}\n",
       " Patient Id & Patient Age & Genes in mother's side & Inherited from father & Maternal gene & Paternal gene & Blood cell count (mcL) & Patient First Name & Family Name & Father's name & ⋯ & Birth defects & White Blood cell count (thousand per microliter) & Blood test result & Symptom 1 & Symptom 2 & Symptom 3 & Symptom 4 & Symptom 5 & Genetic Disorder & Disorder Subclass\\\\\n",
       " <chr> & <dbl> & <chr> & <chr> & <chr> & <chr> & <dbl> & <chr> & <chr> & <chr> & ⋯ & <chr> & <dbl> & <chr> & <dbl> & <dbl> & <dbl> & <dbl> & <dbl> & <chr> & <chr>\\\\\n",
       "\\hline\n",
       "\t PID0x8ce3 & 11 & No  & No  & Yes & No  & 5.209058 & Willie & Camacho  & Tr        & ⋯ & Multiple & 6.669552 & slightly abnormal & 1 & 1 & 1 & 0 & 1 & Mitochondrial genetic inheritance disorders  & Leigh syndrome        \\\\\n",
       "\t PID0x8660 &  4 & No  & Yes & Yes & Yes & 4.752272 & John   & Sandoval & Gregori   & ⋯ & Multiple & 6.397702 & abnormal          & 0 & 0 & 1 & 1 & 1 & Multifactorial genetic inheritance disorders & Diabetes              \\\\\n",
       "\t PID0x74ab &  1 & Yes & Yes & No  & No  & 4.612265 & Eric   & Harness  & Mano      & ⋯ & Singular & 7.995115 & slightly abnormal & 1 & 1 & 0 & 1 & 0 & Mitochondrial genetic inheritance disorders  & Leigh syndrome        \\\\\n",
       "\t PID0x7678 &  6 & Yes & No  & Yes & No  & 4.620420 & Ruth   & Homza    & Cesareo   & ⋯ & Multiple & 3.000000 & slightly abnormal & 1 & 0 & 1 & 0 & 1 & Mitochondrial genetic inheritance disorders  & Leigh syndrome        \\\\\n",
       "\t PID0x952d & 10 & Yes & Yes & Yes & No  & 4.751452 & James  & Whipple  & Dvon      & ⋯ & Singular & 9.382407 & abnormal          & 1 & 1 & 0 & 0 & 0 & Mitochondrial genetic inheritance disorders  & Mitochondrial myopathy\\\\\n",
       "\t PID0x6d89 &  6 & No  & Yes & Yes & Yes & 4.876896 & Miguel & Canada   & Zykevious & ⋯ & Singular & 7.370477 & normal            & 1 & 0 & 0 & 0 & 0 & Single-gene inheritance diseases             & Hemochromatosis       \\\\\n",
       "\\end{tabular}\n"
      ],
      "text/markdown": [
       "\n",
       "A tibble: 6 × 45\n",
       "\n",
       "| Patient Id &lt;chr&gt; | Patient Age &lt;dbl&gt; | Genes in mother's side &lt;chr&gt; | Inherited from father &lt;chr&gt; | Maternal gene &lt;chr&gt; | Paternal gene &lt;chr&gt; | Blood cell count (mcL) &lt;dbl&gt; | Patient First Name &lt;chr&gt; | Family Name &lt;chr&gt; | Father's name &lt;chr&gt; | ⋯ ⋯ | Birth defects &lt;chr&gt; | White Blood cell count (thousand per microliter) &lt;dbl&gt; | Blood test result &lt;chr&gt; | Symptom 1 &lt;dbl&gt; | Symptom 2 &lt;dbl&gt; | Symptom 3 &lt;dbl&gt; | Symptom 4 &lt;dbl&gt; | Symptom 5 &lt;dbl&gt; | Genetic Disorder &lt;chr&gt; | Disorder Subclass &lt;chr&gt; |\n",
       "|---|---|---|---|---|---|---|---|---|---|---|---|---|---|---|---|---|---|---|---|---|\n",
       "| PID0x8ce3 | 11 | No  | No  | Yes | No  | 5.209058 | Willie | Camacho  | Tr        | ⋯ | Multiple | 6.669552 | slightly abnormal | 1 | 1 | 1 | 0 | 1 | Mitochondrial genetic inheritance disorders  | Leigh syndrome         |\n",
       "| PID0x8660 |  4 | No  | Yes | Yes | Yes | 4.752272 | John   | Sandoval | Gregori   | ⋯ | Multiple | 6.397702 | abnormal          | 0 | 0 | 1 | 1 | 1 | Multifactorial genetic inheritance disorders | Diabetes               |\n",
       "| PID0x74ab |  1 | Yes | Yes | No  | No  | 4.612265 | Eric   | Harness  | Mano      | ⋯ | Singular | 7.995115 | slightly abnormal | 1 | 1 | 0 | 1 | 0 | Mitochondrial genetic inheritance disorders  | Leigh syndrome         |\n",
       "| PID0x7678 |  6 | Yes | No  | Yes | No  | 4.620420 | Ruth   | Homza    | Cesareo   | ⋯ | Multiple | 3.000000 | slightly abnormal | 1 | 0 | 1 | 0 | 1 | Mitochondrial genetic inheritance disorders  | Leigh syndrome         |\n",
       "| PID0x952d | 10 | Yes | Yes | Yes | No  | 4.751452 | James  | Whipple  | Dvon      | ⋯ | Singular | 9.382407 | abnormal          | 1 | 1 | 0 | 0 | 0 | Mitochondrial genetic inheritance disorders  | Mitochondrial myopathy |\n",
       "| PID0x6d89 |  6 | No  | Yes | Yes | Yes | 4.876896 | Miguel | Canada   | Zykevious | ⋯ | Singular | 7.370477 | normal            | 1 | 0 | 0 | 0 | 0 | Single-gene inheritance diseases             | Hemochromatosis        |\n",
       "\n"
      ],
      "text/plain": [
       "  Patient Id Patient Age Genes in mother's side Inherited from father\n",
       "1 PID0x8ce3  11          No                     No                   \n",
       "2 PID0x8660   4          No                     Yes                  \n",
       "3 PID0x74ab   1          Yes                    Yes                  \n",
       "4 PID0x7678   6          Yes                    No                   \n",
       "5 PID0x952d  10          Yes                    Yes                  \n",
       "6 PID0x6d89   6          No                     Yes                  \n",
       "  Maternal gene Paternal gene Blood cell count (mcL) Patient First Name\n",
       "1 Yes           No            5.209058               Willie            \n",
       "2 Yes           Yes           4.752272               John              \n",
       "3 No            No            4.612265               Eric              \n",
       "4 Yes           No            4.620420               Ruth              \n",
       "5 Yes           No            4.751452               James             \n",
       "6 Yes           Yes           4.876896               Miguel            \n",
       "  Family Name Father's name ⋯ Birth defects\n",
       "1 Camacho     Tr            ⋯ Multiple     \n",
       "2 Sandoval    Gregori       ⋯ Multiple     \n",
       "3 Harness     Mano          ⋯ Singular     \n",
       "4 Homza       Cesareo       ⋯ Multiple     \n",
       "5 Whipple     Dvon          ⋯ Singular     \n",
       "6 Canada      Zykevious     ⋯ Singular     \n",
       "  White Blood cell count (thousand per microliter) Blood test result Symptom 1\n",
       "1 6.669552                                         slightly abnormal 1        \n",
       "2 6.397702                                         abnormal          0        \n",
       "3 7.995115                                         slightly abnormal 1        \n",
       "4 3.000000                                         slightly abnormal 1        \n",
       "5 9.382407                                         abnormal          1        \n",
       "6 7.370477                                         normal            1        \n",
       "  Symptom 2 Symptom 3 Symptom 4 Symptom 5\n",
       "1 1         1         0         1        \n",
       "2 0         1         1         1        \n",
       "3 1         0         1         0        \n",
       "4 0         1         0         1        \n",
       "5 1         0         0         0        \n",
       "6 0         0         0         0        \n",
       "  Genetic Disorder                             Disorder Subclass     \n",
       "1 Mitochondrial genetic inheritance disorders  Leigh syndrome        \n",
       "2 Multifactorial genetic inheritance disorders Diabetes              \n",
       "3 Mitochondrial genetic inheritance disorders  Leigh syndrome        \n",
       "4 Mitochondrial genetic inheritance disorders  Leigh syndrome        \n",
       "5 Mitochondrial genetic inheritance disorders  Mitochondrial myopathy\n",
       "6 Single-gene inheritance diseases             Hemochromatosis       "
      ]
     },
     "metadata": {},
     "output_type": "display_data"
    }
   ],
   "source": [
    "df <-df %>% drop_na()\n",
    "head(df)"
   ]
  },
  {
   "cell_type": "code",
   "execution_count": 4,
   "id": "0f6e2837",
   "metadata": {},
   "outputs": [
    {
     "data": {
      "text/plain": [
       "  Patient Id         Patient Age     Genes in mother's side\n",
       " Length:6706        Min.   : 0.000   Length:6706           \n",
       " Class :character   1st Qu.: 3.000   Class :character      \n",
       " Mode  :character   Median : 7.000   Mode  :character      \n",
       "                    Mean   : 6.916                         \n",
       "                    3rd Qu.:11.000                         \n",
       "                    Max.   :14.000                         \n",
       " Inherited from father Maternal gene      Paternal gene     \n",
       " Length:6706           Length:6706        Length:6706       \n",
       " Class :character      Class :character   Class :character  \n",
       " Mode  :character      Mode  :character   Mode  :character  \n",
       "                                                            \n",
       "                                                            \n",
       "                                                            \n",
       " Blood cell count (mcL) Patient First Name Family Name       \n",
       " Min.   :4.146          Length:6706        Length:6706       \n",
       " 1st Qu.:4.767          Class :character   Class :character  \n",
       " Median :4.900          Mode  :character   Mode  :character  \n",
       " Mean   :4.901                                               \n",
       " 3rd Qu.:5.036                                               \n",
       " Max.   :5.610                                               \n",
       " Father's name       Mother's age    Father's age   Institute Name    \n",
       " Length:6706        Min.   :18.00   Min.   :20.00   Length:6706       \n",
       " Class :character   1st Qu.:26.00   1st Qu.:31.00   Class :character  \n",
       " Mode  :character   Median :35.00   Median :42.00   Mode  :character  \n",
       "                    Mean   :34.64   Mean   :41.99                     \n",
       "                    3rd Qu.:43.00   3rd Qu.:53.00                     \n",
       "                    Max.   :51.00   Max.   :64.00                     \n",
       " Location of Institute    Status          Respiratory Rate (breaths/min)\n",
       " Length:6706           Length:6706        Length:6706                   \n",
       " Class :character      Class :character   Class :character              \n",
       " Mode  :character      Mode  :character   Mode  :character              \n",
       "                                                                        \n",
       "                                                                        \n",
       "                                                                        \n",
       " Heart Rate (rates/min     Test 1      Test 2      Test 3      Test 4 \n",
       " Length:6706           Min.   :0   Min.   :0   Min.   :0   Min.   :1  \n",
       " Class :character      1st Qu.:0   1st Qu.:0   1st Qu.:0   1st Qu.:1  \n",
       " Mode  :character      Median :0   Median :0   Median :0   Median :1  \n",
       "                       Mean   :0   Mean   :0   Mean   :0   Mean   :1  \n",
       "                       3rd Qu.:0   3rd Qu.:0   3rd Qu.:0   3rd Qu.:1  \n",
       "                       Max.   :0   Max.   :0   Max.   :0   Max.   :1  \n",
       "     Test 5  Parental consent    Follow-up            Gender         \n",
       " Min.   :0   Length:6706        Length:6706        Length:6706       \n",
       " 1st Qu.:0   Class :character   Class :character   Class :character  \n",
       " Median :0   Mode  :character   Mode  :character   Mode  :character  \n",
       " Mean   :0                                                           \n",
       " 3rd Qu.:0                                                           \n",
       " Max.   :0                                                           \n",
       " Birth asphyxia     Autopsy shows birth defect (if applicable)\n",
       " Length:6706        Length:6706                               \n",
       " Class :character   Class :character                          \n",
       " Mode  :character   Mode  :character                          \n",
       "                                                              \n",
       "                                                              \n",
       "                                                              \n",
       " Place of birth     Folic acid details (peri-conceptional)\n",
       " Length:6706        Length:6706                           \n",
       " Class :character   Class :character                      \n",
       " Mode  :character   Mode  :character                      \n",
       "                                                          \n",
       "                                                          \n",
       "                                                          \n",
       " H/O serious maternal illness H/O radiation exposure (x-ray)\n",
       " Length:6706                  Length:6706                   \n",
       " Class :character             Class :character              \n",
       " Mode  :character             Mode  :character              \n",
       "                                                            \n",
       "                                                            \n",
       "                                                            \n",
       " H/O substance abuse Assisted conception IVF/ART\n",
       " Length:6706         Length:6706                \n",
       " Class :character    Class :character           \n",
       " Mode  :character    Mode  :character           \n",
       "                                                \n",
       "                                                \n",
       "                                                \n",
       " History of anomalies in previous pregnancies No. of previous abortion\n",
       " Length:6706                                  Min.   :0.000           \n",
       " Class :character                             1st Qu.:1.000           \n",
       " Mode  :character                             Median :2.000           \n",
       "                                              Mean   :1.999           \n",
       "                                              3rd Qu.:3.000           \n",
       "                                              Max.   :4.000           \n",
       " Birth defects      White Blood cell count (thousand per microliter)\n",
       " Length:6706        Min.   : 3.000                                  \n",
       " Class :character   1st Qu.: 5.355                                  \n",
       " Mode  :character   Median : 7.367                                  \n",
       "                    Mean   : 7.419                                  \n",
       "                    3rd Qu.: 9.439                                  \n",
       "                    Max.   :12.000                                  \n",
       " Blood test result    Symptom 1       Symptom 2        Symptom 3     \n",
       " Length:6706        Min.   :0.000   Min.   :0.0000   Min.   :0.0000  \n",
       " Class :character   1st Qu.:0.000   1st Qu.:0.0000   1st Qu.:0.0000  \n",
       " Mode  :character   Median :1.000   Median :1.0000   Median :1.0000  \n",
       "                    Mean   :0.589   Mean   :0.5495   Mean   :0.5391  \n",
       "                    3rd Qu.:1.000   3rd Qu.:1.0000   3rd Qu.:1.0000  \n",
       "                    Max.   :1.000   Max.   :1.0000   Max.   :1.0000  \n",
       "   Symptom 4        Symptom 5      Genetic Disorder   Disorder Subclass \n",
       " Min.   :0.0000   Min.   :0.0000   Length:6706        Length:6706       \n",
       " 1st Qu.:0.0000   1st Qu.:0.0000   Class :character   Class :character  \n",
       " Median :1.0000   Median :0.0000   Mode  :character   Mode  :character  \n",
       " Mean   :0.5013   Mean   :0.4705                                        \n",
       " 3rd Qu.:1.0000   3rd Qu.:1.0000                                        \n",
       " Max.   :1.0000   Max.   :1.0000                                        "
      ]
     },
     "metadata": {},
     "output_type": "display_data"
    }
   ],
   "source": [
    "summary(df)"
   ]
  },
  {
   "cell_type": "code",
   "execution_count": 5,
   "id": "ee1f44db",
   "metadata": {},
   "outputs": [
    {
     "name": "stdout",
     "output_type": "stream",
     "text": [
      "tibble [6,706 × 45] (S3: tbl_df/tbl/data.frame)\n",
      " $ Patient Id                                      : chr [1:6706] \"PID0x8ce3\" \"PID0x8660\" \"PID0x74ab\" \"PID0x7678\" ...\n",
      " $ Patient Age                                     : num [1:6706] 11 4 1 6 10 6 10 4 8 1 ...\n",
      " $ Genes in mother's side                          : chr [1:6706] \"No\" \"No\" \"Yes\" \"Yes\" ...\n",
      " $ Inherited from father                           : chr [1:6706] \"No\" \"Yes\" \"Yes\" \"No\" ...\n",
      " $ Maternal gene                                   : chr [1:6706] \"Yes\" \"Yes\" \"No\" \"Yes\" ...\n",
      " $ Paternal gene                                   : chr [1:6706] \"No\" \"Yes\" \"No\" \"No\" ...\n",
      " $ Blood cell count (mcL)                          : num [1:6706] 5.21 4.75 4.61 4.62 4.75 ...\n",
      " $ Patient First Name                              : chr [1:6706] \"Willie\" \"John\" \"Eric\" \"Ruth\" ...\n",
      " $ Family Name                                     : chr [1:6706] \"Camacho\" \"Sandoval\" \"Harness\" \"Homza\" ...\n",
      " $ Father's name                                   : chr [1:6706] \"Tr\" \"Gregori\" \"Mano\" \"Cesareo\" ...\n",
      " $ Mother's age                                    : num [1:6706] 45 44 50 41 40 36 30 49 18 38 ...\n",
      " $ Father's age                                    : num [1:6706] 44 42 56 20 57 48 42 28 31 61 ...\n",
      " $ Institute Name                                  : chr [1:6706] \"Lemuel Shattuck Hospital\" \"Shriners Burns Institute\" \"Not applicable\" \"Not applicable\" ...\n",
      " $ Location of Institute                           : chr [1:6706] \"125 NASHUA ST\\nCENTRAL, MA 02114\\n(42.36764789068138, -71.06564730220646)\" \"1200 Centre St\\nRoslindale, MA 02131\\n(42.29738386053219, -71.13150465441208)\" \"-\" \"-\" ...\n",
      " $ Status                                          : chr [1:6706] \"Alive\" \"Alive\" \"Deceased\" \"Alive\" ...\n",
      " $ Respiratory Rate (breaths/min)                  : chr [1:6706] \"Tachypnea\" \"Tachypnea\" \"Normal (30-60)\" \"Tachypnea\" ...\n",
      " $ Heart Rate (rates/min                           : chr [1:6706] \"Tachycardia\" \"Tachycardia\" \"Tachycardia\" \"Tachycardia\" ...\n",
      " $ Test 1                                          : num [1:6706] 0 0 0 0 0 0 0 0 0 0 ...\n",
      " $ Test 2                                          : num [1:6706] 0 0 0 0 0 0 0 0 0 0 ...\n",
      " $ Test 3                                          : num [1:6706] 0 0 0 0 0 0 0 0 0 0 ...\n",
      " $ Test 4                                          : num [1:6706] 1 1 1 1 1 1 1 1 1 1 ...\n",
      " $ Test 5                                          : num [1:6706] 0 0 0 0 0 0 0 0 0 0 ...\n",
      " $ Parental consent                                : chr [1:6706] \"Yes\" \"Yes\" \"Yes\" \"Yes\" ...\n",
      " $ Follow-up                                       : chr [1:6706] \"Low\" \"Low\" \"High\" \"High\" ...\n",
      " $ Gender                                          : chr [1:6706] \"Male\" \"Male\" \"Male\" \"Male\" ...\n",
      " $ Birth asphyxia                                  : chr [1:6706] \"Yes\" \"No\" \"Not available\" \"No\" ...\n",
      " $ Autopsy shows birth defect (if applicable)      : chr [1:6706] \"Not applicable\" \"Not applicable\" \"None\" \"Not applicable\" ...\n",
      " $ Place of birth                                  : chr [1:6706] \"Institute\" \"Institute\" \"Home\" \"Home\" ...\n",
      " $ Folic acid details (peri-conceptional)          : chr [1:6706] \"Yes\" \"Yes\" \"Yes\" \"Yes\" ...\n",
      " $ H/O serious maternal illness                    : chr [1:6706] \"Yes\" \"No\" \"No\" \"Yes\" ...\n",
      " $ H/O radiation exposure (x-ray)                  : chr [1:6706] \"No\" \"No\" \"Yes\" \"Yes\" ...\n",
      " $ H/O substance abuse                             : chr [1:6706] \"No\" \"No\" \"Not applicable\" \"-\" ...\n",
      " $ Assisted conception IVF/ART                     : chr [1:6706] \"No\" \"Yes\" \"Yes\" \"No\" ...\n",
      " $ History of anomalies in previous pregnancies    : chr [1:6706] \"Yes\" \"Yes\" \"Yes\" \"No\" ...\n",
      " $ No. of previous abortion                        : num [1:6706] 0 1 0 3 3 1 0 4 0 4 ...\n",
      " $ Birth defects                                   : chr [1:6706] \"Multiple\" \"Multiple\" \"Singular\" \"Multiple\" ...\n",
      " $ White Blood cell count (thousand per microliter): num [1:6706] 6.67 6.4 8 3 9.38 ...\n",
      " $ Blood test result                               : chr [1:6706] \"slightly abnormal\" \"abnormal\" \"slightly abnormal\" \"slightly abnormal\" ...\n",
      " $ Symptom 1                                       : num [1:6706] 1 0 1 1 1 1 1 1 1 0 ...\n",
      " $ Symptom 2                                       : num [1:6706] 1 0 1 0 1 0 1 0 0 1 ...\n",
      " $ Symptom 3                                       : num [1:6706] 1 1 0 1 0 0 1 0 1 0 ...\n",
      " $ Symptom 4                                       : num [1:6706] 0 1 1 0 0 0 1 1 0 1 ...\n",
      " $ Symptom 5                                       : num [1:6706] 1 1 0 1 0 0 1 0 0 0 ...\n",
      " $ Genetic Disorder                                : chr [1:6706] \"Mitochondrial genetic inheritance disorders\" \"Multifactorial genetic inheritance disorders\" \"Mitochondrial genetic inheritance disorders\" \"Mitochondrial genetic inheritance disorders\" ...\n",
      " $ Disorder Subclass                               : chr [1:6706] \"Leigh syndrome\" \"Diabetes\" \"Leigh syndrome\" \"Leigh syndrome\" ...\n"
     ]
    }
   ],
   "source": [
    "str(df)"
   ]
  },
  {
   "cell_type": "code",
   "execution_count": 6,
   "id": "9e051f9b",
   "metadata": {},
   "outputs": [
    {
     "data": {
      "text/html": [
       "<table class=\"dataframe\">\n",
       "<caption>A tibble: 6 × 45</caption>\n",
       "<thead>\n",
       "\t<tr><th scope=col>Patient Id</th><th scope=col>Patient Age</th><th scope=col>Genes in mother's side</th><th scope=col>Inherited from father</th><th scope=col>Maternal gene</th><th scope=col>Paternal gene</th><th scope=col>Blood cell count (mcL)</th><th scope=col>Patient First Name</th><th scope=col>Family Name</th><th scope=col>Father's name</th><th scope=col>⋯</th><th scope=col>Birth defects</th><th scope=col>White Blood cell count (thousand per microliter)</th><th scope=col>Blood test result</th><th scope=col>Symptom 1</th><th scope=col>Symptom 2</th><th scope=col>Symptom 3</th><th scope=col>Symptom 4</th><th scope=col>Symptom 5</th><th scope=col>Genetic Disorder</th><th scope=col>Disorder Subclass</th></tr>\n",
       "\t<tr><th scope=col>&lt;chr&gt;</th><th scope=col>&lt;dbl&gt;</th><th scope=col>&lt;dbl&gt;</th><th scope=col>&lt;dbl&gt;</th><th scope=col>&lt;dbl&gt;</th><th scope=col>&lt;dbl&gt;</th><th scope=col>&lt;dbl&gt;</th><th scope=col>&lt;chr&gt;</th><th scope=col>&lt;chr&gt;</th><th scope=col>&lt;chr&gt;</th><th scope=col>⋯</th><th scope=col>&lt;chr&gt;</th><th scope=col>&lt;dbl&gt;</th><th scope=col>&lt;chr&gt;</th><th scope=col>&lt;dbl&gt;</th><th scope=col>&lt;dbl&gt;</th><th scope=col>&lt;dbl&gt;</th><th scope=col>&lt;dbl&gt;</th><th scope=col>&lt;dbl&gt;</th><th scope=col>&lt;chr&gt;</th><th scope=col>&lt;chr&gt;</th></tr>\n",
       "</thead>\n",
       "<tbody>\n",
       "\t<tr><td>PID0x8ce3</td><td>11</td><td>0</td><td>0</td><td>1</td><td>0</td><td>5.209058</td><td>Willie</td><td>Camacho </td><td>Tr       </td><td>⋯</td><td>Multiple</td><td>6.669552</td><td>slightly abnormal</td><td>1</td><td>1</td><td>1</td><td>0</td><td>1</td><td>Mitochondrial genetic inheritance disorders </td><td>Leigh syndrome        </td></tr>\n",
       "\t<tr><td>PID0x8660</td><td> 4</td><td>0</td><td>1</td><td>1</td><td>1</td><td>4.752272</td><td>John  </td><td>Sandoval</td><td>Gregori  </td><td>⋯</td><td>Multiple</td><td>6.397702</td><td>abnormal         </td><td>0</td><td>0</td><td>1</td><td>1</td><td>1</td><td>Multifactorial genetic inheritance disorders</td><td>Diabetes              </td></tr>\n",
       "\t<tr><td>PID0x74ab</td><td> 1</td><td>1</td><td>1</td><td>0</td><td>0</td><td>4.612265</td><td>Eric  </td><td>Harness </td><td>Mano     </td><td>⋯</td><td>Singular</td><td>7.995115</td><td>slightly abnormal</td><td>1</td><td>1</td><td>0</td><td>1</td><td>0</td><td>Mitochondrial genetic inheritance disorders </td><td>Leigh syndrome        </td></tr>\n",
       "\t<tr><td>PID0x7678</td><td> 6</td><td>1</td><td>0</td><td>1</td><td>0</td><td>4.620420</td><td>Ruth  </td><td>Homza   </td><td>Cesareo  </td><td>⋯</td><td>Multiple</td><td>3.000000</td><td>slightly abnormal</td><td>1</td><td>0</td><td>1</td><td>0</td><td>1</td><td>Mitochondrial genetic inheritance disorders </td><td>Leigh syndrome        </td></tr>\n",
       "\t<tr><td>PID0x952d</td><td>10</td><td>1</td><td>1</td><td>1</td><td>0</td><td>4.751452</td><td>James </td><td>Whipple </td><td>Dvon     </td><td>⋯</td><td>Singular</td><td>9.382407</td><td>abnormal         </td><td>1</td><td>1</td><td>0</td><td>0</td><td>0</td><td>Mitochondrial genetic inheritance disorders </td><td>Mitochondrial myopathy</td></tr>\n",
       "\t<tr><td>PID0x6d89</td><td> 6</td><td>0</td><td>1</td><td>1</td><td>1</td><td>4.876896</td><td>Miguel</td><td>Canada  </td><td>Zykevious</td><td>⋯</td><td>Singular</td><td>7.370477</td><td>normal           </td><td>1</td><td>0</td><td>0</td><td>0</td><td>0</td><td>Single-gene inheritance diseases            </td><td>Hemochromatosis       </td></tr>\n",
       "</tbody>\n",
       "</table>\n"
      ],
      "text/latex": [
       "A tibble: 6 × 45\n",
       "\\begin{tabular}{lllllllllllllllllllll}\n",
       " Patient Id & Patient Age & Genes in mother's side & Inherited from father & Maternal gene & Paternal gene & Blood cell count (mcL) & Patient First Name & Family Name & Father's name & ⋯ & Birth defects & White Blood cell count (thousand per microliter) & Blood test result & Symptom 1 & Symptom 2 & Symptom 3 & Symptom 4 & Symptom 5 & Genetic Disorder & Disorder Subclass\\\\\n",
       " <chr> & <dbl> & <dbl> & <dbl> & <dbl> & <dbl> & <dbl> & <chr> & <chr> & <chr> & ⋯ & <chr> & <dbl> & <chr> & <dbl> & <dbl> & <dbl> & <dbl> & <dbl> & <chr> & <chr>\\\\\n",
       "\\hline\n",
       "\t PID0x8ce3 & 11 & 0 & 0 & 1 & 0 & 5.209058 & Willie & Camacho  & Tr        & ⋯ & Multiple & 6.669552 & slightly abnormal & 1 & 1 & 1 & 0 & 1 & Mitochondrial genetic inheritance disorders  & Leigh syndrome        \\\\\n",
       "\t PID0x8660 &  4 & 0 & 1 & 1 & 1 & 4.752272 & John   & Sandoval & Gregori   & ⋯ & Multiple & 6.397702 & abnormal          & 0 & 0 & 1 & 1 & 1 & Multifactorial genetic inheritance disorders & Diabetes              \\\\\n",
       "\t PID0x74ab &  1 & 1 & 1 & 0 & 0 & 4.612265 & Eric   & Harness  & Mano      & ⋯ & Singular & 7.995115 & slightly abnormal & 1 & 1 & 0 & 1 & 0 & Mitochondrial genetic inheritance disorders  & Leigh syndrome        \\\\\n",
       "\t PID0x7678 &  6 & 1 & 0 & 1 & 0 & 4.620420 & Ruth   & Homza    & Cesareo   & ⋯ & Multiple & 3.000000 & slightly abnormal & 1 & 0 & 1 & 0 & 1 & Mitochondrial genetic inheritance disorders  & Leigh syndrome        \\\\\n",
       "\t PID0x952d & 10 & 1 & 1 & 1 & 0 & 4.751452 & James  & Whipple  & Dvon      & ⋯ & Singular & 9.382407 & abnormal          & 1 & 1 & 0 & 0 & 0 & Mitochondrial genetic inheritance disorders  & Mitochondrial myopathy\\\\\n",
       "\t PID0x6d89 &  6 & 0 & 1 & 1 & 1 & 4.876896 & Miguel & Canada   & Zykevious & ⋯ & Singular & 7.370477 & normal            & 1 & 0 & 0 & 0 & 0 & Single-gene inheritance diseases             & Hemochromatosis       \\\\\n",
       "\\end{tabular}\n"
      ],
      "text/markdown": [
       "\n",
       "A tibble: 6 × 45\n",
       "\n",
       "| Patient Id &lt;chr&gt; | Patient Age &lt;dbl&gt; | Genes in mother's side &lt;dbl&gt; | Inherited from father &lt;dbl&gt; | Maternal gene &lt;dbl&gt; | Paternal gene &lt;dbl&gt; | Blood cell count (mcL) &lt;dbl&gt; | Patient First Name &lt;chr&gt; | Family Name &lt;chr&gt; | Father's name &lt;chr&gt; | ⋯ ⋯ | Birth defects &lt;chr&gt; | White Blood cell count (thousand per microliter) &lt;dbl&gt; | Blood test result &lt;chr&gt; | Symptom 1 &lt;dbl&gt; | Symptom 2 &lt;dbl&gt; | Symptom 3 &lt;dbl&gt; | Symptom 4 &lt;dbl&gt; | Symptom 5 &lt;dbl&gt; | Genetic Disorder &lt;chr&gt; | Disorder Subclass &lt;chr&gt; |\n",
       "|---|---|---|---|---|---|---|---|---|---|---|---|---|---|---|---|---|---|---|---|---|\n",
       "| PID0x8ce3 | 11 | 0 | 0 | 1 | 0 | 5.209058 | Willie | Camacho  | Tr        | ⋯ | Multiple | 6.669552 | slightly abnormal | 1 | 1 | 1 | 0 | 1 | Mitochondrial genetic inheritance disorders  | Leigh syndrome         |\n",
       "| PID0x8660 |  4 | 0 | 1 | 1 | 1 | 4.752272 | John   | Sandoval | Gregori   | ⋯ | Multiple | 6.397702 | abnormal          | 0 | 0 | 1 | 1 | 1 | Multifactorial genetic inheritance disorders | Diabetes               |\n",
       "| PID0x74ab |  1 | 1 | 1 | 0 | 0 | 4.612265 | Eric   | Harness  | Mano      | ⋯ | Singular | 7.995115 | slightly abnormal | 1 | 1 | 0 | 1 | 0 | Mitochondrial genetic inheritance disorders  | Leigh syndrome         |\n",
       "| PID0x7678 |  6 | 1 | 0 | 1 | 0 | 4.620420 | Ruth   | Homza    | Cesareo   | ⋯ | Multiple | 3.000000 | slightly abnormal | 1 | 0 | 1 | 0 | 1 | Mitochondrial genetic inheritance disorders  | Leigh syndrome         |\n",
       "| PID0x952d | 10 | 1 | 1 | 1 | 0 | 4.751452 | James  | Whipple  | Dvon      | ⋯ | Singular | 9.382407 | abnormal          | 1 | 1 | 0 | 0 | 0 | Mitochondrial genetic inheritance disorders  | Mitochondrial myopathy |\n",
       "| PID0x6d89 |  6 | 0 | 1 | 1 | 1 | 4.876896 | Miguel | Canada   | Zykevious | ⋯ | Singular | 7.370477 | normal            | 1 | 0 | 0 | 0 | 0 | Single-gene inheritance diseases             | Hemochromatosis        |\n",
       "\n"
      ],
      "text/plain": [
       "  Patient Id Patient Age Genes in mother's side Inherited from father\n",
       "1 PID0x8ce3  11          0                      0                    \n",
       "2 PID0x8660   4          0                      1                    \n",
       "3 PID0x74ab   1          1                      1                    \n",
       "4 PID0x7678   6          1                      0                    \n",
       "5 PID0x952d  10          1                      1                    \n",
       "6 PID0x6d89   6          0                      1                    \n",
       "  Maternal gene Paternal gene Blood cell count (mcL) Patient First Name\n",
       "1 1             0             5.209058               Willie            \n",
       "2 1             1             4.752272               John              \n",
       "3 0             0             4.612265               Eric              \n",
       "4 1             0             4.620420               Ruth              \n",
       "5 1             0             4.751452               James             \n",
       "6 1             1             4.876896               Miguel            \n",
       "  Family Name Father's name ⋯ Birth defects\n",
       "1 Camacho     Tr            ⋯ Multiple     \n",
       "2 Sandoval    Gregori       ⋯ Multiple     \n",
       "3 Harness     Mano          ⋯ Singular     \n",
       "4 Homza       Cesareo       ⋯ Multiple     \n",
       "5 Whipple     Dvon          ⋯ Singular     \n",
       "6 Canada      Zykevious     ⋯ Singular     \n",
       "  White Blood cell count (thousand per microliter) Blood test result Symptom 1\n",
       "1 6.669552                                         slightly abnormal 1        \n",
       "2 6.397702                                         abnormal          0        \n",
       "3 7.995115                                         slightly abnormal 1        \n",
       "4 3.000000                                         slightly abnormal 1        \n",
       "5 9.382407                                         abnormal          1        \n",
       "6 7.370477                                         normal            1        \n",
       "  Symptom 2 Symptom 3 Symptom 4 Symptom 5\n",
       "1 1         1         0         1        \n",
       "2 0         1         1         1        \n",
       "3 1         0         1         0        \n",
       "4 0         1         0         1        \n",
       "5 1         0         0         0        \n",
       "6 0         0         0         0        \n",
       "  Genetic Disorder                             Disorder Subclass     \n",
       "1 Mitochondrial genetic inheritance disorders  Leigh syndrome        \n",
       "2 Multifactorial genetic inheritance disorders Diabetes              \n",
       "3 Mitochondrial genetic inheritance disorders  Leigh syndrome        \n",
       "4 Mitochondrial genetic inheritance disorders  Leigh syndrome        \n",
       "5 Mitochondrial genetic inheritance disorders  Mitochondrial myopathy\n",
       "6 Single-gene inheritance diseases             Hemochromatosis       "
      ]
     },
     "metadata": {},
     "output_type": "display_data"
    }
   ],
   "source": [
    "df$\"Genes in mother's side\"<-ifelse(df$\"Genes in mother's side\"==\"Yes\",1,0)\n",
    "df$\"Inherited from father\"<-ifelse(df$\"Inherited from father\"==\"Yes\",1,0)\n",
    "df$\"Maternal gene\"<-ifelse(df$\"Maternal gene\"==\"Yes\",1,0)\n",
    "df$\"Paternal gene\"<-ifelse(df$\"Paternal gene\"==\"Yes\",1,0)\n",
    "df$\"Folic acid details (peri-conceptional)\"<-ifelse(df$\"Folic acid details (peri-conceptional)\"==\"Yes\",1,0)      \n",
    "df$\"History of anomalies in previous pregnancies\"<-ifelse(df$\"History of anomalies in previous pregnancies\"==\"Yes\",1,0)\n",
    "df$\"Assisted conception IVF/ART\"<-ifelse(df$\"Assisted conception IVF/ART\"==\"Yes\",1,0)\n",
    "df$\"H/O radiation exposure (x-ray)\"<-ifelse(df$\"H/O radiation exposure (x-ray)\"==\"Yes\",1,0)\n",
    "df$\"H/O serious maternal illness\"<-ifelse(df$\"H/O serious maternal illness\"==\"Yes\",1,0)\n",
    "df$\"Status\"<-ifelse(df$\"Status\"==\"Alive\",1,0)\n",
    "head(df)"
   ]
  },
  {
   "cell_type": "code",
   "execution_count": 7,
   "id": "b0b6f520",
   "metadata": {
    "scrolled": false
   },
   "outputs": [
    {
     "data": {
      "text/plain": [
       "  Patient Id         Patient Age     Genes in mother's side\n",
       " Length:6706        Min.   : 0.000   Min.   :0.0000        \n",
       " Class :character   1st Qu.: 3.000   1st Qu.:0.0000        \n",
       " Mode  :character   Median : 7.000   Median :1.0000        \n",
       "                    Mean   : 6.916   Mean   :0.5978        \n",
       "                    3rd Qu.:11.000   3rd Qu.:1.0000        \n",
       "                    Max.   :14.000   Max.   :1.0000        \n",
       " Inherited from father Maternal gene    Paternal gene    Blood cell count (mcL)\n",
       " Min.   :0.0000        Min.   :0.0000   Min.   :0.0000   Min.   :4.146         \n",
       " 1st Qu.:0.0000        1st Qu.:0.0000   1st Qu.:0.0000   1st Qu.:4.767         \n",
       " Median :0.0000        Median :1.0000   Median :0.0000   Median :4.900         \n",
       " Mean   :0.3998        Mean   :0.5598   Mean   :0.4299   Mean   :4.901         \n",
       " 3rd Qu.:1.0000        3rd Qu.:1.0000   3rd Qu.:1.0000   3rd Qu.:5.036         \n",
       " Max.   :1.0000        Max.   :1.0000   Max.   :1.0000   Max.   :5.610         \n",
       " Patient First Name Family Name        Father's name       Mother's age  \n",
       " Length:6706        Length:6706        Length:6706        Min.   :18.00  \n",
       " Class :character   Class :character   Class :character   1st Qu.:26.00  \n",
       " Mode  :character   Mode  :character   Mode  :character   Median :35.00  \n",
       "                                                          Mean   :34.64  \n",
       "                                                          3rd Qu.:43.00  \n",
       "                                                          Max.   :51.00  \n",
       "  Father's age   Institute Name     Location of Institute     Status      \n",
       " Min.   :20.00   Length:6706        Length:6706           Min.   :0.0000  \n",
       " 1st Qu.:31.00   Class :character   Class :character      1st Qu.:0.0000  \n",
       " Median :42.00   Mode  :character   Mode  :character      Median :1.0000  \n",
       " Mean   :41.99                                            Mean   :0.5042  \n",
       " 3rd Qu.:53.00                                            3rd Qu.:1.0000  \n",
       " Max.   :64.00                                            Max.   :1.0000  \n",
       " Respiratory Rate (breaths/min) Heart Rate (rates/min     Test 1      Test 2 \n",
       " Length:6706                    Length:6706           Min.   :0   Min.   :0  \n",
       " Class :character               Class :character      1st Qu.:0   1st Qu.:0  \n",
       " Mode  :character               Mode  :character      Median :0   Median :0  \n",
       "                                                      Mean   :0   Mean   :0  \n",
       "                                                      3rd Qu.:0   3rd Qu.:0  \n",
       "                                                      Max.   :0   Max.   :0  \n",
       "     Test 3      Test 4      Test 5  Parental consent    Follow-up        \n",
       " Min.   :0   Min.   :1   Min.   :0   Length:6706        Length:6706       \n",
       " 1st Qu.:0   1st Qu.:1   1st Qu.:0   Class :character   Class :character  \n",
       " Median :0   Median :1   Median :0   Mode  :character   Mode  :character  \n",
       " Mean   :0   Mean   :1   Mean   :0                                        \n",
       " 3rd Qu.:0   3rd Qu.:1   3rd Qu.:0                                        \n",
       " Max.   :0   Max.   :1   Max.   :0                                        \n",
       "    Gender          Birth asphyxia    \n",
       " Length:6706        Length:6706       \n",
       " Class :character   Class :character  \n",
       " Mode  :character   Mode  :character  \n",
       "                                      \n",
       "                                      \n",
       "                                      \n",
       " Autopsy shows birth defect (if applicable) Place of birth    \n",
       " Length:6706                                Length:6706       \n",
       " Class :character                           Class :character  \n",
       " Mode  :character                           Mode  :character  \n",
       "                                                              \n",
       "                                                              \n",
       "                                                              \n",
       " Folic acid details (peri-conceptional) H/O serious maternal illness\n",
       " Min.   :0.0000                         Min.   :0.0000              \n",
       " 1st Qu.:0.0000                         1st Qu.:0.0000              \n",
       " Median :1.0000                         Median :0.0000              \n",
       " Mean   :0.5027                         Mean   :0.4948              \n",
       " 3rd Qu.:1.0000                         3rd Qu.:1.0000              \n",
       " Max.   :1.0000                         Max.   :1.0000              \n",
       " H/O radiation exposure (x-ray) H/O substance abuse Assisted conception IVF/ART\n",
       " Min.   :0.0000                 Length:6706         Min.   :0.0000             \n",
       " 1st Qu.:0.0000                 Class :character    1st Qu.:0.0000             \n",
       " Median :0.0000                 Mode  :character    Median :1.0000             \n",
       " Mean   :0.2498                                     Mean   :0.5067             \n",
       " 3rd Qu.:0.0000                                     3rd Qu.:1.0000             \n",
       " Max.   :1.0000                                     Max.   :1.0000             \n",
       " History of anomalies in previous pregnancies No. of previous abortion\n",
       " Min.   :0.0000                               Min.   :0.000           \n",
       " 1st Qu.:0.0000                               1st Qu.:1.000           \n",
       " Median :1.0000                               Median :2.000           \n",
       " Mean   :0.5101                               Mean   :1.999           \n",
       " 3rd Qu.:1.0000                               3rd Qu.:3.000           \n",
       " Max.   :1.0000                               Max.   :4.000           \n",
       " Birth defects      White Blood cell count (thousand per microliter)\n",
       " Length:6706        Min.   : 3.000                                  \n",
       " Class :character   1st Qu.: 5.355                                  \n",
       " Mode  :character   Median : 7.367                                  \n",
       "                    Mean   : 7.419                                  \n",
       "                    3rd Qu.: 9.439                                  \n",
       "                    Max.   :12.000                                  \n",
       " Blood test result    Symptom 1       Symptom 2        Symptom 3     \n",
       " Length:6706        Min.   :0.000   Min.   :0.0000   Min.   :0.0000  \n",
       " Class :character   1st Qu.:0.000   1st Qu.:0.0000   1st Qu.:0.0000  \n",
       " Mode  :character   Median :1.000   Median :1.0000   Median :1.0000  \n",
       "                    Mean   :0.589   Mean   :0.5495   Mean   :0.5391  \n",
       "                    3rd Qu.:1.000   3rd Qu.:1.0000   3rd Qu.:1.0000  \n",
       "                    Max.   :1.000   Max.   :1.0000   Max.   :1.0000  \n",
       "   Symptom 4        Symptom 5      Genetic Disorder   Disorder Subclass \n",
       " Min.   :0.0000   Min.   :0.0000   Length:6706        Length:6706       \n",
       " 1st Qu.:0.0000   1st Qu.:0.0000   Class :character   Class :character  \n",
       " Median :1.0000   Median :0.0000   Mode  :character   Mode  :character  \n",
       " Mean   :0.5013   Mean   :0.4705                                        \n",
       " 3rd Qu.:1.0000   3rd Qu.:1.0000                                        \n",
       " Max.   :1.0000   Max.   :1.0000                                        "
      ]
     },
     "metadata": {},
     "output_type": "display_data"
    }
   ],
   "source": [
    "summary(df)"
   ]
  },
  {
   "cell_type": "code",
   "execution_count": 8,
   "id": "efe72657",
   "metadata": {},
   "outputs": [],
   "source": [
    "drop <- c(\"Patient Id\",\"Patient First Name\",\"Family Name\",\"Father's name\",\"Institute Name\",\"Location of Institute\")\n",
    "df = df[,!(names(df) %in% drop)]"
   ]
  },
  {
   "cell_type": "code",
   "execution_count": 9,
   "id": "92d3b93f",
   "metadata": {},
   "outputs": [
    {
     "name": "stdout",
     "output_type": "stream",
     "text": [
      "tibble [6,706 × 39] (S3: tbl_df/tbl/data.frame)\n",
      " $ Patient Age                                     : num [1:6706] 11 4 1 6 10 6 10 4 8 1 ...\n",
      " $ Genes in mother's side                          : num [1:6706] 0 0 1 1 1 0 1 0 0 1 ...\n",
      " $ Inherited from father                           : num [1:6706] 0 1 1 0 1 1 1 0 1 1 ...\n",
      " $ Maternal gene                                   : num [1:6706] 1 1 0 1 1 1 1 1 0 0 ...\n",
      " $ Paternal gene                                   : num [1:6706] 0 1 0 0 0 1 0 0 1 1 ...\n",
      " $ Blood cell count (mcL)                          : num [1:6706] 5.21 4.75 4.61 4.62 4.75 ...\n",
      " $ Mother's age                                    : num [1:6706] 45 44 50 41 40 36 30 49 18 38 ...\n",
      " $ Father's age                                    : num [1:6706] 44 42 56 20 57 48 42 28 31 61 ...\n",
      " $ Status                                          : num [1:6706] 1 1 0 1 0 0 0 0 0 0 ...\n",
      " $ Respiratory Rate (breaths/min)                  : chr [1:6706] \"Tachypnea\" \"Tachypnea\" \"Normal (30-60)\" \"Tachypnea\" ...\n",
      " $ Heart Rate (rates/min                           : chr [1:6706] \"Tachycardia\" \"Tachycardia\" \"Tachycardia\" \"Tachycardia\" ...\n",
      " $ Test 1                                          : num [1:6706] 0 0 0 0 0 0 0 0 0 0 ...\n",
      " $ Test 2                                          : num [1:6706] 0 0 0 0 0 0 0 0 0 0 ...\n",
      " $ Test 3                                          : num [1:6706] 0 0 0 0 0 0 0 0 0 0 ...\n",
      " $ Test 4                                          : num [1:6706] 1 1 1 1 1 1 1 1 1 1 ...\n",
      " $ Test 5                                          : num [1:6706] 0 0 0 0 0 0 0 0 0 0 ...\n",
      " $ Parental consent                                : chr [1:6706] \"Yes\" \"Yes\" \"Yes\" \"Yes\" ...\n",
      " $ Follow-up                                       : chr [1:6706] \"Low\" \"Low\" \"High\" \"High\" ...\n",
      " $ Gender                                          : chr [1:6706] \"Male\" \"Male\" \"Male\" \"Male\" ...\n",
      " $ Birth asphyxia                                  : chr [1:6706] \"Yes\" \"No\" \"Not available\" \"No\" ...\n",
      " $ Autopsy shows birth defect (if applicable)      : chr [1:6706] \"Not applicable\" \"Not applicable\" \"None\" \"Not applicable\" ...\n",
      " $ Place of birth                                  : chr [1:6706] \"Institute\" \"Institute\" \"Home\" \"Home\" ...\n",
      " $ Folic acid details (peri-conceptional)          : num [1:6706] 1 1 1 1 0 1 1 1 0 0 ...\n",
      " $ H/O serious maternal illness                    : num [1:6706] 1 0 0 1 0 1 1 0 1 1 ...\n",
      " $ H/O radiation exposure (x-ray)                  : num [1:6706] 0 0 1 1 1 0 0 0 1 0 ...\n",
      " $ H/O substance abuse                             : chr [1:6706] \"No\" \"No\" \"Not applicable\" \"-\" ...\n",
      " $ Assisted conception IVF/ART                     : num [1:6706] 0 1 1 0 1 1 0 0 1 0 ...\n",
      " $ History of anomalies in previous pregnancies    : num [1:6706] 1 1 1 0 1 0 1 1 1 1 ...\n",
      " $ No. of previous abortion                        : num [1:6706] 0 1 0 3 3 1 0 4 0 4 ...\n",
      " $ Birth defects                                   : chr [1:6706] \"Multiple\" \"Multiple\" \"Singular\" \"Multiple\" ...\n",
      " $ White Blood cell count (thousand per microliter): num [1:6706] 6.67 6.4 8 3 9.38 ...\n",
      " $ Blood test result                               : chr [1:6706] \"slightly abnormal\" \"abnormal\" \"slightly abnormal\" \"slightly abnormal\" ...\n",
      " $ Symptom 1                                       : num [1:6706] 1 0 1 1 1 1 1 1 1 0 ...\n",
      " $ Symptom 2                                       : num [1:6706] 1 0 1 0 1 0 1 0 0 1 ...\n",
      " $ Symptom 3                                       : num [1:6706] 1 1 0 1 0 0 1 0 1 0 ...\n",
      " $ Symptom 4                                       : num [1:6706] 0 1 1 0 0 0 1 1 0 1 ...\n",
      " $ Symptom 5                                       : num [1:6706] 1 1 0 1 0 0 1 0 0 0 ...\n",
      " $ Genetic Disorder                                : chr [1:6706] \"Mitochondrial genetic inheritance disorders\" \"Multifactorial genetic inheritance disorders\" \"Mitochondrial genetic inheritance disorders\" \"Mitochondrial genetic inheritance disorders\" ...\n",
      " $ Disorder Subclass                               : chr [1:6706] \"Leigh syndrome\" \"Diabetes\" \"Leigh syndrome\" \"Leigh syndrome\" ...\n"
     ]
    }
   ],
   "source": [
    "str(df)"
   ]
  },
  {
   "cell_type": "code",
   "execution_count": 10,
   "id": "2ce010d7",
   "metadata": {},
   "outputs": [],
   "source": [
    "drop <- c(\"Test 1\",\"Test 2\",\"Test 3\",\"Test 4\",\"Test 5\",\"Parental consent\",\"Place of birth\")\n",
    "df = df[,!(names(df) %in% drop)]"
   ]
  },
  {
   "cell_type": "code",
   "execution_count": 11,
   "id": "8fc1b67e",
   "metadata": {},
   "outputs": [
    {
     "data": {
      "text/html": [
       "<table class=\"dataframe\">\n",
       "<caption>A tibble: 6 × 32</caption>\n",
       "<thead>\n",
       "\t<tr><th scope=col>Patient Age</th><th scope=col>Genes in mother's side</th><th scope=col>Inherited from father</th><th scope=col>Maternal gene</th><th scope=col>Paternal gene</th><th scope=col>Blood cell count (mcL)</th><th scope=col>Mother's age</th><th scope=col>Father's age</th><th scope=col>Status</th><th scope=col>Respiratory Rate (breaths/min)</th><th scope=col>⋯</th><th scope=col>Birth defects</th><th scope=col>White Blood cell count (thousand per microliter)</th><th scope=col>Blood test result</th><th scope=col>Symptom 1</th><th scope=col>Symptom 2</th><th scope=col>Symptom 3</th><th scope=col>Symptom 4</th><th scope=col>Symptom 5</th><th scope=col>Genetic Disorder</th><th scope=col>Disorder Subclass</th></tr>\n",
       "\t<tr><th scope=col>&lt;dbl&gt;</th><th scope=col>&lt;dbl&gt;</th><th scope=col>&lt;dbl&gt;</th><th scope=col>&lt;dbl&gt;</th><th scope=col>&lt;dbl&gt;</th><th scope=col>&lt;dbl&gt;</th><th scope=col>&lt;dbl&gt;</th><th scope=col>&lt;dbl&gt;</th><th scope=col>&lt;dbl&gt;</th><th scope=col>&lt;chr&gt;</th><th scope=col>⋯</th><th scope=col>&lt;chr&gt;</th><th scope=col>&lt;dbl&gt;</th><th scope=col>&lt;chr&gt;</th><th scope=col>&lt;dbl&gt;</th><th scope=col>&lt;dbl&gt;</th><th scope=col>&lt;dbl&gt;</th><th scope=col>&lt;dbl&gt;</th><th scope=col>&lt;dbl&gt;</th><th scope=col>&lt;chr&gt;</th><th scope=col>&lt;chr&gt;</th></tr>\n",
       "</thead>\n",
       "<tbody>\n",
       "\t<tr><td>11</td><td>0</td><td>0</td><td>1</td><td>0</td><td>5.209058</td><td>45</td><td>44</td><td>1</td><td>Tachypnea     </td><td>⋯</td><td>Multiple</td><td>6.669552</td><td>slightly abnormal</td><td>1</td><td>1</td><td>1</td><td>0</td><td>1</td><td>Mitochondrial genetic inheritance disorders </td><td>Leigh syndrome        </td></tr>\n",
       "\t<tr><td> 4</td><td>0</td><td>1</td><td>1</td><td>1</td><td>4.752272</td><td>44</td><td>42</td><td>1</td><td>Tachypnea     </td><td>⋯</td><td>Multiple</td><td>6.397702</td><td>abnormal         </td><td>0</td><td>0</td><td>1</td><td>1</td><td>1</td><td>Multifactorial genetic inheritance disorders</td><td>Diabetes              </td></tr>\n",
       "\t<tr><td> 1</td><td>1</td><td>1</td><td>0</td><td>0</td><td>4.612265</td><td>50</td><td>56</td><td>0</td><td>Normal (30-60)</td><td>⋯</td><td>Singular</td><td>7.995115</td><td>slightly abnormal</td><td>1</td><td>1</td><td>0</td><td>1</td><td>0</td><td>Mitochondrial genetic inheritance disorders </td><td>Leigh syndrome        </td></tr>\n",
       "\t<tr><td> 6</td><td>1</td><td>0</td><td>1</td><td>0</td><td>4.620420</td><td>41</td><td>20</td><td>1</td><td>Tachypnea     </td><td>⋯</td><td>Multiple</td><td>3.000000</td><td>slightly abnormal</td><td>1</td><td>0</td><td>1</td><td>0</td><td>1</td><td>Mitochondrial genetic inheritance disorders </td><td>Leigh syndrome        </td></tr>\n",
       "\t<tr><td>10</td><td>1</td><td>1</td><td>1</td><td>0</td><td>4.751452</td><td>40</td><td>57</td><td>0</td><td>Normal (30-60)</td><td>⋯</td><td>Singular</td><td>9.382407</td><td>abnormal         </td><td>1</td><td>1</td><td>0</td><td>0</td><td>0</td><td>Mitochondrial genetic inheritance disorders </td><td>Mitochondrial myopathy</td></tr>\n",
       "\t<tr><td> 6</td><td>0</td><td>1</td><td>1</td><td>1</td><td>4.876896</td><td>36</td><td>48</td><td>0</td><td>Tachypnea     </td><td>⋯</td><td>Singular</td><td>7.370477</td><td>normal           </td><td>1</td><td>0</td><td>0</td><td>0</td><td>0</td><td>Single-gene inheritance diseases            </td><td>Hemochromatosis       </td></tr>\n",
       "</tbody>\n",
       "</table>\n"
      ],
      "text/latex": [
       "A tibble: 6 × 32\n",
       "\\begin{tabular}{lllllllllllllllllllll}\n",
       " Patient Age & Genes in mother's side & Inherited from father & Maternal gene & Paternal gene & Blood cell count (mcL) & Mother's age & Father's age & Status & Respiratory Rate (breaths/min) & ⋯ & Birth defects & White Blood cell count (thousand per microliter) & Blood test result & Symptom 1 & Symptom 2 & Symptom 3 & Symptom 4 & Symptom 5 & Genetic Disorder & Disorder Subclass\\\\\n",
       " <dbl> & <dbl> & <dbl> & <dbl> & <dbl> & <dbl> & <dbl> & <dbl> & <dbl> & <chr> & ⋯ & <chr> & <dbl> & <chr> & <dbl> & <dbl> & <dbl> & <dbl> & <dbl> & <chr> & <chr>\\\\\n",
       "\\hline\n",
       "\t 11 & 0 & 0 & 1 & 0 & 5.209058 & 45 & 44 & 1 & Tachypnea      & ⋯ & Multiple & 6.669552 & slightly abnormal & 1 & 1 & 1 & 0 & 1 & Mitochondrial genetic inheritance disorders  & Leigh syndrome        \\\\\n",
       "\t  4 & 0 & 1 & 1 & 1 & 4.752272 & 44 & 42 & 1 & Tachypnea      & ⋯ & Multiple & 6.397702 & abnormal          & 0 & 0 & 1 & 1 & 1 & Multifactorial genetic inheritance disorders & Diabetes              \\\\\n",
       "\t  1 & 1 & 1 & 0 & 0 & 4.612265 & 50 & 56 & 0 & Normal (30-60) & ⋯ & Singular & 7.995115 & slightly abnormal & 1 & 1 & 0 & 1 & 0 & Mitochondrial genetic inheritance disorders  & Leigh syndrome        \\\\\n",
       "\t  6 & 1 & 0 & 1 & 0 & 4.620420 & 41 & 20 & 1 & Tachypnea      & ⋯ & Multiple & 3.000000 & slightly abnormal & 1 & 0 & 1 & 0 & 1 & Mitochondrial genetic inheritance disorders  & Leigh syndrome        \\\\\n",
       "\t 10 & 1 & 1 & 1 & 0 & 4.751452 & 40 & 57 & 0 & Normal (30-60) & ⋯ & Singular & 9.382407 & abnormal          & 1 & 1 & 0 & 0 & 0 & Mitochondrial genetic inheritance disorders  & Mitochondrial myopathy\\\\\n",
       "\t  6 & 0 & 1 & 1 & 1 & 4.876896 & 36 & 48 & 0 & Tachypnea      & ⋯ & Singular & 7.370477 & normal            & 1 & 0 & 0 & 0 & 0 & Single-gene inheritance diseases             & Hemochromatosis       \\\\\n",
       "\\end{tabular}\n"
      ],
      "text/markdown": [
       "\n",
       "A tibble: 6 × 32\n",
       "\n",
       "| Patient Age &lt;dbl&gt; | Genes in mother's side &lt;dbl&gt; | Inherited from father &lt;dbl&gt; | Maternal gene &lt;dbl&gt; | Paternal gene &lt;dbl&gt; | Blood cell count (mcL) &lt;dbl&gt; | Mother's age &lt;dbl&gt; | Father's age &lt;dbl&gt; | Status &lt;dbl&gt; | Respiratory Rate (breaths/min) &lt;chr&gt; | ⋯ ⋯ | Birth defects &lt;chr&gt; | White Blood cell count (thousand per microliter) &lt;dbl&gt; | Blood test result &lt;chr&gt; | Symptom 1 &lt;dbl&gt; | Symptom 2 &lt;dbl&gt; | Symptom 3 &lt;dbl&gt; | Symptom 4 &lt;dbl&gt; | Symptom 5 &lt;dbl&gt; | Genetic Disorder &lt;chr&gt; | Disorder Subclass &lt;chr&gt; |\n",
       "|---|---|---|---|---|---|---|---|---|---|---|---|---|---|---|---|---|---|---|---|---|\n",
       "| 11 | 0 | 0 | 1 | 0 | 5.209058 | 45 | 44 | 1 | Tachypnea      | ⋯ | Multiple | 6.669552 | slightly abnormal | 1 | 1 | 1 | 0 | 1 | Mitochondrial genetic inheritance disorders  | Leigh syndrome         |\n",
       "|  4 | 0 | 1 | 1 | 1 | 4.752272 | 44 | 42 | 1 | Tachypnea      | ⋯ | Multiple | 6.397702 | abnormal          | 0 | 0 | 1 | 1 | 1 | Multifactorial genetic inheritance disorders | Diabetes               |\n",
       "|  1 | 1 | 1 | 0 | 0 | 4.612265 | 50 | 56 | 0 | Normal (30-60) | ⋯ | Singular | 7.995115 | slightly abnormal | 1 | 1 | 0 | 1 | 0 | Mitochondrial genetic inheritance disorders  | Leigh syndrome         |\n",
       "|  6 | 1 | 0 | 1 | 0 | 4.620420 | 41 | 20 | 1 | Tachypnea      | ⋯ | Multiple | 3.000000 | slightly abnormal | 1 | 0 | 1 | 0 | 1 | Mitochondrial genetic inheritance disorders  | Leigh syndrome         |\n",
       "| 10 | 1 | 1 | 1 | 0 | 4.751452 | 40 | 57 | 0 | Normal (30-60) | ⋯ | Singular | 9.382407 | abnormal          | 1 | 1 | 0 | 0 | 0 | Mitochondrial genetic inheritance disorders  | Mitochondrial myopathy |\n",
       "|  6 | 0 | 1 | 1 | 1 | 4.876896 | 36 | 48 | 0 | Tachypnea      | ⋯ | Singular | 7.370477 | normal            | 1 | 0 | 0 | 0 | 0 | Single-gene inheritance diseases             | Hemochromatosis        |\n",
       "\n"
      ],
      "text/plain": [
       "  Patient Age Genes in mother's side Inherited from father Maternal gene\n",
       "1 11          0                      0                     1            \n",
       "2  4          0                      1                     1            \n",
       "3  1          1                      1                     0            \n",
       "4  6          1                      0                     1            \n",
       "5 10          1                      1                     1            \n",
       "6  6          0                      1                     1            \n",
       "  Paternal gene Blood cell count (mcL) Mother's age Father's age Status\n",
       "1 0             5.209058               45           44           1     \n",
       "2 1             4.752272               44           42           1     \n",
       "3 0             4.612265               50           56           0     \n",
       "4 0             4.620420               41           20           1     \n",
       "5 0             4.751452               40           57           0     \n",
       "6 1             4.876896               36           48           0     \n",
       "  Respiratory Rate (breaths/min) ⋯ Birth defects\n",
       "1 Tachypnea                      ⋯ Multiple     \n",
       "2 Tachypnea                      ⋯ Multiple     \n",
       "3 Normal (30-60)                 ⋯ Singular     \n",
       "4 Tachypnea                      ⋯ Multiple     \n",
       "5 Normal (30-60)                 ⋯ Singular     \n",
       "6 Tachypnea                      ⋯ Singular     \n",
       "  White Blood cell count (thousand per microliter) Blood test result Symptom 1\n",
       "1 6.669552                                         slightly abnormal 1        \n",
       "2 6.397702                                         abnormal          0        \n",
       "3 7.995115                                         slightly abnormal 1        \n",
       "4 3.000000                                         slightly abnormal 1        \n",
       "5 9.382407                                         abnormal          1        \n",
       "6 7.370477                                         normal            1        \n",
       "  Symptom 2 Symptom 3 Symptom 4 Symptom 5\n",
       "1 1         1         0         1        \n",
       "2 0         1         1         1        \n",
       "3 1         0         1         0        \n",
       "4 0         1         0         1        \n",
       "5 1         0         0         0        \n",
       "6 0         0         0         0        \n",
       "  Genetic Disorder                             Disorder Subclass     \n",
       "1 Mitochondrial genetic inheritance disorders  Leigh syndrome        \n",
       "2 Multifactorial genetic inheritance disorders Diabetes              \n",
       "3 Mitochondrial genetic inheritance disorders  Leigh syndrome        \n",
       "4 Mitochondrial genetic inheritance disorders  Leigh syndrome        \n",
       "5 Mitochondrial genetic inheritance disorders  Mitochondrial myopathy\n",
       "6 Single-gene inheritance diseases             Hemochromatosis       "
      ]
     },
     "metadata": {},
     "output_type": "display_data"
    },
    {
     "data": {
      "text/html": [
       "<table class=\"dataframe\">\n",
       "<caption>A tibble: 6 × 32</caption>\n",
       "<thead>\n",
       "\t<tr><th scope=col>Patient Age</th><th scope=col>Genes in mother's side</th><th scope=col>Inherited from father</th><th scope=col>Maternal gene</th><th scope=col>Paternal gene</th><th scope=col>Blood cell count (mcL)</th><th scope=col>Mother's age</th><th scope=col>Father's age</th><th scope=col>Status</th><th scope=col>Respiratory Rate (breaths/min)</th><th scope=col>⋯</th><th scope=col>Birth defects</th><th scope=col>White Blood cell count (thousand per microliter)</th><th scope=col>Blood test result</th><th scope=col>Symptom 1</th><th scope=col>Symptom 2</th><th scope=col>Symptom 3</th><th scope=col>Symptom 4</th><th scope=col>Symptom 5</th><th scope=col>Genetic Disorder</th><th scope=col>Disorder Subclass</th></tr>\n",
       "\t<tr><th scope=col>&lt;dbl&gt;</th><th scope=col>&lt;dbl&gt;</th><th scope=col>&lt;dbl&gt;</th><th scope=col>&lt;dbl&gt;</th><th scope=col>&lt;dbl&gt;</th><th scope=col>&lt;dbl&gt;</th><th scope=col>&lt;dbl&gt;</th><th scope=col>&lt;dbl&gt;</th><th scope=col>&lt;dbl&gt;</th><th scope=col>&lt;chr&gt;</th><th scope=col>⋯</th><th scope=col>&lt;chr&gt;</th><th scope=col>&lt;dbl&gt;</th><th scope=col>&lt;chr&gt;</th><th scope=col>&lt;dbl&gt;</th><th scope=col>&lt;dbl&gt;</th><th scope=col>&lt;dbl&gt;</th><th scope=col>&lt;dbl&gt;</th><th scope=col>&lt;dbl&gt;</th><th scope=col>&lt;chr&gt;</th><th scope=col>&lt;chr&gt;</th></tr>\n",
       "</thead>\n",
       "<tbody>\n",
       "\t<tr><td> 7</td><td>0</td><td>0</td><td>0</td><td>0</td><td>4.713334</td><td>27</td><td>56</td><td>1</td><td>Normal (30-60)</td><td>⋯</td><td>Singular</td><td> 9.342662</td><td>normal           </td><td>1</td><td>1</td><td>1</td><td>0</td><td>0</td><td>Mitochondrial genetic inheritance disorders </td><td>Leigh syndrome        </td></tr>\n",
       "\t<tr><td>12</td><td>1</td><td>0</td><td>1</td><td>0</td><td>4.652915</td><td>49</td><td>40</td><td>1</td><td>Normal (30-60)</td><td>⋯</td><td>Multiple</td><td> 8.035952</td><td>slightly abnormal</td><td>0</td><td>1</td><td>1</td><td>1</td><td>0</td><td>Mitochondrial genetic inheritance disorders </td><td>Leigh syndrome        </td></tr>\n",
       "\t<tr><td> 6</td><td>0</td><td>1</td><td>0</td><td>1</td><td>5.117296</td><td>48</td><td>27</td><td>1</td><td>Tachypnea     </td><td>⋯</td><td>Singular</td><td> 3.453291</td><td>slightly abnormal</td><td>0</td><td>0</td><td>1</td><td>1</td><td>0</td><td>Mitochondrial genetic inheritance disorders </td><td>Mitochondrial myopathy</td></tr>\n",
       "\t<tr><td>13</td><td>0</td><td>1</td><td>0</td><td>1</td><td>4.777036</td><td>27</td><td>58</td><td>1</td><td>Normal (30-60)</td><td>⋯</td><td>Singular</td><td> 3.000736</td><td>normal           </td><td>0</td><td>0</td><td>0</td><td>0</td><td>1</td><td>Mitochondrial genetic inheritance disorders </td><td>Leigh syndrome        </td></tr>\n",
       "\t<tr><td> 4</td><td>1</td><td>0</td><td>0</td><td>0</td><td>5.077554</td><td>44</td><td>34</td><td>0</td><td>Normal (30-60)</td><td>⋯</td><td>Singular</td><td> 9.566549</td><td>inconclusive     </td><td>1</td><td>1</td><td>1</td><td>1</td><td>1</td><td>Multifactorial genetic inheritance disorders</td><td>Diabetes              </td></tr>\n",
       "\t<tr><td>11</td><td>1</td><td>0</td><td>0</td><td>0</td><td>4.738067</td><td>32</td><td>62</td><td>0</td><td>Normal (30-60)</td><td>⋯</td><td>Singular</td><td>11.188371</td><td>normal           </td><td>1</td><td>0</td><td>1</td><td>1</td><td>1</td><td>Multifactorial genetic inheritance disorders</td><td>Diabetes              </td></tr>\n",
       "</tbody>\n",
       "</table>\n"
      ],
      "text/latex": [
       "A tibble: 6 × 32\n",
       "\\begin{tabular}{lllllllllllllllllllll}\n",
       " Patient Age & Genes in mother's side & Inherited from father & Maternal gene & Paternal gene & Blood cell count (mcL) & Mother's age & Father's age & Status & Respiratory Rate (breaths/min) & ⋯ & Birth defects & White Blood cell count (thousand per microliter) & Blood test result & Symptom 1 & Symptom 2 & Symptom 3 & Symptom 4 & Symptom 5 & Genetic Disorder & Disorder Subclass\\\\\n",
       " <dbl> & <dbl> & <dbl> & <dbl> & <dbl> & <dbl> & <dbl> & <dbl> & <dbl> & <chr> & ⋯ & <chr> & <dbl> & <chr> & <dbl> & <dbl> & <dbl> & <dbl> & <dbl> & <chr> & <chr>\\\\\n",
       "\\hline\n",
       "\t  7 & 0 & 0 & 0 & 0 & 4.713334 & 27 & 56 & 1 & Normal (30-60) & ⋯ & Singular &  9.342662 & normal            & 1 & 1 & 1 & 0 & 0 & Mitochondrial genetic inheritance disorders  & Leigh syndrome        \\\\\n",
       "\t 12 & 1 & 0 & 1 & 0 & 4.652915 & 49 & 40 & 1 & Normal (30-60) & ⋯ & Multiple &  8.035952 & slightly abnormal & 0 & 1 & 1 & 1 & 0 & Mitochondrial genetic inheritance disorders  & Leigh syndrome        \\\\\n",
       "\t  6 & 0 & 1 & 0 & 1 & 5.117296 & 48 & 27 & 1 & Tachypnea      & ⋯ & Singular &  3.453291 & slightly abnormal & 0 & 0 & 1 & 1 & 0 & Mitochondrial genetic inheritance disorders  & Mitochondrial myopathy\\\\\n",
       "\t 13 & 0 & 1 & 0 & 1 & 4.777036 & 27 & 58 & 1 & Normal (30-60) & ⋯ & Singular &  3.000736 & normal            & 0 & 0 & 0 & 0 & 1 & Mitochondrial genetic inheritance disorders  & Leigh syndrome        \\\\\n",
       "\t  4 & 1 & 0 & 0 & 0 & 5.077554 & 44 & 34 & 0 & Normal (30-60) & ⋯ & Singular &  9.566549 & inconclusive      & 1 & 1 & 1 & 1 & 1 & Multifactorial genetic inheritance disorders & Diabetes              \\\\\n",
       "\t 11 & 1 & 0 & 0 & 0 & 4.738067 & 32 & 62 & 0 & Normal (30-60) & ⋯ & Singular & 11.188371 & normal            & 1 & 0 & 1 & 1 & 1 & Multifactorial genetic inheritance disorders & Diabetes              \\\\\n",
       "\\end{tabular}\n"
      ],
      "text/markdown": [
       "\n",
       "A tibble: 6 × 32\n",
       "\n",
       "| Patient Age &lt;dbl&gt; | Genes in mother's side &lt;dbl&gt; | Inherited from father &lt;dbl&gt; | Maternal gene &lt;dbl&gt; | Paternal gene &lt;dbl&gt; | Blood cell count (mcL) &lt;dbl&gt; | Mother's age &lt;dbl&gt; | Father's age &lt;dbl&gt; | Status &lt;dbl&gt; | Respiratory Rate (breaths/min) &lt;chr&gt; | ⋯ ⋯ | Birth defects &lt;chr&gt; | White Blood cell count (thousand per microliter) &lt;dbl&gt; | Blood test result &lt;chr&gt; | Symptom 1 &lt;dbl&gt; | Symptom 2 &lt;dbl&gt; | Symptom 3 &lt;dbl&gt; | Symptom 4 &lt;dbl&gt; | Symptom 5 &lt;dbl&gt; | Genetic Disorder &lt;chr&gt; | Disorder Subclass &lt;chr&gt; |\n",
       "|---|---|---|---|---|---|---|---|---|---|---|---|---|---|---|---|---|---|---|---|---|\n",
       "|  7 | 0 | 0 | 0 | 0 | 4.713334 | 27 | 56 | 1 | Normal (30-60) | ⋯ | Singular |  9.342662 | normal            | 1 | 1 | 1 | 0 | 0 | Mitochondrial genetic inheritance disorders  | Leigh syndrome         |\n",
       "| 12 | 1 | 0 | 1 | 0 | 4.652915 | 49 | 40 | 1 | Normal (30-60) | ⋯ | Multiple |  8.035952 | slightly abnormal | 0 | 1 | 1 | 1 | 0 | Mitochondrial genetic inheritance disorders  | Leigh syndrome         |\n",
       "|  6 | 0 | 1 | 0 | 1 | 5.117296 | 48 | 27 | 1 | Tachypnea      | ⋯ | Singular |  3.453291 | slightly abnormal | 0 | 0 | 1 | 1 | 0 | Mitochondrial genetic inheritance disorders  | Mitochondrial myopathy |\n",
       "| 13 | 0 | 1 | 0 | 1 | 4.777036 | 27 | 58 | 1 | Normal (30-60) | ⋯ | Singular |  3.000736 | normal            | 0 | 0 | 0 | 0 | 1 | Mitochondrial genetic inheritance disorders  | Leigh syndrome         |\n",
       "|  4 | 1 | 0 | 0 | 0 | 5.077554 | 44 | 34 | 0 | Normal (30-60) | ⋯ | Singular |  9.566549 | inconclusive      | 1 | 1 | 1 | 1 | 1 | Multifactorial genetic inheritance disorders | Diabetes               |\n",
       "| 11 | 1 | 0 | 0 | 0 | 4.738067 | 32 | 62 | 0 | Normal (30-60) | ⋯ | Singular | 11.188371 | normal            | 1 | 0 | 1 | 1 | 1 | Multifactorial genetic inheritance disorders | Diabetes               |\n",
       "\n"
      ],
      "text/plain": [
       "  Patient Age Genes in mother's side Inherited from father Maternal gene\n",
       "1  7          0                      0                     0            \n",
       "2 12          1                      0                     1            \n",
       "3  6          0                      1                     0            \n",
       "4 13          0                      1                     0            \n",
       "5  4          1                      0                     0            \n",
       "6 11          1                      0                     0            \n",
       "  Paternal gene Blood cell count (mcL) Mother's age Father's age Status\n",
       "1 0             4.713334               27           56           1     \n",
       "2 0             4.652915               49           40           1     \n",
       "3 1             5.117296               48           27           1     \n",
       "4 1             4.777036               27           58           1     \n",
       "5 0             5.077554               44           34           0     \n",
       "6 0             4.738067               32           62           0     \n",
       "  Respiratory Rate (breaths/min) ⋯ Birth defects\n",
       "1 Normal (30-60)                 ⋯ Singular     \n",
       "2 Normal (30-60)                 ⋯ Multiple     \n",
       "3 Tachypnea                      ⋯ Singular     \n",
       "4 Normal (30-60)                 ⋯ Singular     \n",
       "5 Normal (30-60)                 ⋯ Singular     \n",
       "6 Normal (30-60)                 ⋯ Singular     \n",
       "  White Blood cell count (thousand per microliter) Blood test result Symptom 1\n",
       "1  9.342662                                        normal            1        \n",
       "2  8.035952                                        slightly abnormal 0        \n",
       "3  3.453291                                        slightly abnormal 0        \n",
       "4  3.000736                                        normal            0        \n",
       "5  9.566549                                        inconclusive      1        \n",
       "6 11.188371                                        normal            1        \n",
       "  Symptom 2 Symptom 3 Symptom 4 Symptom 5\n",
       "1 1         1         0         0        \n",
       "2 1         1         1         0        \n",
       "3 0         1         1         0        \n",
       "4 0         0         0         1        \n",
       "5 1         1         1         1        \n",
       "6 0         1         1         1        \n",
       "  Genetic Disorder                             Disorder Subclass     \n",
       "1 Mitochondrial genetic inheritance disorders  Leigh syndrome        \n",
       "2 Mitochondrial genetic inheritance disorders  Leigh syndrome        \n",
       "3 Mitochondrial genetic inheritance disorders  Mitochondrial myopathy\n",
       "4 Mitochondrial genetic inheritance disorders  Leigh syndrome        \n",
       "5 Multifactorial genetic inheritance disorders Diabetes              \n",
       "6 Multifactorial genetic inheritance disorders Diabetes              "
      ]
     },
     "metadata": {},
     "output_type": "display_data"
    }
   ],
   "source": [
    "head(df)\n",
    "tail(df)"
   ]
  },
  {
   "cell_type": "code",
   "execution_count": 12,
   "id": "77aa35e0",
   "metadata": {},
   "outputs": [
    {
     "data": {
      "text/html": [
       "<style>\n",
       ".list-inline {list-style: none; margin:0; padding: 0}\n",
       ".list-inline>li {display: inline-block}\n",
       ".list-inline>li:not(:last-child)::after {content: \"\\00b7\"; padding: 0 .5ex}\n",
       "</style>\n",
       "<ol class=list-inline><li>6706</li><li>32</li></ol>\n"
      ],
      "text/latex": [
       "\\begin{enumerate*}\n",
       "\\item 6706\n",
       "\\item 32\n",
       "\\end{enumerate*}\n"
      ],
      "text/markdown": [
       "1. 6706\n",
       "2. 32\n",
       "\n",
       "\n"
      ],
      "text/plain": [
       "[1] 6706   32"
      ]
     },
     "metadata": {},
     "output_type": "display_data"
    }
   ],
   "source": [
    "dim(df)"
   ]
  },
  {
   "cell_type": "code",
   "execution_count": 13,
   "id": "b09957b8",
   "metadata": {},
   "outputs": [
    {
     "data": {
      "text/plain": [
       "  Patient Age     Genes in mother's side Inherited from father Maternal gene   \n",
       " Min.   : 0.000   Min.   :0.0000         Min.   :0.0000        Min.   :0.0000  \n",
       " 1st Qu.: 3.000   1st Qu.:0.0000         1st Qu.:0.0000        1st Qu.:0.0000  \n",
       " Median : 7.000   Median :1.0000         Median :0.0000        Median :1.0000  \n",
       " Mean   : 6.916   Mean   :0.5978         Mean   :0.3998        Mean   :0.5598  \n",
       " 3rd Qu.:11.000   3rd Qu.:1.0000         3rd Qu.:1.0000        3rd Qu.:1.0000  \n",
       " Max.   :14.000   Max.   :1.0000         Max.   :1.0000        Max.   :1.0000  \n",
       " Paternal gene    Blood cell count (mcL)  Mother's age    Father's age  \n",
       " Min.   :0.0000   Min.   :4.146          Min.   :18.00   Min.   :20.00  \n",
       " 1st Qu.:0.0000   1st Qu.:4.767          1st Qu.:26.00   1st Qu.:31.00  \n",
       " Median :0.0000   Median :4.900          Median :35.00   Median :42.00  \n",
       " Mean   :0.4299   Mean   :4.901          Mean   :34.64   Mean   :41.99  \n",
       " 3rd Qu.:1.0000   3rd Qu.:5.036          3rd Qu.:43.00   3rd Qu.:53.00  \n",
       " Max.   :1.0000   Max.   :5.610          Max.   :51.00   Max.   :64.00  \n",
       "     Status       Respiratory Rate (breaths/min) Heart Rate (rates/min\n",
       " Min.   :0.0000   Length:6706                    Length:6706          \n",
       " 1st Qu.:0.0000   Class :character               Class :character     \n",
       " Median :1.0000   Mode  :character               Mode  :character     \n",
       " Mean   :0.5042                                                       \n",
       " 3rd Qu.:1.0000                                                       \n",
       " Max.   :1.0000                                                       \n",
       "  Follow-up            Gender          Birth asphyxia    \n",
       " Length:6706        Length:6706        Length:6706       \n",
       " Class :character   Class :character   Class :character  \n",
       " Mode  :character   Mode  :character   Mode  :character  \n",
       "                                                         \n",
       "                                                         \n",
       "                                                         \n",
       " Autopsy shows birth defect (if applicable)\n",
       " Length:6706                               \n",
       " Class :character                          \n",
       " Mode  :character                          \n",
       "                                           \n",
       "                                           \n",
       "                                           \n",
       " Folic acid details (peri-conceptional) H/O serious maternal illness\n",
       " Min.   :0.0000                         Min.   :0.0000              \n",
       " 1st Qu.:0.0000                         1st Qu.:0.0000              \n",
       " Median :1.0000                         Median :0.0000              \n",
       " Mean   :0.5027                         Mean   :0.4948              \n",
       " 3rd Qu.:1.0000                         3rd Qu.:1.0000              \n",
       " Max.   :1.0000                         Max.   :1.0000              \n",
       " H/O radiation exposure (x-ray) H/O substance abuse Assisted conception IVF/ART\n",
       " Min.   :0.0000                 Length:6706         Min.   :0.0000             \n",
       " 1st Qu.:0.0000                 Class :character    1st Qu.:0.0000             \n",
       " Median :0.0000                 Mode  :character    Median :1.0000             \n",
       " Mean   :0.2498                                     Mean   :0.5067             \n",
       " 3rd Qu.:0.0000                                     3rd Qu.:1.0000             \n",
       " Max.   :1.0000                                     Max.   :1.0000             \n",
       " History of anomalies in previous pregnancies No. of previous abortion\n",
       " Min.   :0.0000                               Min.   :0.000           \n",
       " 1st Qu.:0.0000                               1st Qu.:1.000           \n",
       " Median :1.0000                               Median :2.000           \n",
       " Mean   :0.5101                               Mean   :1.999           \n",
       " 3rd Qu.:1.0000                               3rd Qu.:3.000           \n",
       " Max.   :1.0000                               Max.   :4.000           \n",
       " Birth defects      White Blood cell count (thousand per microliter)\n",
       " Length:6706        Min.   : 3.000                                  \n",
       " Class :character   1st Qu.: 5.355                                  \n",
       " Mode  :character   Median : 7.367                                  \n",
       "                    Mean   : 7.419                                  \n",
       "                    3rd Qu.: 9.439                                  \n",
       "                    Max.   :12.000                                  \n",
       " Blood test result    Symptom 1       Symptom 2        Symptom 3     \n",
       " Length:6706        Min.   :0.000   Min.   :0.0000   Min.   :0.0000  \n",
       " Class :character   1st Qu.:0.000   1st Qu.:0.0000   1st Qu.:0.0000  \n",
       " Mode  :character   Median :1.000   Median :1.0000   Median :1.0000  \n",
       "                    Mean   :0.589   Mean   :0.5495   Mean   :0.5391  \n",
       "                    3rd Qu.:1.000   3rd Qu.:1.0000   3rd Qu.:1.0000  \n",
       "                    Max.   :1.000   Max.   :1.0000   Max.   :1.0000  \n",
       "   Symptom 4        Symptom 5      Genetic Disorder   Disorder Subclass \n",
       " Min.   :0.0000   Min.   :0.0000   Length:6706        Length:6706       \n",
       " 1st Qu.:0.0000   1st Qu.:0.0000   Class :character   Class :character  \n",
       " Median :1.0000   Median :0.0000   Mode  :character   Mode  :character  \n",
       " Mean   :0.5013   Mean   :0.4705                                        \n",
       " 3rd Qu.:1.0000   3rd Qu.:1.0000                                        \n",
       " Max.   :1.0000   Max.   :1.0000                                        "
      ]
     },
     "metadata": {},
     "output_type": "display_data"
    }
   ],
   "source": [
    "summary(df)"
   ]
  },
  {
   "cell_type": "code",
   "execution_count": 14,
   "id": "44a6755a",
   "metadata": {},
   "outputs": [],
   "source": [
    "names(df) <- gsub(\" \", \"_\", names(df))\n",
    "names(df) <- gsub(\"\\\\(\", \"_\", names(df))\n",
    "names(df) <- gsub(\"\\\\)\", \"_\", names(df))\n",
    "names(df) <- gsub(\"\\\\/\", \"_\", names(df))\n",
    "names(df) <- gsub(\"'\", \"_\", names(df))"
   ]
  },
  {
   "cell_type": "code",
   "execution_count": 15,
   "id": "23536e71",
   "metadata": {},
   "outputs": [
    {
     "data": {
      "image/png": "[encoded data removed]",
      "text/plain": [
       "plot without title"
      ]
     },
     "metadata": {
      "image/png": {
       "height": 420,
       "width": 420
      }
     },
     "output_type": "display_data"
    }
   ],
   "source": [
    "library(ggplot2)\n",
    "library(grid)\n",
    "ggplot(data = df, aes(Genetic_Disorder,fill = Gender)) +\n",
    "geom_bar(width = 0.6)+  scale_x_discrete(guide = guide_axis(n.dodge = 2))"
   ]
  },
  {
   "cell_type": "code",
   "execution_count": 16,
   "id": "5d40daf5",
   "metadata": {},
   "outputs": [
    {
     "data": {
      "text/html": [
       "<table class=\"dataframe\">\n",
       "<caption>A tibble: 6 × 13</caption>\n",
       "<thead>\n",
       "\t<tr><th scope=col>Heart_Rate__rates_min</th><th scope=col>Follow-up</th><th scope=col>Gender</th><th scope=col>Birth_asphyxia</th><th scope=col>Autopsy_shows_birth_defect__if_applicable_</th><th scope=col>Folic_acid_details__peri-conceptional_</th><th scope=col>H_O_serious_maternal_illness</th><th scope=col>H_O_radiation_exposure__x-ray_</th><th scope=col>H_O_substance_abuse</th><th scope=col>Assisted_conception_IVF_ART</th><th scope=col>History_of_anomalies_in_previous_pregnancies</th><th scope=col>No._of_previous_abortion</th><th scope=col>Birth_defects</th></tr>\n",
       "\t<tr><th scope=col>&lt;chr&gt;</th><th scope=col>&lt;chr&gt;</th><th scope=col>&lt;chr&gt;</th><th scope=col>&lt;chr&gt;</th><th scope=col>&lt;chr&gt;</th><th scope=col>&lt;dbl&gt;</th><th scope=col>&lt;dbl&gt;</th><th scope=col>&lt;dbl&gt;</th><th scope=col>&lt;chr&gt;</th><th scope=col>&lt;dbl&gt;</th><th scope=col>&lt;dbl&gt;</th><th scope=col>&lt;dbl&gt;</th><th scope=col>&lt;chr&gt;</th></tr>\n",
       "</thead>\n",
       "<tbody>\n",
       "\t<tr><td>Tachycardia</td><td>Low </td><td>Male     </td><td>Yes          </td><td>Not applicable</td><td>1</td><td>1</td><td>0</td><td>No            </td><td>0</td><td>1</td><td>0</td><td>Multiple</td></tr>\n",
       "\t<tr><td>Tachycardia</td><td>Low </td><td>Male     </td><td>No           </td><td>Not applicable</td><td>1</td><td>0</td><td>0</td><td>No            </td><td>1</td><td>1</td><td>1</td><td>Multiple</td></tr>\n",
       "\t<tr><td>Tachycardia</td><td>High</td><td>Male     </td><td>Not available</td><td>None          </td><td>1</td><td>0</td><td>1</td><td>Not applicable</td><td>1</td><td>1</td><td>0</td><td>Singular</td></tr>\n",
       "\t<tr><td>Tachycardia</td><td>High</td><td>Male     </td><td>No           </td><td>Not applicable</td><td>1</td><td>1</td><td>1</td><td>-             </td><td>0</td><td>0</td><td>3</td><td>Multiple</td></tr>\n",
       "\t<tr><td>Tachycardia</td><td>Low </td><td>Ambiguous</td><td>No           </td><td>Yes           </td><td>0</td><td>0</td><td>1</td><td>No            </td><td>1</td><td>1</td><td>3</td><td>Singular</td></tr>\n",
       "\t<tr><td>Normal     </td><td>Low </td><td>Ambiguous</td><td>No           </td><td>Yes           </td><td>1</td><td>1</td><td>0</td><td>No            </td><td>1</td><td>0</td><td>1</td><td>Singular</td></tr>\n",
       "</tbody>\n",
       "</table>\n"
      ],
      "text/latex": [
       "A tibble: 6 × 13\n",
       "\\begin{tabular}{lllllllllllll}\n",
       " Heart\\_Rate\\_\\_rates\\_min & Follow-up & Gender & Birth\\_asphyxia & Autopsy\\_shows\\_birth\\_defect\\_\\_if\\_applicable\\_ & Folic\\_acid\\_details\\_\\_peri-conceptional\\_ & H\\_O\\_serious\\_maternal\\_illness & H\\_O\\_radiation\\_exposure\\_\\_x-ray\\_ & H\\_O\\_substance\\_abuse & Assisted\\_conception\\_IVF\\_ART & History\\_of\\_anomalies\\_in\\_previous\\_pregnancies & No.\\_of\\_previous\\_abortion & Birth\\_defects\\\\\n",
       " <chr> & <chr> & <chr> & <chr> & <chr> & <dbl> & <dbl> & <dbl> & <chr> & <dbl> & <dbl> & <dbl> & <chr>\\\\\n",
       "\\hline\n",
       "\t Tachycardia & Low  & Male      & Yes           & Not applicable & 1 & 1 & 0 & No             & 0 & 1 & 0 & Multiple\\\\\n",
       "\t Tachycardia & Low  & Male      & No            & Not applicable & 1 & 0 & 0 & No             & 1 & 1 & 1 & Multiple\\\\\n",
       "\t Tachycardia & High & Male      & Not available & None           & 1 & 0 & 1 & Not applicable & 1 & 1 & 0 & Singular\\\\\n",
       "\t Tachycardia & High & Male      & No            & Not applicable & 1 & 1 & 1 & -              & 0 & 0 & 3 & Multiple\\\\\n",
       "\t Tachycardia & Low  & Ambiguous & No            & Yes            & 0 & 0 & 1 & No             & 1 & 1 & 3 & Singular\\\\\n",
       "\t Normal      & Low  & Ambiguous & No            & Yes            & 1 & 1 & 0 & No             & 1 & 0 & 1 & Singular\\\\\n",
       "\\end{tabular}\n"
      ],
      "text/markdown": [
       "\n",
       "A tibble: 6 × 13\n",
       "\n",
       "| Heart_Rate__rates_min &lt;chr&gt; | Follow-up &lt;chr&gt; | Gender &lt;chr&gt; | Birth_asphyxia &lt;chr&gt; | Autopsy_shows_birth_defect__if_applicable_ &lt;chr&gt; | Folic_acid_details__peri-conceptional_ &lt;dbl&gt; | H_O_serious_maternal_illness &lt;dbl&gt; | H_O_radiation_exposure__x-ray_ &lt;dbl&gt; | H_O_substance_abuse &lt;chr&gt; | Assisted_conception_IVF_ART &lt;dbl&gt; | History_of_anomalies_in_previous_pregnancies &lt;dbl&gt; | No._of_previous_abortion &lt;dbl&gt; | Birth_defects &lt;chr&gt; |\n",
       "|---|---|---|---|---|---|---|---|---|---|---|---|---|\n",
       "| Tachycardia | Low  | Male      | Yes           | Not applicable | 1 | 1 | 0 | No             | 0 | 1 | 0 | Multiple |\n",
       "| Tachycardia | Low  | Male      | No            | Not applicable | 1 | 0 | 0 | No             | 1 | 1 | 1 | Multiple |\n",
       "| Tachycardia | High | Male      | Not available | None           | 1 | 0 | 1 | Not applicable | 1 | 1 | 0 | Singular |\n",
       "| Tachycardia | High | Male      | No            | Not applicable | 1 | 1 | 1 | -              | 0 | 0 | 3 | Multiple |\n",
       "| Tachycardia | Low  | Ambiguous | No            | Yes            | 0 | 0 | 1 | No             | 1 | 1 | 3 | Singular |\n",
       "| Normal      | Low  | Ambiguous | No            | Yes            | 1 | 1 | 0 | No             | 1 | 0 | 1 | Singular |\n",
       "\n"
      ],
      "text/plain": [
       "  Heart_Rate__rates_min Follow-up Gender    Birth_asphyxia\n",
       "1 Tachycardia           Low       Male      Yes           \n",
       "2 Tachycardia           Low       Male      No            \n",
       "3 Tachycardia           High      Male      Not available \n",
       "4 Tachycardia           High      Male      No            \n",
       "5 Tachycardia           Low       Ambiguous No            \n",
       "6 Normal                Low       Ambiguous No            \n",
       "  Autopsy_shows_birth_defect__if_applicable_\n",
       "1 Not applicable                            \n",
       "2 Not applicable                            \n",
       "3 None                                      \n",
       "4 Not applicable                            \n",
       "5 Yes                                       \n",
       "6 Yes                                       \n",
       "  Folic_acid_details__peri-conceptional_ H_O_serious_maternal_illness\n",
       "1 1                                      1                           \n",
       "2 1                                      0                           \n",
       "3 1                                      0                           \n",
       "4 1                                      1                           \n",
       "5 0                                      0                           \n",
       "6 1                                      1                           \n",
       "  H_O_radiation_exposure__x-ray_ H_O_substance_abuse\n",
       "1 0                              No                 \n",
       "2 0                              No                 \n",
       "3 1                              Not applicable     \n",
       "4 1                              -                  \n",
       "5 1                              No                 \n",
       "6 0                              No                 \n",
       "  Assisted_conception_IVF_ART History_of_anomalies_in_previous_pregnancies\n",
       "1 0                           1                                           \n",
       "2 1                           1                                           \n",
       "3 1                           1                                           \n",
       "4 0                           0                                           \n",
       "5 1                           1                                           \n",
       "6 1                           0                                           \n",
       "  No._of_previous_abortion Birth_defects\n",
       "1 0                        Multiple     \n",
       "2 1                        Multiple     \n",
       "3 0                        Singular     \n",
       "4 3                        Multiple     \n",
       "5 3                        Singular     \n",
       "6 1                        Singular     "
      ]
     },
     "metadata": {},
     "output_type": "display_data"
    }
   ],
   "source": [
    "head(df[, c(11:23), drop=FALSE])"
   ]
  },
  {
   "cell_type": "code",
   "execution_count": 17,
   "id": "0822d15d",
   "metadata": {},
   "outputs": [
    {
     "data": {
      "image/png": "[encoded data removed]",
      "text/plain": [
       "plot without title"
      ]
     },
     "metadata": {
      "image/png": {
       "height": 420,
       "width": 420
      }
     },
     "output_type": "display_data"
    }
   ],
   "source": [
    "ggplot(data = df, aes(Disorder_Subclass,fill = Gender)) +\n",
    "geom_bar(width = 0.6)+  scale_x_discrete(guide = guide_axis(n.dodge = 5))"
   ]
  },
  {
   "cell_type": "code",
   "execution_count": 18,
   "id": "27daada3",
   "metadata": {},
   "outputs": [
    {
     "data": {
      "text/plain": [
       "  Patient_Age     Genes_in_mother_s_side Inherited_from_father Maternal_gene   \n",
       " Min.   : 0.000   Min.   :0.0000         Min.   :0.0000        Min.   :0.0000  \n",
       " 1st Qu.: 3.000   1st Qu.:0.0000         1st Qu.:0.0000        1st Qu.:0.0000  \n",
       " Median : 7.000   Median :1.0000         Median :0.0000        Median :1.0000  \n",
       " Mean   : 6.916   Mean   :0.5978         Mean   :0.3998        Mean   :0.5598  \n",
       " 3rd Qu.:11.000   3rd Qu.:1.0000         3rd Qu.:1.0000        3rd Qu.:1.0000  \n",
       " Max.   :14.000   Max.   :1.0000         Max.   :1.0000        Max.   :1.0000  \n",
       " Paternal_gene    Blood_cell_count__mcL_  Mother_s_age    Father_s_age  \n",
       " Min.   :0.0000   Min.   :4.146          Min.   :18.00   Min.   :20.00  \n",
       " 1st Qu.:0.0000   1st Qu.:4.767          1st Qu.:26.00   1st Qu.:31.00  \n",
       " Median :0.0000   Median :4.900          Median :35.00   Median :42.00  \n",
       " Mean   :0.4299   Mean   :4.901          Mean   :34.64   Mean   :41.99  \n",
       " 3rd Qu.:1.0000   3rd Qu.:5.036          3rd Qu.:43.00   3rd Qu.:53.00  \n",
       " Max.   :1.0000   Max.   :5.610          Max.   :51.00   Max.   :64.00  \n",
       "     Status       Respiratory_Rate__breaths_min_ Heart_Rate__rates_min\n",
       " Min.   :0.0000   Length:6706                    Length:6706          \n",
       " 1st Qu.:0.0000   Class :character               Class :character     \n",
       " Median :1.0000   Mode  :character               Mode  :character     \n",
       " Mean   :0.5042                                                       \n",
       " 3rd Qu.:1.0000                                                       \n",
       " Max.   :1.0000                                                       \n",
       "  Follow-up            Gender          Birth_asphyxia    \n",
       " Length:6706        Length:6706        Length:6706       \n",
       " Class :character   Class :character   Class :character  \n",
       " Mode  :character   Mode  :character   Mode  :character  \n",
       "                                                         \n",
       "                                                         \n",
       "                                                         \n",
       " Autopsy_shows_birth_defect__if_applicable_\n",
       " Length:6706                               \n",
       " Class :character                          \n",
       " Mode  :character                          \n",
       "                                           \n",
       "                                           \n",
       "                                           \n",
       " Folic_acid_details__peri-conceptional_ H_O_serious_maternal_illness\n",
       " Min.   :0.0000                         Min.   :0.0000              \n",
       " 1st Qu.:0.0000                         1st Qu.:0.0000              \n",
       " Median :1.0000                         Median :0.0000              \n",
       " Mean   :0.5027                         Mean   :0.4948              \n",
       " 3rd Qu.:1.0000                         3rd Qu.:1.0000              \n",
       " Max.   :1.0000                         Max.   :1.0000              \n",
       " H_O_radiation_exposure__x-ray_ H_O_substance_abuse Assisted_conception_IVF_ART\n",
       " Min.   :0.0000                 Length:6706         Min.   :0.0000             \n",
       " 1st Qu.:0.0000                 Class :character    1st Qu.:0.0000             \n",
       " Median :0.0000                 Mode  :character    Median :1.0000             \n",
       " Mean   :0.2498                                     Mean   :0.5067             \n",
       " 3rd Qu.:0.0000                                     3rd Qu.:1.0000             \n",
       " Max.   :1.0000                                     Max.   :1.0000             \n",
       " History_of_anomalies_in_previous_pregnancies No._of_previous_abortion\n",
       " Min.   :0.0000                               Min.   :0.000           \n",
       " 1st Qu.:0.0000                               1st Qu.:1.000           \n",
       " Median :1.0000                               Median :2.000           \n",
       " Mean   :0.5101                               Mean   :1.999           \n",
       " 3rd Qu.:1.0000                               3rd Qu.:3.000           \n",
       " Max.   :1.0000                               Max.   :4.000           \n",
       " Birth_defects      White_Blood_cell_count__thousand_per_microliter_\n",
       " Length:6706        Min.   : 3.000                                  \n",
       " Class :character   1st Qu.: 5.355                                  \n",
       " Mode  :character   Median : 7.367                                  \n",
       "                    Mean   : 7.419                                  \n",
       "                    3rd Qu.: 9.439                                  \n",
       "                    Max.   :12.000                                  \n",
       " Blood_test_result    Symptom_1       Symptom_2        Symptom_3     \n",
       " Length:6706        Min.   :0.000   Min.   :0.0000   Min.   :0.0000  \n",
       " Class :character   1st Qu.:0.000   1st Qu.:0.0000   1st Qu.:0.0000  \n",
       " Mode  :character   Median :1.000   Median :1.0000   Median :1.0000  \n",
       "                    Mean   :0.589   Mean   :0.5495   Mean   :0.5391  \n",
       "                    3rd Qu.:1.000   3rd Qu.:1.0000   3rd Qu.:1.0000  \n",
       "                    Max.   :1.000   Max.   :1.0000   Max.   :1.0000  \n",
       "   Symptom_4        Symptom_5      Genetic_Disorder   Disorder_Subclass \n",
       " Min.   :0.0000   Min.   :0.0000   Length:6706        Length:6706       \n",
       " 1st Qu.:0.0000   1st Qu.:0.0000   Class :character   Class :character  \n",
       " Median :1.0000   Median :0.0000   Mode  :character   Mode  :character  \n",
       " Mean   :0.5013   Mean   :0.4705                                        \n",
       " 3rd Qu.:1.0000   3rd Qu.:1.0000                                        \n",
       " Max.   :1.0000   Max.   :1.0000                                        "
      ]
     },
     "metadata": {},
     "output_type": "display_data"
    }
   ],
   "source": [
    "summary(df)"
   ]
  },
  {
   "cell_type": "code",
   "execution_count": 19,
   "id": "f720c125",
   "metadata": {
    "scrolled": false
   },
   "outputs": [
    {
     "data": {
      "image/png": "[encoded data removed]",
      "text/plain": [
       "plot without title"
      ]
     },
     "metadata": {
      "image/png": {
       "height": 420,
       "width": 420
      }
     },
     "output_type": "display_data"
    }
   ],
   "source": [
    "ggplot(data = df, aes(Status,fill = Genetic_Disorder)) +\n",
    "geom_bar(width = 0.6)+  scale_x_discrete(guide = guide_axis(n.dodge = 2))"
   ]
  },
  {
   "cell_type": "code",
   "execution_count": 20,
   "id": "5c821a59",
   "metadata": {},
   "outputs": [
    {
     "data": {
      "image/png": "[encoded data removed]",
      "text/plain": [
       "plot without title"
      ]
     },
     "metadata": {
      "image/png": {
       "height": 420,
       "width": 420
      }
     },
     "output_type": "display_data"
    }
   ],
   "source": [
    "\n",
    "ggplot(data = df, aes(Birth_defects,fill = Genetic_Disorder)) +\n",
    "geom_bar(width = 0.6)+  scale_x_discrete(guide = guide_axis(n.dodge = 2))"
   ]
  },
  {
   "cell_type": "code",
   "execution_count": 21,
   "id": "15928461",
   "metadata": {},
   "outputs": [
    {
     "data": {
      "image/png": "[encoded data removed]",
      "text/plain": [
       "plot without title"
      ]
     },
     "metadata": {
      "image/png": {
       "height": 420,
       "width": 420
      }
     },
     "output_type": "display_data"
    }
   ],
   "source": [
    "ggplot(data = df, aes( Blood_test_result ,fill = Genetic_Disorder)) +\n",
    "geom_bar(width = 0.6)+  scale_x_discrete(guide = guide_axis(n.dodge = 2))"
   ]
  },
  {
   "cell_type": "code",
   "execution_count": 22,
   "id": "4c872423",
   "metadata": {},
   "outputs": [
    {
     "data": {
      "image/png": "[encoded data removed]",
      "text/plain": [
       "plot without title"
      ]
     },
     "metadata": {
      "image/png": {
       "height": 420,
       "width": 420
      }
     },
     "output_type": "display_data"
    }
   ],
   "source": [
    "ggplot(data = df, aes( History_of_anomalies_in_previous_pregnancies ,fill = Genetic_Disorder)) +\n",
    "geom_bar(width = 0.6)+  scale_x_discrete(guide = guide_axis(n.dodge = 2))"
   ]
  },
  {
   "cell_type": "code",
   "execution_count": 23,
   "id": "dd0be3c6",
   "metadata": {},
   "outputs": [
    {
     "data": {
      "image/png": "[encoded data removed]",
      "text/plain": [
       "plot without title"
      ]
     },
     "metadata": {
      "image/png": {
       "height": 420,
       "width": 420
      }
     },
     "output_type": "display_data"
    }
   ],
   "source": [
    " \n",
    "ggplot(data = df, aes(Assisted_conception_IVF_ART ,fill = Genetic_Disorder)) +\n",
    "geom_bar(width = 0.6)+  scale_x_discrete(guide = guide_axis(n.dodge = 2))"
   ]
  },
  {
   "cell_type": "code",
   "execution_count": 24,
   "id": "44146a93",
   "metadata": {},
   "outputs": [
    {
     "data": {
      "image/png": "[encoded data removed]",
      "text/plain": [
       "plot without title"
      ]
     },
     "metadata": {
      "image/png": {
       "height": 420,
       "width": 420
      }
     },
     "output_type": "display_data"
    }
   ],
   "source": [
    "ggplot(data = df, aes(H_O_substance_abuse ,fill = Genetic_Disorder)) +\n",
    "geom_bar(width = 0.6)+  scale_x_discrete(guide = guide_axis(n.dodge = 2))"
   ]
  },
  {
   "cell_type": "code",
   "execution_count": 25,
   "id": "bcdb5ea5",
   "metadata": {},
   "outputs": [
    {
     "data": {
      "image/png": "[encoded data removed]",
      "text/plain": [
       "plot without title"
      ]
     },
     "metadata": {
      "image/png": {
       "height": 420,
       "width": 420
      }
     },
     "output_type": "display_data"
    }
   ],
   "source": [
    "\n",
    "ggplot(data = df, aes(H_O_serious_maternal_illness ,fill = Genetic_Disorder)) +\n",
    "geom_bar(width = 0.6)+  scale_x_discrete(guide = guide_axis(n.dodge = 2))"
   ]
  },
  {
   "cell_type": "code",
   "execution_count": 26,
   "id": "b95075a0",
   "metadata": {},
   "outputs": [
    {
     "data": {
      "image/png": "[encoded data removed]",
      "text/plain": [
       "plot without title"
      ]
     },
     "metadata": {
      "image/png": {
       "height": 420,
       "width": 420
      }
     },
     "output_type": "display_data"
    }
   ],
   "source": [
    "pairs(df[,!sapply(df,is.character)])"
   ]
  },
  {
   "cell_type": "code",
   "execution_count": 1,
   "id": "1c2bb754",
   "metadata": {},
   "outputs": [
    {
     "name": "stderr",
     "output_type": "stream",
     "text": [
      "Loading required package: ggplot2\n",
      "\n",
      "Registered S3 method overwritten by 'GGally':\n",
      "  method from   \n",
      "  +.gg   ggplot2\n",
      "\n"
     ]
    },
    {
     "ename": "ERROR",
     "evalue": "Error in df[, !sapply(df, is.character)]: object of type 'closure' is not subsettable\n",
     "output_type": "error",
     "traceback": [
      "Error in df[, !sapply(df, is.character)]: object of type 'closure' is not subsettable\nTraceback:\n"
     ]
    }
   ],
   "source": [
    "library(GGally)\n",
    "ggpairs(df[,!sapply(df,is.character)])"
   ]
  },
  {
   "cell_type": "code",
   "execution_count": null,
   "id": "fb401cdf",
   "metadata": {},
   "outputs": [],
   "source": [
    "ggplot(data=df, aes(x=Mother_s_age, y=Father_s_age, color=Genetic_Disorder)) + \n",
    "  geom_point()"
   ]
  },
  {
   "cell_type": "code",
   "execution_count": null,
   "id": "b560d132",
   "metadata": {},
   "outputs": [],
   "source": [
    "  ggplot(data=df,aes(x = Mother_s_age)) +\n",
    "  geom_histogram(color = \"white\",  binwidth = 5) "
   ]
  },
  {
   "cell_type": "code",
   "execution_count": null,
   "id": "fea91543",
   "metadata": {},
   "outputs": [],
   "source": [
    "  ggplot(data=df,aes(x = Father_s_age)) +\n",
    "  geom_histogram(color = \"white\",  binwidth = 5) "
   ]
  },
  {
   "cell_type": "code",
   "execution_count": null,
   "id": "eeb7da68",
   "metadata": {},
   "outputs": [],
   "source": [
    "  ggplot(data=df,aes(x = Patient_Age)) +\n",
    "  geom_histogram(color = \"white\",  binwidth = 5) "
   ]
  },
  {
   "cell_type": "code",
   "execution_count": null,
   "id": "840758fb",
   "metadata": {},
   "outputs": [],
   "source": [
    "str(df)"
   ]
  },
  {
   "cell_type": "code",
   "execution_count": null,
   "id": "175d1385",
   "metadata": {},
   "outputs": [],
   "source": []
  }
 ],
 "metadata": {
  "kernelspec": {
   "display_name": "R",
   "language": "R",
   "name": "ir"
  },
  "language_info": {
   "codemirror_mode": "r",
   "file_extension": ".r",
   "mimetype": "text/x-r-source",
   "name": "R",
   "pygments_lexer": "r",
   "version": "4.2.2"
  }
 },
 "nbformat": 4,
 "nbformat_minor": 5
}
