{
 "cells": [
  {
   "cell_type": "code",
   "execution_count": 36,
   "id": "86ebd7b9",
   "metadata": {},
   "outputs": [],
   "source": [
    "#importing package\n",
    "library(readxl)\n",
    "library(tidyverse)"
   ]
  },
  {
   "cell_type": "code",
   "execution_count": 37,
   "id": "daa11aa6",
   "metadata": {},
   "outputs": [],
   "source": [
    "#read the excel file\n",
    "df <- read_excel(\"train.xlsx\")"
   ]
  },
  {
   "cell_type": "code",
   "execution_count": 38,
   "id": "0f0a7863",
   "metadata": {},
   "outputs": [],
   "source": [
    "#rename the columns eliminating obstacle character\n",
    "names(df) <- gsub(\" \", \"_\", names(df))\n",
    "names(df) <- gsub(\"\\\\(\", \"_\", names(df))\n",
    "names(df) <- gsub(\"\\\\)\", \"_\", names(df))\n",
    "names(df) <- gsub(\"\\\\/\", \"_\", names(df))\n",
    "names(df) <- gsub(\"'\", \"_\", names(df))"
   ]
  },
  {
   "cell_type": "code",
   "execution_count": 39,
   "id": "4557baea",
   "metadata": {},
   "outputs": [],
   "source": [
    "drop <- c(\"Patient_Id\",\"Patient_First_Name\",\"Family_Name\"\n",
    "          ,\"Father_s_name\",\"Institute_Name\",\"Location_of_Institute\",\n",
    "          \"Parental_consent\",\"Place_of_birth\",\"Test_1\",\n",
    "          \"Test_2\",\"Test_3\",\"Test_4\",\"Test_5\",\n",
    "          \"H_O_radiation_exposure__x-ray_\" ,\"H_O_substance_abuse\",\n",
    "         \"Genetic_Disorder\",\"Birth_asphyxia\" ,\"Autopsy_shows_birth_defect__if_applicable_\",\n",
    "          \"Follow-up\",\"Heart_Rate__rates_min\",\"Folic_acid_details__peri-conceptional_\",\n",
    "          \"H_O_serious_maternal_illness\",\"Status\", \"Birth_defects\",\n",
    "         \"Blood_test_result\",\"Gender\",\"Assisted_conception_IVF_ART\",\n",
    "          \"Respiratory_Rate__breaths_min_\",\"History_of_anomalies_in_previous_pregnancies\")\n",
    "df = df[,!(names(df) %in% drop)]"
   ]
  },
  {
   "cell_type": "code",
   "execution_count": 40,
   "id": "5fd7147a",
   "metadata": {},
   "outputs": [
    {
     "data": {
      "text/html": [
       "<style>\n",
       ".list-inline {list-style: none; margin:0; padding: 0}\n",
       ".list-inline>li {display: inline-block}\n",
       ".list-inline>li:not(:last-child)::after {content: \"\\00b7\"; padding: 0 .5ex}\n",
       "</style>\n",
       "<ol class=list-inline><li>7935</li><li>16</li></ol>\n"
      ],
      "text/latex": [
       "\\begin{enumerate*}\n",
       "\\item 7935\n",
       "\\item 16\n",
       "\\end{enumerate*}\n"
      ],
      "text/markdown": [
       "1. 7935\n",
       "2. 16\n",
       "\n",
       "\n"
      ],
      "text/plain": [
       "[1] 7935   16"
      ]
     },
     "metadata": {},
     "output_type": "display_data"
    }
   ],
   "source": [
    "df <-df %>% drop_na()\n",
    "dim(df)"
   ]
  },
  {
   "cell_type": "code",
   "execution_count": 41,
   "id": "96c88926",
   "metadata": {},
   "outputs": [
    {
     "name": "stdout",
     "output_type": "stream",
     "text": [
      "tibble [7,935 x 16] (S3: tbl_df/tbl/data.frame)\n",
      " $ Patient_Age                                     : num [1:7935] 11 4 1 6 10 6 10 4 8 1 ...\n",
      " $ Genes_in_mother_s_side                          : chr [1:7935] \"No\" \"No\" \"Yes\" \"Yes\" ...\n",
      " $ Inherited_from_father                           : chr [1:7935] \"No\" \"Yes\" \"Yes\" \"No\" ...\n",
      " $ Maternal_gene                                   : chr [1:7935] \"Yes\" \"Yes\" \"No\" \"Yes\" ...\n",
      " $ Paternal_gene                                   : chr [1:7935] \"No\" \"Yes\" \"No\" \"No\" ...\n",
      " $ Blood_cell_count__mcL_                          : num [1:7935] 5.21 4.75 4.61 4.62 4.75 ...\n",
      " $ Mother_s_age                                    : num [1:7935] 45 44 50 41 40 36 30 49 18 38 ...\n",
      " $ Father_s_age                                    : num [1:7935] 44 42 56 20 57 48 42 28 31 61 ...\n",
      " $ No._of_previous_abortion                        : num [1:7935] 0 1 0 3 3 1 0 4 0 4 ...\n",
      " $ White_Blood_cell_count__thousand_per_microliter_: num [1:7935] 6.67 6.4 8 3 9.38 ...\n",
      " $ Symptom_1                                       : num [1:7935] 1 0 1 1 1 1 1 1 1 0 ...\n",
      " $ Symptom_2                                       : num [1:7935] 1 0 1 0 1 0 1 0 0 1 ...\n",
      " $ Symptom_3                                       : num [1:7935] 1 1 0 1 0 0 1 0 1 0 ...\n",
      " $ Symptom_4                                       : num [1:7935] 0 1 1 0 0 0 1 1 0 1 ...\n",
      " $ Symptom_5                                       : num [1:7935] 1 1 0 1 0 0 1 0 0 0 ...\n",
      " $ Disorder_Subclass                               : chr [1:7935] \"Leigh syndrome\" \"Diabetes\" \"Leigh syndrome\" \"Leigh syndrome\" ...\n"
     ]
    }
   ],
   "source": [
    "str(df)"
   ]
  },
  {
   "cell_type": "code",
   "execution_count": 42,
   "id": "a5309e80",
   "metadata": {},
   "outputs": [],
   "source": [
    "write.csv(df, \"processed.csv\", row.names = FALSE)"
   ]
  },
  {
   "cell_type": "code",
   "execution_count": null,
   "id": "650dde9e",
   "metadata": {},
   "outputs": [],
   "source": []
  }
 ],
 "metadata": {
  "kernelspec": {
   "display_name": "R",
   "language": "R",
   "name": "ir"
  },
  "language_info": {
   "codemirror_mode": "r",
   "file_extension": ".r",
   "mimetype": "text/x-r-source",
   "name": "R",
   "pygments_lexer": "r",
   "version": "4.1.3"
  }
 },
 "nbformat": 4,
 "nbformat_minor": 5
}
