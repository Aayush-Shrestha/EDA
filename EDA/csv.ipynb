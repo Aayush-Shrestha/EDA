{
 "cells": [
  {
   "cell_type": "code",
   "execution_count": 2,
   "id": "06002321",
   "metadata": {},
   "outputs": [],
   "source": [
    "library(readxl)\n",
    "library(tidyverse)"
   ]
  },
  {
   "cell_type": "code",
   "execution_count": 3,
   "id": "dcc69cb2",
   "metadata": {},
   "outputs": [],
   "source": [
    "df <- read_excel(\"train.xlsx\")"
   ]
  },
  {
   "cell_type": "code",
   "execution_count": 4,
   "id": "d247986a",
   "metadata": {},
   "outputs": [],
   "source": [
    "names(df) <- gsub(\" \", \"_\", names(df))\n",
    "names(df) <- gsub(\"\\\\(\", \"_\", names(df))\n",
    "names(df) <- gsub(\"\\\\)\", \"_\", names(df))\n",
    "names(df) <- gsub(\"\\\\/\", \"_\", names(df))\n",
    "names(df) <- gsub(\"'\", \"_\", names(df))"
   ]
  },
  {
   "cell_type": "code",
   "execution_count": 5,
   "id": "9c9d08ed",
   "metadata": {},
   "outputs": [],
   "source": [
    "df <-df %>% drop_na()"
   ]
  },
  {
   "cell_type": "code",
   "execution_count": 6,
   "id": "81a0e9be",
   "metadata": {},
   "outputs": [],
   "source": [
    "write.csv(df, \"train.csv\", row.names = FALSE)"
   ]
  },
  {
   "cell_type": "code",
   "execution_count": null,
   "id": "375e9c5b",
   "metadata": {},
   "outputs": [],
   "source": [
    "|"
   ]
  }
 ],
 "metadata": {
  "kernelspec": {
   "display_name": "R",
   "language": "R",
   "name": "ir"
  },
  "language_info": {
   "codemirror_mode": "r",
   "file_extension": ".r",
   "mimetype": "text/x-r-source",
   "name": "R",
   "pygments_lexer": "r",
   "version": "4.1.3"
  }
 },
 "nbformat": 4,
 "nbformat_minor": 5
}
